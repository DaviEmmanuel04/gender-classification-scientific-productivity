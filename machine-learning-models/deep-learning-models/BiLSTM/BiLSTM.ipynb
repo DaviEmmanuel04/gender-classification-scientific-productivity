{
  "cells": [
    {
      "cell_type": "markdown",
      "metadata": {},
      "source": [
        "# 1 Predicting Gender of Brazilian Names Using Deep Learning"
      ]
    },
    {
      "cell_type": "markdown",
      "metadata": {},
      "source": [
        "## 1.1 Necessary libraries"
      ]
    },
    {
      "cell_type": "code",
      "execution_count": 1,
      "metadata": {
        "id": "2ee91486"
      },
      "outputs": [],
      "source": [
        "import pandas as pd                       \n",
        "import numpy as np\n",
        "from tensorflow import keras\n",
        "from keras.layers import Dense, LSTM, Bidirectional, Activation\n",
        "from sklearn.model_selection import train_test_split\n",
        "from tensorflow.keras.regularizers import l2\n",
        "import matplotlib.pyplot as plt"
      ]
    },
    {
      "cell_type": "markdown",
      "metadata": {},
      "source": [
        "## 1.2 Read the dataset"
      ]
    },
    {
      "cell_type": "code",
      "execution_count": 2,
      "metadata": {
        "colab": {
          "base_uri": "https://localhost:8080/",
          "height": 224
        },
        "id": "d73a071b",
        "outputId": "c9c00c27-1bb8-443d-ef9e-db52c2dc7a5d"
      },
      "outputs": [
        {
          "data": {
            "text/html": [
              "<div>\n",
              "<style scoped>\n",
              "    .dataframe tbody tr th:only-of-type {\n",
              "        vertical-align: middle;\n",
              "    }\n",
              "\n",
              "    .dataframe tbody tr th {\n",
              "        vertical-align: top;\n",
              "    }\n",
              "\n",
              "    .dataframe thead th {\n",
              "        text-align: right;\n",
              "    }\n",
              "</style>\n",
              "<table border=\"1\" class=\"dataframe\">\n",
              "  <thead>\n",
              "    <tr style=\"text-align: right;\">\n",
              "      <th></th>\n",
              "      <th>alternative_names</th>\n",
              "      <th>classification</th>\n",
              "      <th>first_name</th>\n",
              "      <th>frequency_female</th>\n",
              "      <th>frequency_male</th>\n",
              "      <th>frequency_total</th>\n",
              "      <th>frequency_group</th>\n",
              "      <th>group_name</th>\n",
              "      <th>ratio</th>\n",
              "    </tr>\n",
              "  </thead>\n",
              "  <tbody>\n",
              "    <tr>\n",
              "      <th>0</th>\n",
              "      <td>AILINE|ALEINE|ALIINE|ALINE|ALINER|ALINHE|ALINN...</td>\n",
              "      <td>F</td>\n",
              "      <td>AALINE</td>\n",
              "      <td>66.0</td>\n",
              "      <td>NaN</td>\n",
              "      <td>66</td>\n",
              "      <td>530550</td>\n",
              "      <td>ALINE</td>\n",
              "      <td>1.0</td>\n",
              "    </tr>\n",
              "    <tr>\n",
              "      <th>1</th>\n",
              "      <td>ARAAO|ARAO</td>\n",
              "      <td>M</td>\n",
              "      <td>AARAO</td>\n",
              "      <td>NaN</td>\n",
              "      <td>281.0</td>\n",
              "      <td>281</td>\n",
              "      <td>3526</td>\n",
              "      <td>ARAO</td>\n",
              "      <td>1.0</td>\n",
              "    </tr>\n",
              "    <tr>\n",
              "      <th>2</th>\n",
              "      <td>AHARON|AROM|ARON|ARYON|HARON</td>\n",
              "      <td>M</td>\n",
              "      <td>AARON</td>\n",
              "      <td>NaN</td>\n",
              "      <td>676.0</td>\n",
              "      <td>676</td>\n",
              "      <td>3442</td>\n",
              "      <td>ARON</td>\n",
              "      <td>1.0</td>\n",
              "    </tr>\n",
              "    <tr>\n",
              "      <th>3</th>\n",
              "      <td>ADA|ADAH|ADAR|ADHA|HADA</td>\n",
              "      <td>F</td>\n",
              "      <td>ABA</td>\n",
              "      <td>82.0</td>\n",
              "      <td>NaN</td>\n",
              "      <td>82</td>\n",
              "      <td>5583</td>\n",
              "      <td>ADA</td>\n",
              "      <td>1.0</td>\n",
              "    </tr>\n",
              "    <tr>\n",
              "      <th>4</th>\n",
              "      <td>NaN</td>\n",
              "      <td>M</td>\n",
              "      <td>ABADE</td>\n",
              "      <td>NaN</td>\n",
              "      <td>57.0</td>\n",
              "      <td>57</td>\n",
              "      <td>57</td>\n",
              "      <td>ABADE</td>\n",
              "      <td>1.0</td>\n",
              "    </tr>\n",
              "  </tbody>\n",
              "</table>\n",
              "</div>"
            ],
            "text/plain": [
              "                                   alternative_names  ... ratio\n",
              "0  AILINE|ALEINE|ALIINE|ALINE|ALINER|ALINHE|ALINN...  ...   1.0\n",
              "1                                         ARAAO|ARAO  ...   1.0\n",
              "2                       AHARON|AROM|ARON|ARYON|HARON  ...   1.0\n",
              "3                            ADA|ADAH|ADAR|ADHA|HADA  ...   1.0\n",
              "4                                                NaN  ...   1.0\n",
              "\n",
              "[5 rows x 9 columns]"
            ]
          },
          "execution_count": 2,
          "metadata": {},
          "output_type": "execute_result"
        }
      ],
      "source": [
        "import requests\n",
        "url = \"https://data.brasil.io/dataset/genero-nomes/nomes.csv.gz\"\n",
        "filename = url.split(\"/\")[-1]\n",
        "with open(filename, \"wb\") as f:\n",
        "    r = requests.get(url)\n",
        "    f.write(r.content)\n",
        "\n",
        "df = pd.read_csv('nomes.csv.gz') \n",
        "df.head()"
      ]
    },
    {
      "cell_type": "markdown",
      "metadata": {},
      "source": [
        "### 1.2.1 Preparing the data"
      ]
    },
    {
      "cell_type": "code",
      "execution_count": 3,
      "metadata": {
        "id": "32fc65dd"
      },
      "outputs": [],
      "source": [
        "y = df['classification'].astype(\"category\").cat.codes.values    # y labels into numbers 0 is F and 1 is M\n",
        "names = df['first_name'].apply(lambda x: x.lower())             # input names"
      ]
    },
    {
      "cell_type": "code",
      "execution_count": 4,
      "metadata": {
        "colab": {
          "base_uri": "https://localhost:8080/"
        },
        "id": "a08be697",
        "outputId": "265f6866-faf5-4c43-a352-60f41c4f52eb"
      },
      "outputs": [
        {
          "name": "stdout",
          "output_type": "stream",
          "text": [
            "M : 45537\n",
            "F : 55250\n",
            "100787\n"
          ]
        }
      ],
      "source": [
        "print(\"M : \" + str(sum(y==1)))\n",
        "print(\"F : \" + str(sum(y==0)))\n",
        "print(len(y))"
      ]
    },
    {
      "cell_type": "markdown",
      "metadata": {},
      "source": [
        "## 1.3 Encoding Words"
      ]
    },
    {
      "cell_type": "code",
      "execution_count": 5,
      "metadata": {
        "colab": {
          "base_uri": "https://localhost:8080/",
          "height": 52
        },
        "id": "9960e119",
        "outputId": "a1263f17-afe4-40b9-bd7d-60eb2c29c989"
      },
      "outputs": [
        {
          "data": {
            "application/vnd.google.colaboratory.intrinsic+json": {
              "type": "string"
            },
            "text/plain": [
              "'This is called one-hot-encoder and is based on the following papers: \\nhttps://arxiv.org/abs/1707.07129 : Predicting the gender of Indonesian names\\nhttps://ieeexplore.ieee.org/document/8560790 : Advance Gender Prediction Tool...\\n '"
            ]
          },
          "execution_count": 5,
          "metadata": {},
          "output_type": "execute_result"
        }
      ],
      "source": [
        "#word encoding\n",
        "maxlen = 20                                               # max lenght of a name\n",
        "\n",
        "'''Define a vocabulary which corresponds to all the unique letters encountered'''\n",
        "vocab = set(' '.join([str(i) for i in names]))            # creating a vocab\n",
        "vocab.add('END')\n",
        "len_vocab = len(vocab)\n",
        "\n",
        "char_index = dict((c, i) for i, c in enumerate(vocab))    # creating a dictionary\n",
        "''' The dictionary maps each letter of vocabulary to a number '''\n",
        "\n",
        "# Builds an empty line with a 1 at the index of character\n",
        "def set_flag(i):\n",
        "    aux = np.zeros(len_vocab);\n",
        "    aux[i] = 1\n",
        "    return list(aux)\n",
        "\n",
        "# Truncate names and create the matrix\n",
        "def prepare_encod_names(X):\n",
        "    vec_names = []\n",
        "    trunc_name = [str(i)[0:maxlen] for i in X]  # consider only the first 20 characters\n",
        "    for i in trunc_name:\n",
        "        tmp = [set_flag(char_index[j]) for j in str(i)]\n",
        "        for k in range(0,maxlen - len(str(i))):\n",
        "            tmp.append(set_flag(char_index[\"END\"]))\n",
        "        vec_names.append(tmp)\n",
        "    return vec_names\n",
        "\n",
        "'''This is called one-hot-encoder and is based on the following papers: \n",
        "https://arxiv.org/abs/1707.07129 : Predicting the gender of Indonesian names\n",
        "https://ieeexplore.ieee.org/document/8560790 : Advance Gender Prediction Tool...\n",
        " '''"
      ]
    },
    {
      "cell_type": "code",
      "execution_count": 6,
      "metadata": {
        "id": "9450712c"
      },
      "outputs": [],
      "source": [
        "x = prepare_encod_names(names.values)   # Now the names are encod as a vector of numbers"
      ]
    },
    {
      "cell_type": "markdown",
      "metadata": {},
      "source": [
        "## 1.4 Split the data into test and train"
      ]
    },
    {
      "cell_type": "code",
      "execution_count": 7,
      "metadata": {
        "id": "54c31f49"
      },
      "outputs": [],
      "source": [
        "# train, val, test set will be 60%, 20%, 25% of the dataset respectively\n",
        "x_train, x_test, y_train, y_test = train_test_split(x, y, test_size=0.2, random_state=28)\n",
        "x_train, x_val, y_train, y_val = train_test_split(x_train, y_train, test_size=0.25, random_state=40)\n",
        "\n",
        "x_train = np.asarray(x_train)\n",
        "y_train = np.asarray(y_train)\n",
        "x_test = np.asarray(x_test)\n",
        "y_test = np.asarray(y_test)\n",
        "x_val = np.asarray(x_val)\n",
        "y_val = np.asarray(y_val)"
      ]
    },
    {
      "cell_type": "markdown",
      "metadata": {},
      "source": [
        "## 1.5 Building the BiLSTM Model"
      ]
    },
    {
      "cell_type": "code",
      "execution_count": 8,
      "metadata": {
        "colab": {
          "base_uri": "https://localhost:8080/"
        },
        "id": "6cab7233",
        "outputId": "bee0eea7-d544-4588-ce89-7175937c48d5"
      },
      "outputs": [
        {
          "name": "stdout",
          "output_type": "stream",
          "text": [
            "Epoch 1/50\n",
            "237/237 [==============================] - 77s 305ms/step - loss: 0.3769 - accuracy: 0.8307 - val_loss: 0.2414 - val_accuracy: 0.9107\n",
            "Epoch 2/50\n",
            "237/237 [==============================] - 72s 305ms/step - loss: 0.2441 - accuracy: 0.9109 - val_loss: 0.2074 - val_accuracy: 0.9291\n",
            "Epoch 3/50\n",
            "237/237 [==============================] - 73s 307ms/step - loss: 0.2162 - accuracy: 0.9234 - val_loss: 0.1982 - val_accuracy: 0.9331\n",
            "Epoch 4/50\n",
            "237/237 [==============================] - 73s 306ms/step - loss: 0.2011 - accuracy: 0.9314 - val_loss: 0.1861 - val_accuracy: 0.9392\n",
            "Epoch 5/50\n",
            "237/237 [==============================] - 73s 309ms/step - loss: 0.1919 - accuracy: 0.9370 - val_loss: 0.1748 - val_accuracy: 0.9453\n",
            "Epoch 6/50\n",
            "237/237 [==============================] - 73s 309ms/step - loss: 0.1822 - accuracy: 0.9404 - val_loss: 0.1706 - val_accuracy: 0.9461\n",
            "Epoch 7/50\n",
            "237/237 [==============================] - 73s 309ms/step - loss: 0.1748 - accuracy: 0.9445 - val_loss: 0.1659 - val_accuracy: 0.9492\n",
            "Epoch 8/50\n",
            "237/237 [==============================] - 73s 309ms/step - loss: 0.1683 - accuracy: 0.9478 - val_loss: 0.1562 - val_accuracy: 0.9546\n",
            "Epoch 9/50\n",
            "237/237 [==============================] - 73s 309ms/step - loss: 0.1618 - accuracy: 0.9510 - val_loss: 0.1563 - val_accuracy: 0.9539\n",
            "Epoch 10/50\n",
            "237/237 [==============================] - 73s 308ms/step - loss: 0.1575 - accuracy: 0.9523 - val_loss: 0.1557 - val_accuracy: 0.9535\n",
            "Epoch 11/50\n",
            "237/237 [==============================] - 73s 308ms/step - loss: 0.1543 - accuracy: 0.9542 - val_loss: 0.1544 - val_accuracy: 0.9540\n",
            "Epoch 12/50\n",
            "237/237 [==============================] - 73s 309ms/step - loss: 0.1512 - accuracy: 0.9554 - val_loss: 0.1484 - val_accuracy: 0.9575\n",
            "Epoch 13/50\n",
            "237/237 [==============================] - 73s 308ms/step - loss: 0.1460 - accuracy: 0.9582 - val_loss: 0.1477 - val_accuracy: 0.9587\n",
            "Epoch 14/50\n",
            "237/237 [==============================] - 73s 309ms/step - loss: 0.1431 - accuracy: 0.9598 - val_loss: 0.1445 - val_accuracy: 0.9590\n",
            "Epoch 15/50\n",
            "237/237 [==============================] - 73s 308ms/step - loss: 0.1397 - accuracy: 0.9612 - val_loss: 0.1477 - val_accuracy: 0.9597\n",
            "Epoch 16/50\n",
            "237/237 [==============================] - 74s 311ms/step - loss: 0.1377 - accuracy: 0.9623 - val_loss: 0.1476 - val_accuracy: 0.9598\n",
            "Epoch 17/50\n",
            "237/237 [==============================] - 73s 308ms/step - loss: 0.1356 - accuracy: 0.9627 - val_loss: 0.1465 - val_accuracy: 0.9594\n",
            "Epoch 18/50\n",
            "237/237 [==============================] - 73s 306ms/step - loss: 0.1327 - accuracy: 0.9648 - val_loss: 0.1454 - val_accuracy: 0.9600\n",
            "Epoch 19/50\n",
            "237/237 [==============================] - 73s 306ms/step - loss: 0.1306 - accuracy: 0.9650 - val_loss: 0.1427 - val_accuracy: 0.9616\n",
            "Epoch 20/50\n",
            "237/237 [==============================] - 72s 306ms/step - loss: 0.1295 - accuracy: 0.9663 - val_loss: 0.1448 - val_accuracy: 0.9595\n",
            "Epoch 21/50\n",
            "237/237 [==============================] - 72s 304ms/step - loss: 0.1274 - accuracy: 0.9669 - val_loss: 0.1418 - val_accuracy: 0.9616\n",
            "Epoch 22/50\n",
            "237/237 [==============================] - 72s 305ms/step - loss: 0.1269 - accuracy: 0.9666 - val_loss: 0.1396 - val_accuracy: 0.9626\n",
            "Epoch 23/50\n",
            "237/237 [==============================] - 72s 302ms/step - loss: 0.1238 - accuracy: 0.9679 - val_loss: 0.1379 - val_accuracy: 0.9623\n",
            "Epoch 24/50\n",
            "237/237 [==============================] - 72s 306ms/step - loss: 0.1233 - accuracy: 0.9686 - val_loss: 0.1421 - val_accuracy: 0.9618\n",
            "Epoch 25/50\n",
            "237/237 [==============================] - 72s 305ms/step - loss: 0.1224 - accuracy: 0.9689 - val_loss: 0.1406 - val_accuracy: 0.9619\n",
            "Epoch 26/50\n",
            "237/237 [==============================] - 72s 305ms/step - loss: 0.1200 - accuracy: 0.9705 - val_loss: 0.1388 - val_accuracy: 0.9624\n",
            "Epoch 27/50\n",
            "237/237 [==============================] - 73s 309ms/step - loss: 0.1190 - accuracy: 0.9704 - val_loss: 0.1405 - val_accuracy: 0.9624\n",
            "Epoch 28/50\n",
            "237/237 [==============================] - 72s 305ms/step - loss: 0.1183 - accuracy: 0.9713 - val_loss: 0.1409 - val_accuracy: 0.9627\n",
            "Epoch 29/50\n",
            "237/237 [==============================] - 73s 306ms/step - loss: 0.1176 - accuracy: 0.9716 - val_loss: 0.1422 - val_accuracy: 0.9632\n",
            "Epoch 30/50\n",
            "237/237 [==============================] - 72s 306ms/step - loss: 0.1147 - accuracy: 0.9731 - val_loss: 0.1416 - val_accuracy: 0.9629\n",
            "Epoch 31/50\n",
            "237/237 [==============================] - 72s 306ms/step - loss: 0.1159 - accuracy: 0.9722 - val_loss: 0.1466 - val_accuracy: 0.9618\n",
            "Epoch 32/50\n",
            "237/237 [==============================] - 72s 306ms/step - loss: 0.1136 - accuracy: 0.9730 - val_loss: 0.1413 - val_accuracy: 0.9631\n",
            "Epoch 33/50\n",
            "237/237 [==============================] - 72s 305ms/step - loss: 0.1125 - accuracy: 0.9735 - val_loss: 0.1394 - val_accuracy: 0.9622\n",
            "Epoch 34/50\n",
            "237/237 [==============================] - 73s 309ms/step - loss: 0.1133 - accuracy: 0.9736 - val_loss: 0.1380 - val_accuracy: 0.9631\n",
            "Epoch 35/50\n",
            "237/237 [==============================] - 73s 307ms/step - loss: 0.1111 - accuracy: 0.9739 - val_loss: 0.1380 - val_accuracy: 0.9639\n",
            "Epoch 36/50\n",
            "237/237 [==============================] - 72s 303ms/step - loss: 0.1099 - accuracy: 0.9754 - val_loss: 0.1414 - val_accuracy: 0.9626\n",
            "Epoch 37/50\n",
            "237/237 [==============================] - 72s 305ms/step - loss: 0.1115 - accuracy: 0.9750 - val_loss: 0.1364 - val_accuracy: 0.9636\n",
            "Epoch 38/50\n",
            "237/237 [==============================] - 72s 306ms/step - loss: 0.1095 - accuracy: 0.9745 - val_loss: 0.1381 - val_accuracy: 0.9632\n",
            "Epoch 39/50\n",
            "237/237 [==============================] - 73s 307ms/step - loss: 0.1077 - accuracy: 0.9765 - val_loss: 0.1412 - val_accuracy: 0.9637\n",
            "Epoch 40/50\n",
            "237/237 [==============================] - 72s 305ms/step - loss: 0.1086 - accuracy: 0.9754 - val_loss: 0.1378 - val_accuracy: 0.9642\n",
            "Epoch 41/50\n",
            "237/237 [==============================] - 72s 304ms/step - loss: 0.1074 - accuracy: 0.9762 - val_loss: 0.1386 - val_accuracy: 0.9647\n",
            "Epoch 42/50\n",
            "237/237 [==============================] - 73s 307ms/step - loss: 0.1072 - accuracy: 0.9762 - val_loss: 0.1399 - val_accuracy: 0.9638\n",
            "Epoch 43/50\n",
            "237/237 [==============================] - 73s 309ms/step - loss: 0.1068 - accuracy: 0.9762 - val_loss: 0.1408 - val_accuracy: 0.9639\n",
            "Epoch 44/50\n",
            "237/237 [==============================] - 72s 306ms/step - loss: 0.1070 - accuracy: 0.9765 - val_loss: 0.1373 - val_accuracy: 0.9650\n",
            "Epoch 45/50\n",
            "237/237 [==============================] - 72s 305ms/step - loss: 0.1056 - accuracy: 0.9770 - val_loss: 0.1399 - val_accuracy: 0.9652\n",
            "Epoch 46/50\n",
            "237/237 [==============================] - 72s 306ms/step - loss: 0.1050 - accuracy: 0.9777 - val_loss: 0.1399 - val_accuracy: 0.9642\n",
            "Epoch 47/50\n",
            "237/237 [==============================] - 72s 305ms/step - loss: 0.1042 - accuracy: 0.9778 - val_loss: 0.1389 - val_accuracy: 0.9646\n",
            "Epoch 48/50\n",
            "237/237 [==============================] - 73s 306ms/step - loss: 0.1042 - accuracy: 0.9777 - val_loss: 0.1412 - val_accuracy: 0.9649\n",
            "Epoch 49/50\n",
            "237/237 [==============================] - 73s 307ms/step - loss: 0.1031 - accuracy: 0.9781 - val_loss: 0.1401 - val_accuracy: 0.9648\n",
            "Epoch 50/50\n",
            "237/237 [==============================] - 72s 306ms/step - loss: 0.1024 - accuracy: 0.9787 - val_loss: 0.1423 - val_accuracy: 0.9643\n",
            "630/630 [==============================] - 8s 13ms/step - loss: 0.1425 - accuracy: 0.9643\n",
            "Accuracy: 96.43%\n"
          ]
        }
      ],
      "source": [
        "LSTMmodel = keras.Sequential()\n",
        "LSTMmodel.add(Bidirectional(LSTM(128, return_sequences=False, dropout=0.2, recurrent_dropout=0.2), \n",
        "                            backward_layer=LSTM(128, return_sequences=False, go_backwards=True, dropout=0.2, recurrent_dropout=0.2),\n",
        "                            input_shape=(maxlen,len_vocab)))\n",
        "LSTMmodel.add(Dense(1, activity_regularizer=l2(0.002)))\n",
        "LSTMmodel.add(Activation('sigmoid'))\n",
        "\n",
        "lr_schedule = keras.optimizers.schedules.ExponentialDecay(\n",
        "    initial_learning_rate=1e-2,\n",
        "    decay_steps=10000,\n",
        "    decay_rate=0.9)\n",
        "opt = keras.optimizers.Adam(learning_rate=lr_schedule)\n",
        "LSTMmodel.compile(loss='binary_crossentropy', optimizer=opt, metrics=['accuracy'])\n",
        "\n",
        "LSTMhistory = LSTMmodel.fit(x_train, y_train, batch_size=256, epochs=50, validation_data=(x_val, y_val))\n",
        "LSTMscores = LSTMmodel.evaluate(x_test, y_test)\n",
        "print(\"Accuracy: %.2f%%\" % (LSTMscores[1]*100))"
      ]
    },
    {
      "cell_type": "markdown",
      "metadata": {},
      "source": [
        "## 1.6 Figures"
      ]
    },
    {
      "cell_type": "code",
      "execution_count": 10,
      "metadata": {
        "colab": {
          "base_uri": "https://localhost:8080/",
          "height": 374
        },
        "id": "qeYxbzeKvCUl",
        "outputId": "a4be50c6-26d1-43dc-b6ae-cccb5e118f73"
      },
      "outputs": [
        {
          "data": {
            "text/plain": [
              "<matplotlib.legend.Legend at 0x7fd5512dc850>"
            ]
          },
          "execution_count": 10,
          "metadata": {},
          "output_type": "execute_result"
        },
        {
          "data": {
            "text/plain": [
              "<Figure size 432x288 with 0 Axes>"
            ]
          },
          "metadata": {},
          "output_type": "display_data"
        },
        {
          "data": {
            "image/png": "[encoded data removed]",
            "text/plain": [
              "<Figure size 648x360 with 1 Axes>"
            ]
          },
          "metadata": {
            "needs_background": "light"
          },
          "output_type": "display_data"
        }
      ],
      "source": [
        "plt.figure(1)\n",
        "plt.figure(figsize=(9,5))\n",
        "plt.rcParams.update({'font.size':12})\n",
        "plt.plot(LSTMhistory.history['accuracy'], 'r--')\n",
        "plt.plot(LSTMhistory.history['val_accuracy'], 'r-v')\n",
        "plt.grid('True')\n",
        "plt.ylabel('Accuracy')\n",
        "plt.xlabel('Epoch')\n",
        "plt.legend(['Train-BiLSTM', 'Val-BiLSTM'], loc='lower right')"
      ]
    },
    {
      "cell_type": "code",
      "execution_count": 11,
      "metadata": {
        "colab": {
          "base_uri": "https://localhost:8080/",
          "height": 285
        },
        "id": "mXMCWJJgjeYZ",
        "outputId": "592c52e8-b53a-4090-cc87-e804af399aaa"
      },
      "outputs": [
        {
          "data": {
            "image/png": "[encoded data removed]",
            "text/plain": [
              "<Figure size 432x288 with 1 Axes>"
            ]
          },
          "metadata": {
            "needs_background": "light"
          },
          "output_type": "display_data"
        }
      ],
      "source": [
        "plt.figure(2)\n",
        "plt.plot(LSTMhistory.history['loss'], 'r--')\n",
        "plt.plot(LSTMhistory.history['val_loss'], 'r-v')\n",
        "plt.ylabel('Loss')\n",
        "plt.xlabel('Epoch')\n",
        "plt.legend(['Train-BiLSTM', 'Val-BiLSTM'], loc='upper right')\n",
        "plt.grid('True')"
      ]
    },
    {
      "cell_type": "markdown",
      "metadata": {},
      "source": [
        "## 1.7 Statistics"
      ]
    },
    {
      "cell_type": "code",
      "execution_count": 12,
      "metadata": {
        "id": "udQqnkojjjz2"
      },
      "outputs": [],
      "source": [
        "y_pred = (LSTMmodel.predict(x_test)>0.5).astype(\"int32\")"
      ]
    },
    {
      "cell_type": "code",
      "execution_count": 13,
      "metadata": {
        "colab": {
          "base_uri": "https://localhost:8080/"
        },
        "id": "9E5q7c9_jmAc",
        "outputId": "8b80b2dd-0362-4ec5-e5ae-319468097097"
      },
      "outputs": [
        {
          "name": "stdout",
          "output_type": "stream",
          "text": [
            "precision 0.9622 recall 0.9586\n"
          ]
        }
      ],
      "source": [
        "from sklearn.metrics import precision_score, recall_score\n",
        "print(\"precision {0:.4f} recall {1:.4f}\".format(precision_score(y_test, y_pred), recall_score(y_test, y_pred)))"
      ]
    },
    {
      "cell_type": "markdown",
      "metadata": {},
      "source": [
        "F1-Score: 0.9603"
      ]
    },
    {
      "cell_type": "code",
      "execution_count": null,
      "metadata": {
        "id": "VUIt5avO32Eq"
      },
      "outputs": [],
      "source": []
    }
  ],
  "metadata": {
    "colab": {
      "collapsed_sections": [],
      "name": "BiLSTM.ipynb",
      "provenance": []
    },
    "kernelspec": {
      "display_name": "Python 3",
      "name": "python3"
    },
    "language_info": {
      "name": "python"
    }
  },
  "nbformat": 4,
  "nbformat_minor": 0
}
