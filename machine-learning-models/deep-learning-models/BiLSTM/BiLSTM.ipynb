{
 "cells": [
  {
   "cell_type": "markdown",
   "metadata": {},
   "source": [
    "# 1 Predicting Gender of Brazilian Names Using Deep Learning"
   ]
  },
  {
   "cell_type": "markdown",
   "metadata": {},
   "source": [
    "## 1.1 Necessary libraries"
   ]
  },
  {
   "cell_type": "code",
   "execution_count": 1,
   "metadata": {
    "id": "2ee91486"
   },
   "outputs": [],
   "source": [
    "import pandas as pd                       \n",
    "import numpy as np\n",
    "from tensorflow import keras\n",
    "from tensorflow.keras.regularizers import l2\n",
    "from keras.callbacks import EarlyStopping\n",
    "from keras.layers import Dropout, Flatten, TimeDistributed\n",
    "from keras.layers import Dense, LSTM, Bidirectional, Activation\n",
    "from sklearn.model_selection import train_test_split\n",
    "import matplotlib.pyplot as plt"
   ]
  },
  {
   "cell_type": "markdown",
   "metadata": {},
   "source": [
    "## 1.2 Read the dataset"
   ]
  },
  {
   "cell_type": "code",
   "execution_count": 2,
   "metadata": {
    "colab": {
     "base_uri": "https://localhost:8080/",
     "height": 224
    },
    "id": "d73a071b",
    "outputId": "c9c00c27-1bb8-443d-ef9e-db52c2dc7a5d"
   },
   "outputs": [
    {
     "data": {
      "text/html": [
       "<div>\n",
       "<style scoped>\n",
       "    .dataframe tbody tr th:only-of-type {\n",
       "        vertical-align: middle;\n",
       "    }\n",
       "\n",
       "    .dataframe tbody tr th {\n",
       "        vertical-align: top;\n",
       "    }\n",
       "\n",
       "    .dataframe thead th {\n",
       "        text-align: right;\n",
       "    }\n",
       "</style>\n",
       "<table border=\"1\" class=\"dataframe\">\n",
       "  <thead>\n",
       "    <tr style=\"text-align: right;\">\n",
       "      <th></th>\n",
       "      <th>alternative_names</th>\n",
       "      <th>classification</th>\n",
       "      <th>first_name</th>\n",
       "      <th>frequency_female</th>\n",
       "      <th>frequency_male</th>\n",
       "      <th>frequency_total</th>\n",
       "      <th>frequency_group</th>\n",
       "      <th>group_name</th>\n",
       "      <th>ratio</th>\n",
       "    </tr>\n",
       "  </thead>\n",
       "  <tbody>\n",
       "    <tr>\n",
       "      <th>0</th>\n",
       "      <td>AILINE|ALEINE|ALIINE|ALINE|ALINER|ALINHE|ALINN...</td>\n",
       "      <td>F</td>\n",
       "      <td>AALINE</td>\n",
       "      <td>66.0</td>\n",
       "      <td>NaN</td>\n",
       "      <td>66</td>\n",
       "      <td>530550</td>\n",
       "      <td>ALINE</td>\n",
       "      <td>1.0</td>\n",
       "    </tr>\n",
       "    <tr>\n",
       "      <th>1</th>\n",
       "      <td>ARAAO|ARAO</td>\n",
       "      <td>M</td>\n",
       "      <td>AARAO</td>\n",
       "      <td>NaN</td>\n",
       "      <td>281.0</td>\n",
       "      <td>281</td>\n",
       "      <td>3526</td>\n",
       "      <td>ARAO</td>\n",
       "      <td>1.0</td>\n",
       "    </tr>\n",
       "    <tr>\n",
       "      <th>2</th>\n",
       "      <td>AHARON|AROM|ARON|ARYON|HARON</td>\n",
       "      <td>M</td>\n",
       "      <td>AARON</td>\n",
       "      <td>NaN</td>\n",
       "      <td>676.0</td>\n",
       "      <td>676</td>\n",
       "      <td>3442</td>\n",
       "      <td>ARON</td>\n",
       "      <td>1.0</td>\n",
       "    </tr>\n",
       "    <tr>\n",
       "      <th>3</th>\n",
       "      <td>ADA|ADAH|ADAR|ADHA|HADA</td>\n",
       "      <td>F</td>\n",
       "      <td>ABA</td>\n",
       "      <td>82.0</td>\n",
       "      <td>NaN</td>\n",
       "      <td>82</td>\n",
       "      <td>5583</td>\n",
       "      <td>ADA</td>\n",
       "      <td>1.0</td>\n",
       "    </tr>\n",
       "    <tr>\n",
       "      <th>4</th>\n",
       "      <td>NaN</td>\n",
       "      <td>M</td>\n",
       "      <td>ABADE</td>\n",
       "      <td>NaN</td>\n",
       "      <td>57.0</td>\n",
       "      <td>57</td>\n",
       "      <td>57</td>\n",
       "      <td>ABADE</td>\n",
       "      <td>1.0</td>\n",
       "    </tr>\n",
       "  </tbody>\n",
       "</table>\n",
       "</div>"
      ],
      "text/plain": [
       "                                   alternative_names classification  \\\n",
       "0  AILINE|ALEINE|ALIINE|ALINE|ALINER|ALINHE|ALINN...              F   \n",
       "1                                         ARAAO|ARAO              M   \n",
       "2                       AHARON|AROM|ARON|ARYON|HARON              M   \n",
       "3                            ADA|ADAH|ADAR|ADHA|HADA              F   \n",
       "4                                                NaN              M   \n",
       "\n",
       "  first_name  frequency_female  frequency_male  frequency_total  \\\n",
       "0     AALINE              66.0             NaN               66   \n",
       "1      AARAO               NaN           281.0              281   \n",
       "2      AARON               NaN           676.0              676   \n",
       "3        ABA              82.0             NaN               82   \n",
       "4      ABADE               NaN            57.0               57   \n",
       "\n",
       "   frequency_group group_name  ratio  \n",
       "0           530550      ALINE    1.0  \n",
       "1             3526       ARAO    1.0  \n",
       "2             3442       ARON    1.0  \n",
       "3             5583        ADA    1.0  \n",
       "4               57      ABADE    1.0  "
      ]
     },
     "execution_count": 2,
     "metadata": {},
     "output_type": "execute_result"
    }
   ],
   "source": [
    "import requests\n",
    "url = \"https://data.brasil.io/dataset/genero-nomes/nomes.csv.gz\"\n",
    "filename = url.split(\"/\")[-1]\n",
    "with open(filename, \"wb\") as f:\n",
    "    r = requests.get(url)\n",
    "    f.write(r.content)\n",
    "\n",
    "df = pd.read_csv('nomes.csv.gz') \n",
    "df.head()"
   ]
  },
  {
   "cell_type": "markdown",
   "metadata": {},
   "source": [
    "### 1.2.1 Preparing the data"
   ]
  },
  {
   "cell_type": "code",
   "execution_count": 3,
   "metadata": {
    "id": "32fc65dd"
   },
   "outputs": [],
   "source": [
    "y = df['classification'].astype(\"category\").cat.codes.values    # y labels into numbers 0 is F and 1 is M\n",
    "names = df['first_name'].apply(lambda x: x.lower())             # input names"
   ]
  },
  {
   "cell_type": "code",
   "execution_count": 4,
   "metadata": {
    "colab": {
     "base_uri": "https://localhost:8080/"
    },
    "id": "a08be697",
    "outputId": "265f6866-faf5-4c43-a352-60f41c4f52eb"
   },
   "outputs": [
    {
     "name": "stdout",
     "output_type": "stream",
     "text": [
      "M : 45537\n",
      "F : 55250\n",
      "100787\n"
     ]
    }
   ],
   "source": [
    "print(\"M : \" + str(sum(y==1)))\n",
    "print(\"F : \" + str(sum(y==0)))\n",
    "print(len(y))"
   ]
  },
  {
   "cell_type": "markdown",
   "metadata": {},
   "source": [
    "## 1.3 Encoding Words"
   ]
  },
  {
   "cell_type": "code",
   "execution_count": 5,
   "metadata": {
    "colab": {
     "base_uri": "https://localhost:8080/",
     "height": 52
    },
    "id": "9960e119",
    "outputId": "a1263f17-afe4-40b9-bd7d-60eb2c29c989"
   },
   "outputs": [
    {
     "data": {
      "text/plain": [
       "'This is called one-hot-encoder and is based on the following papers: \\nhttps://arxiv.org/abs/1707.07129 : Predicting the gender of Indonesian names\\nhttps://ieeexplore.ieee.org/document/8560790 : Advance Gender Prediction Tool...\\n '"
      ]
     },
     "execution_count": 5,
     "metadata": {},
     "output_type": "execute_result"
    }
   ],
   "source": [
    "#word encoding\n",
    "maxlen = 20                                               # max lenght of a name\n",
    "\n",
    "'''Define a vocabulary which corresponds to all the unique letters encountered'''\n",
    "vocab = set(' '.join([str(i) for i in names]))            # creating a vocab\n",
    "vocab.add('END')\n",
    "len_vocab = len(vocab)\n",
    "\n",
    "char_index = dict((c, i) for i, c in enumerate(vocab))    # creating a dictionary\n",
    "''' The dictionary maps each letter of vocabulary to a number '''\n",
    "\n",
    "# Builds an empty line with a 1 at the index of character\n",
    "def set_flag(i):\n",
    "    aux = np.zeros(len_vocab);\n",
    "    aux[i] = 1\n",
    "    return list(aux)\n",
    "\n",
    "# Truncate names and create the matrix\n",
    "def prepare_encod_names(X):\n",
    "    vec_names = []\n",
    "    trunc_name = [str(i)[0:maxlen] for i in X]  # consider only the first 20 characters\n",
    "    for i in trunc_name:\n",
    "        tmp = [set_flag(char_index[j]) for j in str(i)]\n",
    "        for k in range(0,maxlen - len(str(i))):\n",
    "            tmp.append(set_flag(char_index[\"END\"]))\n",
    "        vec_names.append(tmp)\n",
    "    return vec_names\n",
    "\n",
    "'''This is called one-hot-encoder and is based on the following papers: \n",
    "https://arxiv.org/abs/1707.07129 : Predicting the gender of Indonesian names\n",
    "https://ieeexplore.ieee.org/document/8560790 : Advance Gender Prediction Tool...\n",
    " '''"
   ]
  },
  {
   "cell_type": "code",
   "execution_count": 6,
   "metadata": {
    "id": "9450712c"
   },
   "outputs": [],
   "source": [
    "x = prepare_encod_names(names.values)   # Now the names are encod as a vector of numbers"
   ]
  },
  {
   "cell_type": "markdown",
   "metadata": {},
   "source": [
    "## 1.4 Split the data into test and train"
   ]
  },
  {
   "cell_type": "code",
   "execution_count": 7,
   "metadata": {
    "id": "54c31f49"
   },
   "outputs": [],
   "source": [
    "# train, val, test set will be 20%, 60%, 20% of the dataset respectively\n",
    "x_train, x_test, y_train, y_test = train_test_split(x, y, test_size=0.2, random_state=28)\n",
    "x_train, x_val, y_train, y_val = train_test_split(x_train, y_train, test_size=0.2, random_state=40)\n",
    "\n",
    "x_train = np.asarray(x_train)\n",
    "y_train = np.asarray(y_train)\n",
    "x_test = np.asarray(x_test)\n",
    "y_test = np.asarray(y_test)\n",
    "x_val = np.asarray(x_val)\n",
    "y_val = np.asarray(y_val)"
   ]
  },
  {
   "cell_type": "markdown",
   "metadata": {},
   "source": [
    "## 1.5 Building the BiLSTM Model"
   ]
  },
  {
   "cell_type": "code",
   "execution_count": null,
   "metadata": {},
   "outputs": [],
   "source": [
    "callbacks = [EarlyStopping(monitor='val_loss', mode='min', verbose=1, patience=10)]"
   ]
  },
  {
   "cell_type": "code",
   "execution_count": 8,
   "metadata": {
    "colab": {
     "base_uri": "https://localhost:8080/"
    },
    "id": "6cab7233",
    "outputId": "bee0eea7-d544-4588-ce89-7175937c48d5"
   },
   "outputs": [
    {
     "name": "stdout",
     "output_type": "stream",
     "text": [
      "Epoch 1/50\n",
      "237/237 [==============================] - 51s 192ms/step - loss: 0.3774 - accuracy: 0.8280 - val_loss: 0.2394 - val_accuracy: 0.9132\n",
      "Epoch 2/50\n",
      "237/237 [==============================] - 47s 197ms/step - loss: 0.2438 - accuracy: 0.9107 - val_loss: 0.2100 - val_accuracy: 0.9279\n",
      "Epoch 3/50\n",
      "237/237 [==============================] - 47s 198ms/step - loss: 0.2184 - accuracy: 0.9233 - val_loss: 0.2104 - val_accuracy: 0.9259\n",
      "Epoch 4/50\n",
      "237/237 [==============================] - 47s 199ms/step - loss: 0.2014 - accuracy: 0.9313 - val_loss: 0.1871 - val_accuracy: 0.9424\n",
      "Epoch 5/50\n",
      "237/237 [==============================] - 47s 197ms/step - loss: 0.1908 - accuracy: 0.9371 - val_loss: 0.1742 - val_accuracy: 0.9457\n",
      "Epoch 6/50\n",
      "237/237 [==============================] - 47s 197ms/step - loss: 0.1812 - accuracy: 0.9420 - val_loss: 0.1783 - val_accuracy: 0.9422\n",
      "Epoch 7/50\n",
      "237/237 [==============================] - 47s 198ms/step - loss: 0.1749 - accuracy: 0.9453 - val_loss: 0.1638 - val_accuracy: 0.9510\n",
      "Epoch 8/50\n",
      "237/237 [==============================] - 44s 184ms/step - loss: 0.1662 - accuracy: 0.9488 - val_loss: 0.1615 - val_accuracy: 0.9503\n",
      "Epoch 9/50\n",
      "237/237 [==============================] - 44s 186ms/step - loss: 0.1617 - accuracy: 0.9508 - val_loss: 0.1566 - val_accuracy: 0.9532\n",
      "Epoch 10/50\n",
      "237/237 [==============================] - 44s 184ms/step - loss: 0.1579 - accuracy: 0.9528 - val_loss: 0.1545 - val_accuracy: 0.9545\n",
      "Epoch 11/50\n",
      "237/237 [==============================] - 43s 182ms/step - loss: 0.1529 - accuracy: 0.9548 - val_loss: 0.1532 - val_accuracy: 0.9552\n",
      "Epoch 12/50\n",
      "237/237 [==============================] - 44s 184ms/step - loss: 0.1509 - accuracy: 0.9562 - val_loss: 0.1508 - val_accuracy: 0.9564\n",
      "Epoch 13/50\n",
      "237/237 [==============================] - 44s 187ms/step - loss: 0.1466 - accuracy: 0.9593 - val_loss: 0.1484 - val_accuracy: 0.9573\n",
      "Epoch 14/50\n",
      "237/237 [==============================] - 44s 185ms/step - loss: 0.1437 - accuracy: 0.9589 - val_loss: 0.1542 - val_accuracy: 0.9563\n",
      "Epoch 15/50\n",
      "237/237 [==============================] - 44s 183ms/step - loss: 0.1396 - accuracy: 0.9614 - val_loss: 0.1476 - val_accuracy: 0.9580\n",
      "Epoch 16/50\n",
      "237/237 [==============================] - 43s 182ms/step - loss: 0.1375 - accuracy: 0.9620 - val_loss: 0.1469 - val_accuracy: 0.9596\n",
      "Epoch 17/50\n",
      "237/237 [==============================] - 43s 183ms/step - loss: 0.1346 - accuracy: 0.9637 - val_loss: 0.1475 - val_accuracy: 0.9594\n",
      "Epoch 18/50\n",
      "237/237 [==============================] - 44s 185ms/step - loss: 0.1353 - accuracy: 0.9631 - val_loss: 0.1454 - val_accuracy: 0.9610\n",
      "Epoch 19/50\n",
      "237/237 [==============================] - 44s 184ms/step - loss: 0.1322 - accuracy: 0.9643 - val_loss: 0.1455 - val_accuracy: 0.9606\n",
      "Epoch 20/50\n",
      "237/237 [==============================] - 44s 186ms/step - loss: 0.1302 - accuracy: 0.9654 - val_loss: 0.1441 - val_accuracy: 0.9608\n",
      "Epoch 21/50\n",
      "237/237 [==============================] - 44s 185ms/step - loss: 0.1275 - accuracy: 0.9668 - val_loss: 0.1472 - val_accuracy: 0.9608\n",
      "Epoch 22/50\n",
      "237/237 [==============================] - 44s 184ms/step - loss: 0.1257 - accuracy: 0.9678 - val_loss: 0.1464 - val_accuracy: 0.9606\n",
      "Epoch 23/50\n",
      "237/237 [==============================] - 44s 185ms/step - loss: 0.1261 - accuracy: 0.9675 - val_loss: 0.1442 - val_accuracy: 0.9617\n",
      "Epoch 24/50\n",
      "237/237 [==============================] - 44s 185ms/step - loss: 0.1231 - accuracy: 0.9689 - val_loss: 0.1444 - val_accuracy: 0.9615\n",
      "Epoch 25/50\n",
      "237/237 [==============================] - 44s 187ms/step - loss: 0.1229 - accuracy: 0.9691 - val_loss: 0.1464 - val_accuracy: 0.9609\n",
      "Epoch 26/50\n",
      "237/237 [==============================] - 45s 189ms/step - loss: 0.1207 - accuracy: 0.9701 - val_loss: 0.1462 - val_accuracy: 0.9610\n",
      "Epoch 27/50\n",
      "237/237 [==============================] - 44s 188ms/step - loss: 0.1205 - accuracy: 0.9705 - val_loss: 0.1421 - val_accuracy: 0.9629\n",
      "Epoch 28/50\n",
      "237/237 [==============================] - 45s 189ms/step - loss: 0.1196 - accuracy: 0.9703 - val_loss: 0.1418 - val_accuracy: 0.9630\n",
      "Epoch 29/50\n",
      "237/237 [==============================] - 45s 188ms/step - loss: 0.1183 - accuracy: 0.9708 - val_loss: 0.1412 - val_accuracy: 0.9630\n",
      "Epoch 30/50\n",
      "237/237 [==============================] - 45s 189ms/step - loss: 0.1171 - accuracy: 0.9715 - val_loss: 0.1411 - val_accuracy: 0.9628\n",
      "Epoch 31/50\n",
      "237/237 [==============================] - 44s 186ms/step - loss: 0.1154 - accuracy: 0.9726 - val_loss: 0.1431 - val_accuracy: 0.9622\n",
      "Epoch 32/50\n",
      "237/237 [==============================] - 44s 186ms/step - loss: 0.1160 - accuracy: 0.9718 - val_loss: 0.1423 - val_accuracy: 0.9622\n",
      "Epoch 33/50\n",
      "237/237 [==============================] - 44s 188ms/step - loss: 0.1138 - accuracy: 0.9736 - val_loss: 0.1415 - val_accuracy: 0.9628\n",
      "Epoch 34/50\n",
      "237/237 [==============================] - 44s 187ms/step - loss: 0.1124 - accuracy: 0.9739 - val_loss: 0.1380 - val_accuracy: 0.9646\n",
      "Epoch 35/50\n",
      "237/237 [==============================] - 44s 186ms/step - loss: 0.1116 - accuracy: 0.9742 - val_loss: 0.1425 - val_accuracy: 0.9634\n",
      "Epoch 36/50\n",
      "237/237 [==============================] - 44s 185ms/step - loss: 0.1108 - accuracy: 0.9748 - val_loss: 0.1412 - val_accuracy: 0.9636\n",
      "Epoch 37/50\n",
      "237/237 [==============================] - 45s 192ms/step - loss: 0.1104 - accuracy: 0.9750 - val_loss: 0.1414 - val_accuracy: 0.9639\n",
      "Epoch 38/50\n",
      "237/237 [==============================] - 44s 187ms/step - loss: 0.1095 - accuracy: 0.9756 - val_loss: 0.1413 - val_accuracy: 0.9632\n",
      "Epoch 39/50\n",
      "237/237 [==============================] - 45s 190ms/step - loss: 0.1088 - accuracy: 0.9755 - val_loss: 0.1414 - val_accuracy: 0.9639\n",
      "Epoch 40/50\n",
      "237/237 [==============================] - 44s 187ms/step - loss: 0.1085 - accuracy: 0.9756 - val_loss: 0.1394 - val_accuracy: 0.9638\n",
      "Epoch 41/50\n",
      "237/237 [==============================] - 44s 187ms/step - loss: 0.1068 - accuracy: 0.9760 - val_loss: 0.1402 - val_accuracy: 0.9647\n",
      "Epoch 42/50\n",
      "237/237 [==============================] - 44s 187ms/step - loss: 0.1094 - accuracy: 0.9757 - val_loss: 0.1399 - val_accuracy: 0.9642\n",
      "Epoch 43/50\n",
      "237/237 [==============================] - 45s 188ms/step - loss: 0.1070 - accuracy: 0.9764 - val_loss: 0.1410 - val_accuracy: 0.9636\n",
      "Epoch 44/50\n",
      "237/237 [==============================] - 45s 189ms/step - loss: 0.1062 - accuracy: 0.9765 - val_loss: 0.1413 - val_accuracy: 0.9636\n",
      "Epoch 45/50\n",
      "237/237 [==============================] - 45s 188ms/step - loss: 0.1073 - accuracy: 0.9758 - val_loss: 0.1404 - val_accuracy: 0.9638\n",
      "Epoch 46/50\n",
      "237/237 [==============================] - 45s 189ms/step - loss: 0.1049 - accuracy: 0.9777 - val_loss: 0.1396 - val_accuracy: 0.9656\n",
      "Epoch 47/50\n",
      "237/237 [==============================] - 44s 186ms/step - loss: 0.1039 - accuracy: 0.9777 - val_loss: 0.1399 - val_accuracy: 0.9651\n",
      "Epoch 48/50\n",
      "237/237 [==============================] - 45s 188ms/step - loss: 0.1048 - accuracy: 0.9777 - val_loss: 0.1393 - val_accuracy: 0.9647\n",
      "Epoch 49/50\n",
      "237/237 [==============================] - 45s 191ms/step - loss: 0.1048 - accuracy: 0.9776 - val_loss: 0.1395 - val_accuracy: 0.9647\n",
      "Epoch 50/50\n",
      "237/237 [==============================] - 45s 191ms/step - loss: 0.1022 - accuracy: 0.9783 - val_loss: 0.1387 - val_accuracy: 0.9647\n",
      "630/630 [==============================] - 5s 8ms/step - loss: 0.1385 - accuracy: 0.9652\n",
      "Accuracy: 96.52%\n"
     ]
    }
   ],
   "source": [
    "LSTMmodel = keras.Sequential()\n",
    "LSTMmodel = keras.Sequential()\n",
    "LSTMmodel.add(Bidirectional(LSTM(64, return_sequences=True), backward_layer=LSTM(64, return_sequences=True, go_backwards=True), input_shape=(maxlen,len_vocab)))\n",
    "LSTMmodel.add(Dropout(0.1))\n",
    "LSTMmodel.add(Bidirectional(LSTM(64)))\n",
    "#LSTMmodel.add(Dropout(0.2))\n",
    "LSTMmodel.add(Dense(1, activity_regularizer=l2(0.002)))\n",
    "LSTMmodel.add(Activation('sigmoid'))\n",
    "\n",
    "opt = keras.optimizers.Adam(learning_rate=0.001)\n",
    "LSTMmodel.compile(loss='binary_crossentropy', optimizer=opt, metrics=['accuracy'])\n",
    "\n",
    "LSTMhistory = LSTMmodel.fit(x_train, y_train, batch_size=256, epochs=50, validation_data=(x_val, y_val), callbacks=callbacks)\n",
    "LSTMscores = LSTMmodel.evaluate(x_test, y_test)\n",
    "print(\"Accuracy: %.2f%%\" % (LSTMscores[1]*100))"
   ]
  },
  {
   "cell_type": "markdown",
   "metadata": {},
   "source": [
    "## 1.6 Figures"
   ]
  },
  {
   "cell_type": "code",
   "execution_count": 9,
   "metadata": {
    "colab": {
     "base_uri": "https://localhost:8080/",
     "height": 374
    },
    "id": "qeYxbzeKvCUl",
    "outputId": "a4be50c6-26d1-43dc-b6ae-cccb5e118f73"
   },
   "outputs": [
    {
     "data": {
      "text/plain": [
       "<matplotlib.legend.Legend at 0x299a7a0b490>"
      ]
     },
     "execution_count": 9,
     "metadata": {},
     "output_type": "execute_result"
    },
    {
     "data": {
      "text/plain": [
       "<Figure size 432x288 with 0 Axes>"
      ]
     },
     "metadata": {},
     "output_type": "display_data"
    },
    {
     "data": {
      "image/png": "[encoded data removed]",
      "text/plain": [
       "<Figure size 648x360 with 1 Axes>"
      ]
     },
     "metadata": {
      "needs_background": "light"
     },
     "output_type": "display_data"
    }
   ],
   "source": [
    "plt.figure(1)\n",
    "plt.figure(figsize=(9,5))\n",
    "plt.rcParams.update({'font.size':12})\n",
    "plt.plot(LSTMhistory.history['accuracy'], '--', color=\"#3498DB\")\n",
    "plt.plot(LSTMhistory.history['val_accuracy'], '-v', color=\"#D35400\")\n",
    "plt.grid('True')\n",
    "plt.ylabel('Acurácia')\n",
    "plt.xlabel('Épocas')\n",
    "plt.legend(['Treinamento-BiLSTM', 'Validação-BiLSTM'], loc='lower right')\n",
    "fig = plt.gcf()\n",
    "fig.savefig(r'Model/BiLSTM_Accuracy.eps', format='eps', dpi=1200)"
   ]
  },
  {
   "cell_type": "code",
   "execution_count": 10,
   "metadata": {
    "colab": {
     "base_uri": "https://localhost:8080/",
     "height": 285
    },
    "id": "mXMCWJJgjeYZ",
    "outputId": "592c52e8-b53a-4090-cc87-e804af399aaa"
   },
   "outputs": [
    {
     "data": {
      "image/png": "[encoded data removed]",
      "text/plain": [
       "<Figure size 432x288 with 1 Axes>"
      ]
     },
     "metadata": {
      "needs_background": "light"
     },
     "output_type": "display_data"
    }
   ],
   "source": [
    "plt.figure(2)\n",
    "plt.plot(LSTMhistory.history['loss'], '--', color=\"#3498DB\")\n",
    "plt.plot(LSTMhistory.history['val_loss'], '-v', color=\"#D35400\")\n",
    "plt.ylabel('Perdas')\n",
    "plt.xlabel('Épocas')\n",
    "plt.legend(['Treinamento-BiLSTM', 'Validação-BiLSTM'], loc='upper right')\n",
    "plt.grid('True')\n",
    "fig = plt.gcf()\n",
    "fig.savefig(r'Model/BiLSTM_loss.eps', format='eps', dpi=1200)"
   ]
  },
  {
   "cell_type": "markdown",
   "metadata": {},
   "source": [
    "## 1.7 Statistics"
   ]
  },
  {
   "cell_type": "code",
   "execution_count": 11,
   "metadata": {
    "id": "udQqnkojjjz2"
   },
   "outputs": [],
   "source": [
    "y_pred = (LSTMmodel.predict(x_test)>0.5).astype(\"int32\")"
   ]
  },
  {
   "cell_type": "code",
   "execution_count": 12,
   "metadata": {
    "colab": {
     "base_uri": "https://localhost:8080/"
    },
    "id": "9E5q7c9_jmAc",
    "outputId": "8b80b2dd-0362-4ec5-e5ae-319468097097"
   },
   "outputs": [
    {
     "name": "stdout",
     "output_type": "stream",
     "text": [
      "precision 0.9618 recall 0.9612\n"
     ]
    }
   ],
   "source": [
    "from sklearn.metrics import precision_score, recall_score\n",
    "precision = precision_score(y_test, y_pred)\n",
    "recall = recall_score(y_test, y_pred)\n",
    "print(\"precision {0:.4f} recall {1:.4f}\".format(precision, recall))"
   ]
  },
  {
   "cell_type": "code",
   "execution_count": null,
   "metadata": {},
   "outputs": [],
   "source": [
    "print(f\"F1-Score: {2*((precision*recall)/(precision+recall))}\")"
   ]
  },
  {
   "cell_type": "code",
   "execution_count": 13,
   "metadata": {
    "id": "VUIt5avO32Eq"
   },
   "outputs": [],
   "source": [
    "LSTMmodel.save(r\"./Model/BiLSTM.hdf5\")"
   ]
  },
  {
   "cell_type": "code",
   "execution_count": null,
   "metadata": {},
   "outputs": [],
   "source": []
  }
 ],
 "metadata": {
  "colab": {
   "collapsed_sections": [],
   "name": "BiLSTM.ipynb",
   "provenance": []
  },
  "kernelspec": {
   "display_name": "Python 3.8.10 64-bit",
   "language": "python",
   "name": "python3"
  },
  "language_info": {
   "codemirror_mode": {
    "name": "ipython",
    "version": 3
   },
   "file_extension": ".py",
   "mimetype": "text/x-python",
   "name": "python",
   "nbconvert_exporter": "python",
   "pygments_lexer": "ipython3",
   "version": "3.8.10"
  },
  "vscode": {
   "interpreter": {
    "hash": "916dbcbb3f70747c44a77c7bcd40155683ae19c65e1c03b4aa3499c5328201f1"
   }
  }
 },
 "nbformat": 4,
 "nbformat_minor": 1
}
