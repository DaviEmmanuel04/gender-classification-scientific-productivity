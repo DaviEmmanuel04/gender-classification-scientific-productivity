{
  "nbformat": 4,
  "nbformat_minor": 0,
  "metadata": {
    "colab": {
      "name": "CNN 1D model for Gender Classification.ipynb",
      "provenance": [],
      "collapsed_sections": []
    },
    "kernelspec": {
      "name": "python3",
      "display_name": "Python 3"
    },
    "language_info": {
      "name": "python"
    }
  },
  "cells": [
    {
      "cell_type": "markdown",
      "metadata": {
        "id": "yCahbBEsMCSJ"
      },
      "source": [
        "# 1. Predicting Gender by First Name Using Character-level Machine Learning\n",
        "\n",
        "*Please cite:*\n",
        "\n",
        "Rego, R. C., Silva, V. M. & Fernandes, V. M. (2021). **Predicting Gender by First Name Using Character-level Machine Learning**. arXiv preprint arXiv:2106.10156 v2.\n",
        "\n",
        "\n"
      ]
    },
    {
      "cell_type": "markdown",
      "metadata": {
        "id": "KENlSnN4ftje"
      },
      "source": [
        "## 1.1 Necessary libraries"
      ]
    },
    {
      "cell_type": "code",
      "metadata": {
        "id": "TEHtFf75L2bP"
      },
      "source": [
        "import pandas as pd                       \n",
        "import numpy as np\n",
        "from sklearn.model_selection import train_test_split\n",
        "from sklearn.metrics import precision_score, recall_score, f1_score\n",
        "from tensorflow import keras\n",
        "from keras import backend as K\n",
        "from keras.layers import Dense, Dropout, Flatten, GRU, SimpleRNN, LSTM, Bidirectional, Activation, TimeDistributed\n",
        "from keras.layers.convolutional import Conv1D, MaxPooling1D\n",
        "from keras.callbacks import EarlyStopping\n",
        "from tensorflow.keras import layers\n",
        "from tensorflow.keras.regularizers import l2\n",
        "import matplotlib.pyplot as plt"
      ],
      "execution_count": 22,
      "outputs": []
    },
    {
      "cell_type": "markdown",
      "metadata": {
        "id": "C4n2Osouf2vD"
      },
      "source": [
        "## 1.2 Download the dataset"
      ]
    },
    {
      "cell_type": "code",
      "metadata": {
        "colab": {
          "base_uri": "https://localhost:8080/",
          "height": 224
        },
        "id": "j3e-YoOWO9hE",
        "outputId": "8f6937c0-c665-4efe-8806-d41a1c13c400"
      },
      "source": [
        "import requests\n",
        "url = \"https://data.brasil.io/dataset/genero-nomes/nomes.csv.gz\"\n",
        "filename = url.split(\"/\")[-1]\n",
        "with open(filename, \"wb\") as f:\n",
        "    r = requests.get(url)\n",
        "    f.write(r.content)\n",
        "\n",
        "df = pd.read_csv('nomes.csv.gz') \n",
        "df.head()"
      ],
      "execution_count": 2,
      "outputs": [
        {
          "output_type": "execute_result",
          "data": {
            "text/html": [
              "<div>\n",
              "<style scoped>\n",
              "    .dataframe tbody tr th:only-of-type {\n",
              "        vertical-align: middle;\n",
              "    }\n",
              "\n",
              "    .dataframe tbody tr th {\n",
              "        vertical-align: top;\n",
              "    }\n",
              "\n",
              "    .dataframe thead th {\n",
              "        text-align: right;\n",
              "    }\n",
              "</style>\n",
              "<table border=\"1\" class=\"dataframe\">\n",
              "  <thead>\n",
              "    <tr style=\"text-align: right;\">\n",
              "      <th></th>\n",
              "      <th>alternative_names</th>\n",
              "      <th>classification</th>\n",
              "      <th>first_name</th>\n",
              "      <th>frequency_female</th>\n",
              "      <th>frequency_male</th>\n",
              "      <th>frequency_total</th>\n",
              "      <th>frequency_group</th>\n",
              "      <th>group_name</th>\n",
              "      <th>ratio</th>\n",
              "    </tr>\n",
              "  </thead>\n",
              "  <tbody>\n",
              "    <tr>\n",
              "      <th>0</th>\n",
              "      <td>AILINE|ALEINE|ALIINE|ALINE|ALINER|ALINHE|ALINN...</td>\n",
              "      <td>F</td>\n",
              "      <td>AALINE</td>\n",
              "      <td>66.0</td>\n",
              "      <td>NaN</td>\n",
              "      <td>66</td>\n",
              "      <td>530550</td>\n",
              "      <td>ALINE</td>\n",
              "      <td>1.0</td>\n",
              "    </tr>\n",
              "    <tr>\n",
              "      <th>1</th>\n",
              "      <td>ARAAO|ARAO</td>\n",
              "      <td>M</td>\n",
              "      <td>AARAO</td>\n",
              "      <td>NaN</td>\n",
              "      <td>281.0</td>\n",
              "      <td>281</td>\n",
              "      <td>3526</td>\n",
              "      <td>ARAO</td>\n",
              "      <td>1.0</td>\n",
              "    </tr>\n",
              "    <tr>\n",
              "      <th>2</th>\n",
              "      <td>AHARON|AROM|ARON|ARYON|HARON</td>\n",
              "      <td>M</td>\n",
              "      <td>AARON</td>\n",
              "      <td>NaN</td>\n",
              "      <td>676.0</td>\n",
              "      <td>676</td>\n",
              "      <td>3442</td>\n",
              "      <td>ARON</td>\n",
              "      <td>1.0</td>\n",
              "    </tr>\n",
              "    <tr>\n",
              "      <th>3</th>\n",
              "      <td>ADA|ADAH|ADAR|ADHA|HADA</td>\n",
              "      <td>F</td>\n",
              "      <td>ABA</td>\n",
              "      <td>82.0</td>\n",
              "      <td>NaN</td>\n",
              "      <td>82</td>\n",
              "      <td>5583</td>\n",
              "      <td>ADA</td>\n",
              "      <td>1.0</td>\n",
              "    </tr>\n",
              "    <tr>\n",
              "      <th>4</th>\n",
              "      <td>NaN</td>\n",
              "      <td>M</td>\n",
              "      <td>ABADE</td>\n",
              "      <td>NaN</td>\n",
              "      <td>57.0</td>\n",
              "      <td>57</td>\n",
              "      <td>57</td>\n",
              "      <td>ABADE</td>\n",
              "      <td>1.0</td>\n",
              "    </tr>\n",
              "  </tbody>\n",
              "</table>\n",
              "</div>"
            ],
            "text/plain": [
              "                                   alternative_names  ... ratio\n",
              "0  AILINE|ALEINE|ALIINE|ALINE|ALINER|ALINHE|ALINN...  ...   1.0\n",
              "1                                         ARAAO|ARAO  ...   1.0\n",
              "2                       AHARON|AROM|ARON|ARYON|HARON  ...   1.0\n",
              "3                            ADA|ADAH|ADAR|ADHA|HADA  ...   1.0\n",
              "4                                                NaN  ...   1.0\n",
              "\n",
              "[5 rows x 9 columns]"
            ]
          },
          "metadata": {},
          "execution_count": 2
        }
      ]
    },
    {
      "cell_type": "markdown",
      "metadata": {
        "id": "WzVdVCUKRKCQ"
      },
      "source": [
        "### 1.2.1 Preparing the data "
      ]
    },
    {
      "cell_type": "code",
      "metadata": {
        "id": "Oh_6bEAWbgqT"
      },
      "source": [
        "y = df['classification'].astype(\"category\").cat.codes.values    # y labels into numbers 0 is F and 1 is M\n",
        "names = df['first_name'].apply(lambda x: x.lower())             # input names"
      ],
      "execution_count": 3,
      "outputs": []
    },
    {
      "cell_type": "code",
      "metadata": {
        "colab": {
          "base_uri": "https://localhost:8080/"
        },
        "id": "CTDY5VYBl64k",
        "outputId": "4e1c5f71-21e1-4045-98c4-eb13839c0f59"
      },
      "source": [
        "print(\"M : \" + str(sum(y==1)))\n",
        "print(\"F : \" + str(sum(y==0)))\n",
        "print(len(y))"
      ],
      "execution_count": 4,
      "outputs": [
        {
          "output_type": "stream",
          "name": "stdout",
          "text": [
            "M : 45537\n",
            "F : 55250\n",
            "100787\n"
          ]
        }
      ]
    },
    {
      "cell_type": "markdown",
      "metadata": {
        "id": "unV-k__Lgb0E"
      },
      "source": [
        "## 1.3 Encoding Words\n",
        "\n",
        "Neural networks can only learn to find patterns in numerical data, so it is necessary to convert our data into numeric values with word encoding or tokenization. "
      ]
    },
    {
      "cell_type": "code",
      "metadata": {
        "colab": {
          "base_uri": "https://localhost:8080/",
          "height": 52
        },
        "id": "8zNIym5uBmHS",
        "outputId": "0ec0370c-f820-4261-cbdf-c0bb87a6532a"
      },
      "source": [
        "#word encoding\n",
        "maxlen = 20                                               # max lenght of a name\n",
        "\n",
        "'''Define a vocabulary which corresponds to all the unique letters encountered'''\n",
        "vocab = set(' '.join([str(i) for i in names]))            # creating a vocab\n",
        "vocab.add('END')\n",
        "len_vocab = len(vocab)\n",
        "\n",
        "char_index = dict((c, i) for i, c in enumerate(vocab))    # creating a dictionary\n",
        "''' The dictionary maps each letter of vocabulary to a number '''\n",
        "\n",
        "# Builds an empty line with a 1 at the index of character\n",
        "def set_flag(i):\n",
        "    aux = np.zeros(len_vocab);\n",
        "    aux[i] = 1\n",
        "    return list(aux)\n",
        "\n",
        "# Truncate names and create the matrix\n",
        "def prepare_encod_names(X):\n",
        "    vec_names = []\n",
        "    trunc_name = [str(i)[0:maxlen] for i in X]  # consider only the first 20 characters\n",
        "    for i in trunc_name:\n",
        "        tmp = [set_flag(char_index[j]) for j in str(i)]\n",
        "        for k in range(0,maxlen - len(str(i))):\n",
        "            tmp.append(set_flag(char_index[\"END\"]))\n",
        "        vec_names.append(tmp)\n",
        "    return vec_names\n",
        "\n",
        "'''This is called one-hot-encoder and is based on the following papers: \n",
        "https://arxiv.org/abs/1707.07129 : Predicting the gender of Indonesian names\n",
        "https://ieeexplore.ieee.org/document/8560790 : Advance Gender Prediction Tool...\n",
        " '''"
      ],
      "execution_count": 5,
      "outputs": [
        {
          "output_type": "execute_result",
          "data": {
            "application/vnd.google.colaboratory.intrinsic+json": {
              "type": "string"
            },
            "text/plain": [
              "'This is called one-hot-encoder and is based on the following papers: \\nhttps://arxiv.org/abs/1707.07129 : Predicting the gender of Indonesian names\\nhttps://ieeexplore.ieee.org/document/8560790 : Advance Gender Prediction Tool...\\n '"
            ]
          },
          "metadata": {},
          "execution_count": 5
        }
      ]
    },
    {
      "cell_type": "code",
      "metadata": {
        "id": "7pNJbOIUeqFf"
      },
      "source": [
        "x = prepare_encod_names(names.values)   # Now the names are encod as a vector of numbers "
      ],
      "execution_count": 6,
      "outputs": []
    },
    {
      "cell_type": "markdown",
      "metadata": {
        "id": "FXl0jak5hfeW"
      },
      "source": [
        "## 1.4 Split the data into test and train"
      ]
    },
    {
      "cell_type": "code",
      "metadata": {
        "id": "23kNSk8pb_W1"
      },
      "source": [
        "# train, val, test set will be 60%, 20%, 20% of the dataset respectively\n",
        "x_train, x_test, y_train, y_test = train_test_split(x, y, test_size=0.2, random_state=28)\n",
        "x_train, x_val, y_train, y_val = train_test_split(x_train, y_train, test_size=0.2, random_state=40)\n",
        "x_train = np.asarray(x_train)\n",
        "y_train = np.asarray(y_train)\n",
        "x_test = np.asarray(x_test)\n",
        "y_test = np.asarray(y_test)\n",
        "x_val = np.asarray(x_val)\n",
        "y_val = np.asarray(y_val)"
      ],
      "execution_count": 25,
      "outputs": []
    },
    {
      "cell_type": "code",
      "metadata": {
        "id": "JiOsETM6hANG"
      },
      "source": [
        "# Callbacks\n",
        "callbacks = [EarlyStopping(monitor='accuracy', mode=\"max\", patience=5)]"
      ],
      "execution_count": 29,
      "outputs": []
    },
    {
      "cell_type": "markdown",
      "metadata": {
        "id": "cdG3or3Jhqle"
      },
      "source": [
        "## 1.5 Building the CNN Model"
      ]
    },
    {
      "cell_type": "code",
      "metadata": {
        "id": "o_NSKAuiMh0p",
        "colab": {
          "base_uri": "https://localhost:8080/",
          "height": 894
        },
        "outputId": "2ecf8641-6dee-4a48-c893-7c3ba027981f"
      },
      "source": [
        "CNNmodel = keras.Sequential()\n",
        "CNNmodel.add(Conv1D(256, 3, activation='relu', kernel_initializer='he_uniform', input_shape=(20, 28)))\n",
        "CNNmodel.add(Conv1D(256, 3, activation='relu'))\n",
        "CNNmodel.add(Flatten())\n",
        "CNNmodel.add(Dropout(0.2))\n",
        "CNNmodel.add(Dense(100, activation='relu', kernel_initializer='he_uniform'))\n",
        "CNNmodel.add(Dropout(0.2))\n",
        "CNNmodel.add(Dense(1, activation='sigmoid', kernel_initializer='he_uniform'))\n",
        "\n",
        "opt = keras.optimizers.Adam(learning_rate=0.001, beta_1=0.9, beta_2=0.999, epsilon=1e-08, decay=0.0)\n",
        "\n",
        "CNNmodel.compile(optimizer=opt, loss='binary_crossentropy', metrics=['accuracy'])\n",
        "\n",
        "CNNhistory = CNNmodel.fit(x_train, y_train, validation_data=(x_val, y_val), epochs=20, batch_size=256, callbacks=callbacks)\n",
        "CNNscores = CNNmodel.evaluate(x_test, y_test)  "
      ],
      "execution_count": 36,
      "outputs": [
        {
          "output_type": "stream",
          "name": "stdout",
          "text": [
            "Epoch 1/20\n",
            "252/252 [==============================] - 65s 257ms/step - loss: 0.2516 - accuracy: 0.8911 - val_loss: 0.1741 - val_accuracy: 0.9358\n",
            "Epoch 2/20\n",
            "252/252 [==============================] - 65s 258ms/step - loss: 0.1619 - accuracy: 0.9371 - val_loss: 0.1538 - val_accuracy: 0.9410\n",
            "Epoch 3/20\n",
            "252/252 [==============================] - 65s 256ms/step - loss: 0.1398 - accuracy: 0.9463 - val_loss: 0.1441 - val_accuracy: 0.9440\n",
            "Epoch 4/20\n",
            "252/252 [==============================] - 64s 254ms/step - loss: 0.1274 - accuracy: 0.9525 - val_loss: 0.1489 - val_accuracy: 0.9426\n",
            "Epoch 5/20\n",
            "252/252 [==============================] - 64s 255ms/step - loss: 0.1156 - accuracy: 0.9560 - val_loss: 0.1274 - val_accuracy: 0.9511\n",
            "Epoch 6/20\n",
            "252/252 [==============================] - 64s 256ms/step - loss: 0.1059 - accuracy: 0.9603 - val_loss: 0.1227 - val_accuracy: 0.9527\n",
            "Epoch 7/20\n",
            "252/252 [==============================] - 65s 256ms/step - loss: 0.0974 - accuracy: 0.9630 - val_loss: 0.1202 - val_accuracy: 0.9538\n",
            "Epoch 8/20\n",
            "252/252 [==============================] - 64s 256ms/step - loss: 0.0886 - accuracy: 0.9666 - val_loss: 0.1199 - val_accuracy: 0.9536\n",
            "Epoch 9/20\n",
            "252/252 [==============================] - 65s 257ms/step - loss: 0.0837 - accuracy: 0.9679 - val_loss: 0.1247 - val_accuracy: 0.9506\n",
            "Epoch 10/20\n",
            "252/252 [==============================] - 64s 255ms/step - loss: 0.0779 - accuracy: 0.9699 - val_loss: 0.1288 - val_accuracy: 0.9531\n",
            "Epoch 11/20\n",
            "252/252 [==============================] - 64s 254ms/step - loss: 0.0712 - accuracy: 0.9729 - val_loss: 0.1207 - val_accuracy: 0.9570\n",
            "Epoch 12/20\n",
            "252/252 [==============================] - 64s 255ms/step - loss: 0.0669 - accuracy: 0.9747 - val_loss: 0.1310 - val_accuracy: 0.9532\n",
            "Epoch 13/20\n",
            "252/252 [==============================] - 65s 257ms/step - loss: 0.0603 - accuracy: 0.9771 - val_loss: 0.1244 - val_accuracy: 0.9574\n",
            "Epoch 14/20\n",
            "252/252 [==============================] - 65s 259ms/step - loss: 0.0564 - accuracy: 0.9778 - val_loss: 0.1249 - val_accuracy: 0.9570\n",
            "Epoch 15/20\n",
            "252/252 [==============================] - 64s 254ms/step - loss: 0.0545 - accuracy: 0.9791 - val_loss: 0.1300 - val_accuracy: 0.9558\n",
            "Epoch 16/20\n",
            "252/252 [==============================] - 64s 253ms/step - loss: 0.0496 - accuracy: 0.9811 - val_loss: 0.1332 - val_accuracy: 0.9562\n",
            "Epoch 17/20\n",
            "252/252 [==============================] - 64s 253ms/step - loss: 0.0441 - accuracy: 0.9833 - val_loss: 0.1510 - val_accuracy: 0.9559\n",
            "Epoch 18/20\n",
            "252/252 [==============================] - 64s 253ms/step - loss: 0.0435 - accuracy: 0.9828 - val_loss: 0.1386 - val_accuracy: 0.9578\n",
            "Epoch 19/20\n",
            "252/252 [==============================] - 64s 254ms/step - loss: 0.0401 - accuracy: 0.9845 - val_loss: 0.1573 - val_accuracy: 0.9539\n",
            "Epoch 20/20\n",
            "252/252 [==============================] - 64s 253ms/step - loss: 0.0393 - accuracy: 0.9848 - val_loss: 0.1452 - val_accuracy: 0.9560\n",
            "630/630 [==============================] - 4s 7ms/step - loss: 0.1459 - accuracy: 0.9568\n"
          ]
        },
        {
          "output_type": "error",
          "ename": "NameError",
          "evalue": "ignored",
          "traceback": [
            "\u001b[0;31m---------------------------------------------------------------------------\u001b[0m",
            "\u001b[0;31mNameError\u001b[0m                                 Traceback (most recent call last)",
            "\u001b[0;32m<ipython-input-36-85c9d28da249>\u001b[0m in \u001b[0;36m<module>\u001b[0;34m()\u001b[0m\n\u001b[1;32m     23\u001b[0m \u001b[0mCNNhistory\u001b[0m \u001b[0;34m=\u001b[0m \u001b[0mCNNmodel\u001b[0m\u001b[0;34m.\u001b[0m\u001b[0mfit\u001b[0m\u001b[0;34m(\u001b[0m\u001b[0mx_train\u001b[0m\u001b[0;34m,\u001b[0m \u001b[0my_train\u001b[0m\u001b[0;34m,\u001b[0m \u001b[0mvalidation_data\u001b[0m\u001b[0;34m=\u001b[0m\u001b[0;34m(\u001b[0m\u001b[0mx_val\u001b[0m\u001b[0;34m,\u001b[0m \u001b[0my_val\u001b[0m\u001b[0;34m)\u001b[0m\u001b[0;34m,\u001b[0m \u001b[0mepochs\u001b[0m\u001b[0;34m=\u001b[0m\u001b[0;36m20\u001b[0m\u001b[0;34m,\u001b[0m \u001b[0mbatch_size\u001b[0m\u001b[0;34m=\u001b[0m\u001b[0;36m256\u001b[0m\u001b[0;34m,\u001b[0m \u001b[0mcallbacks\u001b[0m\u001b[0;34m=\u001b[0m\u001b[0mcallbacks\u001b[0m\u001b[0;34m)\u001b[0m\u001b[0;34m\u001b[0m\u001b[0;34m\u001b[0m\u001b[0m\n\u001b[1;32m     24\u001b[0m \u001b[0mCNNscores\u001b[0m \u001b[0;34m=\u001b[0m \u001b[0mCNNmodel\u001b[0m\u001b[0;34m.\u001b[0m\u001b[0mevaluate\u001b[0m\u001b[0;34m(\u001b[0m\u001b[0mx_test\u001b[0m\u001b[0;34m,\u001b[0m \u001b[0my_test\u001b[0m\u001b[0;34m)\u001b[0m\u001b[0;34m\u001b[0m\u001b[0;34m\u001b[0m\u001b[0m\n\u001b[0;32m---> 25\u001b[0;31m \u001b[0mresults\u001b[0m\u001b[0;34m(\u001b[0m\u001b[0mCNNscores\u001b[0m\u001b[0;34m)\u001b[0m\u001b[0;34m\u001b[0m\u001b[0;34m\u001b[0m\u001b[0m\n\u001b[0m",
            "\u001b[0;31mNameError\u001b[0m: name 'results' is not defined"
          ]
        }
      ]
    },
    {
      "cell_type": "markdown",
      "metadata": {
        "id": "m55JxwTi7Pyt"
      },
      "source": [
        "## 1.6 Figures"
      ]
    },
    {
      "cell_type": "code",
      "metadata": {
        "colab": {
          "base_uri": "https://localhost:8080/",
          "height": 374
        },
        "id": "wK09xI1-mt7N",
        "outputId": "d4147c03-4eba-46ad-b981-ce8c1b301121"
      },
      "source": [
        "plt.figure(1)\n",
        "plt.figure(figsize=(9,5))\n",
        "plt.rcParams.update({'font.size': 12})\n",
        "# summarize for accuracy\n",
        "plt.plot(CNNhistory.history['accuracy'], 'g:')\n",
        "plt.plot(CNNhistory.history['val_accuracy'], 'g-*')\n",
        "#plt.xscale('log')\n",
        "plt.grid('True')\n",
        "plt.ylabel('Accuracy')\n",
        "plt.xlabel('Epoch')\n",
        "#plt.ylim(0.8, 0.99)\n",
        "#plt.xlim(0,25)\n",
        "plt.legend(['Train-CNN', 'Val-CNN'], loc='lower right')\n",
        "#plt.gcf().savefig('accuracy.eps', format='eps', dpi=600)     # save the figure"
      ],
      "execution_count": 37,
      "outputs": [
        {
          "output_type": "execute_result",
          "data": {
            "text/plain": [
              "<matplotlib.legend.Legend at 0x7fb5a8cb9690>"
            ]
          },
          "metadata": {},
          "execution_count": 37
        },
        {
          "output_type": "display_data",
          "data": {
            "text/plain": [
              "<Figure size 432x288 with 0 Axes>"
            ]
          },
          "metadata": {}
        },
        {
          "output_type": "display_data",
          "data": {
            "image/png": "[encoded data removed]",
            "text/plain": [
              "<Figure size 648x360 with 1 Axes>"
            ]
          },
          "metadata": {
            "needs_background": "light"
          }
        }
      ]
    },
    {
      "cell_type": "code",
      "metadata": {
        "colab": {
          "base_uri": "https://localhost:8080/",
          "height": 285
        },
        "id": "rh44YGWcvMG7",
        "outputId": "90cd8ade-7473-4de8-b658-30d6ae1b3084"
      },
      "source": [
        "plt.figure(2)\n",
        "# summarize for loss\n",
        "plt.plot(CNNhistory.history['loss'], 'g:')\n",
        "plt.plot(CNNhistory.history['val_loss'], 'g-*')\n",
        "plt.ylabel('Loss')\n",
        "plt.xlabel('Epoch')\n",
        "plt.legend(['Train-CNN', 'Val-CNN'], loc='upper right')\n",
        "#plt.yscale('log')\n",
        "#plt.xscale('log')\n",
        "plt.grid('True')\n",
        "#plt.xlim(0,32)\n",
        "#plt.gcf().savefig('loss.eps', format='eps', dpi=600)     # save the figure"
      ],
      "execution_count": 38,
      "outputs": [
        {
          "output_type": "display_data",
          "data": {
            "image/png": "[encoded data removed]",
            "text/plain": [
              "<Figure size 432x288 with 1 Axes>"
            ]
          },
          "metadata": {
            "needs_background": "light"
          }
        }
      ]
    },
    {
      "cell_type": "markdown",
      "metadata": {
        "id": "bii6bsQ_8ihJ"
      },
      "source": [
        "## 1.7 Statistics"
      ]
    },
    {
      "cell_type": "code",
      "metadata": {
        "colab": {
          "base_uri": "https://localhost:8080/"
        },
        "id": "x4C61gTr9b3e",
        "outputId": "8f5f6f00-e4bc-4589-fcef-68eb3a6ae512"
      },
      "source": [
        "y_predCNN =(CNNmodel.predict(x_test) > 0.5).astype(\"int32\")\n",
        "# Finding precision and recall\n",
        "from sklearn.metrics import precision_score, recall_score\n",
        "print(precision_score(y_test, y_predCNN))\n",
        "print(recall_score(y_test, y_predCNN))\n"
      ],
      "execution_count": 39,
      "outputs": [
        {
          "output_type": "stream",
          "name": "stdout",
          "text": [
            "0.9517173268956436\n",
            "0.9526581722319859\n"
          ]
        }
      ]
    },
    {
      "cell_type": "markdown",
      "metadata": {
        "id": "BSMLzXgL_17j"
      },
      "source": [
        "## 1.8 Testing "
      ]
    },
    {
      "cell_type": "code",
      "metadata": {
        "colab": {
          "base_uri": "https://localhost:8080/"
        },
        "id": "eVU5iWCF-5lA",
        "outputId": "0861c7ed-6663-4888-8294-2a65e88f0fd2"
      },
      "source": [
        "testename = prepare_encod_names({\"cibely\"})   # Now the names are encod as a vector of numbers with weight\n",
        "resu=(CNNmodel.predict(testename) > 0.5).astype(\"int32\")\n",
        "if int(resu)==1:\n",
        "  print('M')\n",
        "else:\n",
        "  print('F')"
      ],
      "execution_count": 40,
      "outputs": [
        {
          "output_type": "stream",
          "name": "stdout",
          "text": [
            "F\n"
          ]
        }
      ]
    }
  ]
}