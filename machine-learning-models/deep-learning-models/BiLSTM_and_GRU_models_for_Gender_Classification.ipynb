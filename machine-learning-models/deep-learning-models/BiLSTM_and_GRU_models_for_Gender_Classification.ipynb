{
  "nbformat": 4,
  "nbformat_minor": 0,
  "metadata": {
    "colab": {
      "name": "BiLSTM and GRU models for Gender Classification.ipynb",
      "provenance": [],
      "collapsed_sections": []
    },
    "kernelspec": {
      "name": "python3",
      "display_name": "Python 3"
    },
    "language_info": {
      "name": "python"
    }
  },
  "cells": [
    {
      "cell_type": "markdown",
      "metadata": {
        "id": "yCahbBEsMCSJ"
      },
      "source": [
        "# 1. Predicting Gender by First Name Using Character-level Machine Learning\n",
        "\n",
        "*Please cite:*\n",
        "\n",
        "Rego, R. C., Silva, V. M. & Fernandes, V. M. (2021). **Predicting Gender by First Name Using Character-level Machine Learning**. arXiv preprint arXiv:2106.10156 v2.\n",
        "\n",
        "\n"
      ]
    },
    {
      "cell_type": "markdown",
      "metadata": {
        "id": "KENlSnN4ftje"
      },
      "source": [
        "## 1.1 Necessary libraries"
      ]
    },
    {
      "cell_type": "code",
      "metadata": {
        "id": "TEHtFf75L2bP"
      },
      "source": [
        "import pandas as pd                       \n",
        "import numpy as np\n",
        "from tensorflow import keras\n",
        "from keras.layers import Dense, Dropout, Flatten, GRU, SimpleRNN, LSTM, Bidirectional, Activation, TimeDistributed\n",
        "from keras.layers.convolutional import Conv1D, MaxPooling1D\n",
        "from sklearn.model_selection import train_test_split\n",
        "from tensorflow.keras import layers\n",
        "from tensorflow.keras.regularizers import l2\n",
        "import matplotlib.pyplot as plt\n"
      ],
      "execution_count": 1,
      "outputs": []
    },
    {
      "cell_type": "markdown",
      "metadata": {
        "id": "C4n2Osouf2vD"
      },
      "source": [
        "## 1.2 Download the dataset"
      ]
    },
    {
      "cell_type": "code",
      "metadata": {
        "colab": {
          "base_uri": "https://localhost:8080/",
          "height": 224
        },
        "id": "j3e-YoOWO9hE",
        "outputId": "352c21a6-8d42-41c5-c42b-af4fa36925f6"
      },
      "source": [
        "import requests\n",
        "url = \"https://data.brasil.io/dataset/genero-nomes/nomes.csv.gz\"\n",
        "filename = url.split(\"/\")[-1]\n",
        "with open(filename, \"wb\") as f:\n",
        "    r = requests.get(url)\n",
        "    f.write(r.content)\n",
        "\n",
        "df = pd.read_csv('nomes.csv.gz') \n",
        "df.head()"
      ],
      "execution_count": 2,
      "outputs": [
        {
          "output_type": "execute_result",
          "data": {
            "text/html": [
              "<div>\n",
              "<style scoped>\n",
              "    .dataframe tbody tr th:only-of-type {\n",
              "        vertical-align: middle;\n",
              "    }\n",
              "\n",
              "    .dataframe tbody tr th {\n",
              "        vertical-align: top;\n",
              "    }\n",
              "\n",
              "    .dataframe thead th {\n",
              "        text-align: right;\n",
              "    }\n",
              "</style>\n",
              "<table border=\"1\" class=\"dataframe\">\n",
              "  <thead>\n",
              "    <tr style=\"text-align: right;\">\n",
              "      <th></th>\n",
              "      <th>alternative_names</th>\n",
              "      <th>classification</th>\n",
              "      <th>first_name</th>\n",
              "      <th>frequency_female</th>\n",
              "      <th>frequency_male</th>\n",
              "      <th>frequency_total</th>\n",
              "      <th>frequency_group</th>\n",
              "      <th>group_name</th>\n",
              "      <th>ratio</th>\n",
              "    </tr>\n",
              "  </thead>\n",
              "  <tbody>\n",
              "    <tr>\n",
              "      <th>0</th>\n",
              "      <td>AILINE|ALEINE|ALIINE|ALINE|ALINER|ALINHE|ALINN...</td>\n",
              "      <td>F</td>\n",
              "      <td>AALINE</td>\n",
              "      <td>66.0</td>\n",
              "      <td>NaN</td>\n",
              "      <td>66</td>\n",
              "      <td>530550</td>\n",
              "      <td>ALINE</td>\n",
              "      <td>1.0</td>\n",
              "    </tr>\n",
              "    <tr>\n",
              "      <th>1</th>\n",
              "      <td>ARAAO|ARAO</td>\n",
              "      <td>M</td>\n",
              "      <td>AARAO</td>\n",
              "      <td>NaN</td>\n",
              "      <td>281.0</td>\n",
              "      <td>281</td>\n",
              "      <td>3526</td>\n",
              "      <td>ARAO</td>\n",
              "      <td>1.0</td>\n",
              "    </tr>\n",
              "    <tr>\n",
              "      <th>2</th>\n",
              "      <td>AHARON|AROM|ARON|ARYON|HARON</td>\n",
              "      <td>M</td>\n",
              "      <td>AARON</td>\n",
              "      <td>NaN</td>\n",
              "      <td>676.0</td>\n",
              "      <td>676</td>\n",
              "      <td>3442</td>\n",
              "      <td>ARON</td>\n",
              "      <td>1.0</td>\n",
              "    </tr>\n",
              "    <tr>\n",
              "      <th>3</th>\n",
              "      <td>ADA|ADAH|ADAR|ADHA|HADA</td>\n",
              "      <td>F</td>\n",
              "      <td>ABA</td>\n",
              "      <td>82.0</td>\n",
              "      <td>NaN</td>\n",
              "      <td>82</td>\n",
              "      <td>5583</td>\n",
              "      <td>ADA</td>\n",
              "      <td>1.0</td>\n",
              "    </tr>\n",
              "    <tr>\n",
              "      <th>4</th>\n",
              "      <td>NaN</td>\n",
              "      <td>M</td>\n",
              "      <td>ABADE</td>\n",
              "      <td>NaN</td>\n",
              "      <td>57.0</td>\n",
              "      <td>57</td>\n",
              "      <td>57</td>\n",
              "      <td>ABADE</td>\n",
              "      <td>1.0</td>\n",
              "    </tr>\n",
              "  </tbody>\n",
              "</table>\n",
              "</div>"
            ],
            "text/plain": [
              "                                   alternative_names  ... ratio\n",
              "0  AILINE|ALEINE|ALIINE|ALINE|ALINER|ALINHE|ALINN...  ...   1.0\n",
              "1                                         ARAAO|ARAO  ...   1.0\n",
              "2                       AHARON|AROM|ARON|ARYON|HARON  ...   1.0\n",
              "3                            ADA|ADAH|ADAR|ADHA|HADA  ...   1.0\n",
              "4                                                NaN  ...   1.0\n",
              "\n",
              "[5 rows x 9 columns]"
            ]
          },
          "metadata": {},
          "execution_count": 2
        }
      ]
    },
    {
      "cell_type": "markdown",
      "metadata": {
        "id": "WzVdVCUKRKCQ"
      },
      "source": [
        "### 1.2.1 Preparing the data "
      ]
    },
    {
      "cell_type": "code",
      "metadata": {
        "id": "Oh_6bEAWbgqT"
      },
      "source": [
        "y = df['classification'].astype(\"category\").cat.codes.values    # y labels into numbers 0 is F and 1 is M\n",
        "names = df['first_name'].apply(lambda x: x.lower())             # input names"
      ],
      "execution_count": 3,
      "outputs": []
    },
    {
      "cell_type": "code",
      "metadata": {
        "colab": {
          "base_uri": "https://localhost:8080/"
        },
        "id": "CTDY5VYBl64k",
        "outputId": "cde44596-f8f4-41e7-f5ce-99e5e2915226"
      },
      "source": [
        "print(\"M : \" + str(sum(y==1)))\n",
        "print(\"F : \" + str(sum(y==0)))\n",
        "print(len(y))"
      ],
      "execution_count": 8,
      "outputs": [
        {
          "output_type": "stream",
          "name": "stdout",
          "text": [
            "M : 45537\n",
            "F : 55250\n",
            "100787\n"
          ]
        }
      ]
    },
    {
      "cell_type": "markdown",
      "metadata": {
        "id": "unV-k__Lgb0E"
      },
      "source": [
        "## 1.3 Encoding Words\n",
        "\n",
        "Neural networks can only learn to find patterns in numerical data, so it is necessary to convert our data into numeric values with word encoding or tokenization. "
      ]
    },
    {
      "cell_type": "code",
      "metadata": {
        "colab": {
          "base_uri": "https://localhost:8080/",
          "height": 52
        },
        "id": "8zNIym5uBmHS",
        "outputId": "1e900a5a-8f6b-41db-bd83-20f0290919aa"
      },
      "source": [
        "#word encoding\n",
        "maxlen = 20                                               # max lenght of a name\n",
        "\n",
        "'''Define a vocabulary which corresponds to all the unique letters encountered'''\n",
        "vocab = set(' '.join([str(i) for i in names]))            # creating a vocab\n",
        "vocab.add('END')\n",
        "len_vocab = len(vocab)\n",
        "\n",
        "char_index = dict((c, i) for i, c in enumerate(vocab))    # creating a dictionary\n",
        "''' The dictionary maps each letter of vocabulary to a number '''\n",
        "\n",
        "# Builds an empty line with a 1 at the index of character\n",
        "def set_flag(i):\n",
        "    aux = np.zeros(len_vocab);\n",
        "    aux[i] = 1\n",
        "    return list(aux)\n",
        "\n",
        "# Truncate names and create the matrix\n",
        "def prepare_encod_names(X):\n",
        "    vec_names = []\n",
        "    trunc_name = [str(i)[0:maxlen] for i in X]  # consider only the first 20 characters\n",
        "    for i in trunc_name:\n",
        "        tmp = [set_flag(char_index[j]) for j in str(i)]\n",
        "        for k in range(0,maxlen - len(str(i))):\n",
        "            tmp.append(set_flag(char_index[\"END\"]))\n",
        "        vec_names.append(tmp)\n",
        "    return vec_names\n",
        "\n",
        "'''This is called one-hot-encoder and is based on the following papers: \n",
        "https://arxiv.org/abs/1707.07129 : Predicting the gender of Indonesian names\n",
        "https://ieeexplore.ieee.org/document/8560790 : Advance Gender Prediction Tool...\n",
        " '''"
      ],
      "execution_count": 10,
      "outputs": [
        {
          "output_type": "execute_result",
          "data": {
            "application/vnd.google.colaboratory.intrinsic+json": {
              "type": "string"
            },
            "text/plain": [
              "'This is called one-hot-encoder and is based on the following papers: \\nhttps://arxiv.org/abs/1707.07129 : Predicting the gender of Indonesian names\\nhttps://ieeexplore.ieee.org/document/8560790 : Advance Gender Prediction Tool...\\n '"
            ]
          },
          "metadata": {},
          "execution_count": 10
        }
      ]
    },
    {
      "cell_type": "code",
      "metadata": {
        "id": "7pNJbOIUeqFf"
      },
      "source": [
        "x = prepare_encod_names(names.values)   # Now the names are encod as a vector of numbers "
      ],
      "execution_count": 11,
      "outputs": []
    },
    {
      "cell_type": "markdown",
      "metadata": {
        "id": "FXl0jak5hfeW"
      },
      "source": [
        "## 1.4 Split the data into test and train"
      ]
    },
    {
      "cell_type": "code",
      "metadata": {
        "id": "23kNSk8pb_W1"
      },
      "source": [
        "# train, val, test set will be 60%, 20%, 25% of the dataset respectively\n",
        "x_train, x_test, y_train, y_test = train_test_split(x, y, test_size=0.2, random_state=28)\n",
        "x_train, x_val, y_train, y_val = train_test_split(x_train, y_train, test_size=0.25, random_state=40)\n",
        "\n",
        "x_train = np.asarray(x_train)\n",
        "y_train = np.asarray(y_train)\n",
        "x_test = np.asarray(x_test)\n",
        "y_test = np.asarray(y_test)\n",
        "x_val = np.asarray(x_val)\n",
        "y_val = np.asarray(y_val)"
      ],
      "execution_count": 12,
      "outputs": []
    },
    {
      "cell_type": "markdown",
      "metadata": {
        "id": "Kn3ALPE629Ca"
      },
      "source": [
        "## 1.5 Building the BiLSTM Model"
      ]
    },
    {
      "cell_type": "code",
      "metadata": {
        "colab": {
          "base_uri": "https://localhost:8080/"
        },
        "id": "jF4NIzXreW0M",
        "outputId": "ca6ec8b6-1700-4278-a757-d74eec864779"
      },
      "source": [
        "LSTMmodel = keras.Sequential()\n",
        "LSTMmodel.add(Bidirectional(LSTM(64, return_sequences=True), backward_layer=LSTM(64, return_sequences=True, go_backwards=True), input_shape=(maxlen,len_vocab)))\n",
        "LSTMmodel.add(Dropout(0.2))\n",
        "LSTMmodel.add(Bidirectional(LSTM(64)))\n",
        "LSTMmodel.add(Dropout(0.2))\n",
        "LSTMmodel.add(Dense(1, activity_regularizer=l2(0.002)))\n",
        "LSTMmodel.add(Activation('sigmoid'))\n",
        "\n",
        "lr_schedule = keras.optimizers.schedules.ExponentialDecay(\n",
        "    initial_learning_rate=1e-2,\n",
        "    decay_steps=10000,\n",
        "    decay_rate=0.9)\n",
        "opt = keras.optimizers.Adam(learning_rate=lr_schedule)\n",
        "LSTMmodel.compile(loss='binary_crossentropy', optimizer=opt, metrics=['accuracy'])\n",
        "\n",
        "\n",
        "LSTMhistory = LSTMmodel.fit(x_train, y_train, batch_size=128, epochs=20, validation_data =(x_val, y_val))\n",
        "LSTMscores = LSTMmodel.evaluate(x_test, y_test) \n",
        "print(\"Accuracy: %.2f%%\" % (LSTMscores[1]*100))"
      ],
      "execution_count": 14,
      "outputs": [
        {
          "output_type": "stream",
          "name": "stdout",
          "text": [
            "Epoch 1/20\n",
            "473/473 [==============================] - 65s 122ms/step - loss: 0.2730 - accuracy: 0.8924 - val_loss: 0.2197 - val_accuracy: 0.9271\n",
            "Epoch 2/20\n",
            "473/473 [==============================] - 56s 119ms/step - loss: 0.2014 - accuracy: 0.9330 - val_loss: 0.1933 - val_accuracy: 0.9384\n",
            "Epoch 3/20\n",
            "473/473 [==============================] - 56s 119ms/step - loss: 0.1798 - accuracy: 0.9444 - val_loss: 0.1884 - val_accuracy: 0.9400\n",
            "Epoch 4/20\n",
            "473/473 [==============================] - 56s 119ms/step - loss: 0.1639 - accuracy: 0.9512 - val_loss: 0.1693 - val_accuracy: 0.9485\n",
            "Epoch 5/20\n",
            "473/473 [==============================] - 56s 119ms/step - loss: 0.1537 - accuracy: 0.9561 - val_loss: 0.1653 - val_accuracy: 0.9493\n",
            "Epoch 6/20\n",
            "473/473 [==============================] - 56s 119ms/step - loss: 0.1426 - accuracy: 0.9607 - val_loss: 0.1623 - val_accuracy: 0.9502\n",
            "Epoch 7/20\n",
            "473/473 [==============================] - 57s 119ms/step - loss: 0.1359 - accuracy: 0.9644 - val_loss: 0.1566 - val_accuracy: 0.9550\n",
            "Epoch 8/20\n",
            "473/473 [==============================] - 57s 120ms/step - loss: 0.1284 - accuracy: 0.9671 - val_loss: 0.1525 - val_accuracy: 0.9565\n",
            "Epoch 9/20\n",
            "473/473 [==============================] - 56s 119ms/step - loss: 0.1228 - accuracy: 0.9701 - val_loss: 0.1539 - val_accuracy: 0.9566\n",
            "Epoch 10/20\n",
            "473/473 [==============================] - 57s 120ms/step - loss: 0.1168 - accuracy: 0.9727 - val_loss: 0.1541 - val_accuracy: 0.9558\n",
            "Epoch 11/20\n",
            "473/473 [==============================] - 57s 120ms/step - loss: 0.1149 - accuracy: 0.9735 - val_loss: 0.1533 - val_accuracy: 0.9559\n",
            "Epoch 12/20\n",
            "473/473 [==============================] - 57s 120ms/step - loss: 0.1092 - accuracy: 0.9760 - val_loss: 0.1545 - val_accuracy: 0.9586\n",
            "Epoch 13/20\n",
            "473/473 [==============================] - 56s 119ms/step - loss: 0.1041 - accuracy: 0.9783 - val_loss: 0.1548 - val_accuracy: 0.9559\n",
            "Epoch 14/20\n",
            "473/473 [==============================] - 56s 119ms/step - loss: 0.1038 - accuracy: 0.9785 - val_loss: 0.1544 - val_accuracy: 0.9572\n",
            "Epoch 15/20\n",
            "473/473 [==============================] - 57s 120ms/step - loss: 0.0982 - accuracy: 0.9810 - val_loss: 0.1534 - val_accuracy: 0.9583\n",
            "Epoch 16/20\n",
            "473/473 [==============================] - 57s 120ms/step - loss: 0.0969 - accuracy: 0.9813 - val_loss: 0.1592 - val_accuracy: 0.9577\n",
            "Epoch 17/20\n",
            "473/473 [==============================] - 56s 119ms/step - loss: 0.0967 - accuracy: 0.9815 - val_loss: 0.1589 - val_accuracy: 0.9581\n",
            "Epoch 18/20\n",
            "473/473 [==============================] - 57s 120ms/step - loss: 0.0960 - accuracy: 0.9819 - val_loss: 0.1601 - val_accuracy: 0.9576\n",
            "Epoch 19/20\n",
            "473/473 [==============================] - 57s 120ms/step - loss: 0.0950 - accuracy: 0.9826 - val_loss: 0.1545 - val_accuracy: 0.9582\n",
            "Epoch 20/20\n",
            "473/473 [==============================] - 57s 120ms/step - loss: 0.0918 - accuracy: 0.9838 - val_loss: 0.1565 - val_accuracy: 0.9593\n",
            "630/630 [==============================] - 7s 12ms/step - loss: 0.1525 - accuracy: 0.9591\n",
            "Accuracy: 95.91%\n"
          ]
        }
      ]
    },
    {
      "cell_type": "markdown",
      "metadata": {
        "id": "4ihfBuKG22KE"
      },
      "source": [
        "## 1.7 Building the GRU Model"
      ]
    },
    {
      "cell_type": "code",
      "metadata": {
        "colab": {
          "base_uri": "https://localhost:8080/"
        },
        "id": "uG-syJZFcEHD",
        "outputId": "5b74d14f-127e-4692-fdb6-9945539dc638"
      },
      "source": [
        "GRUmodel=keras.Sequential()\n",
        "GRUmodel.add(GRU(32, input_shape=(x_train.shape[1],x_train.shape[2]),activation='tanh', return_sequences=True))\n",
        "GRUmodel.add(TimeDistributed(Dense(1))) \n",
        "GRUmodel.add(Flatten())\n",
        "GRUmodel.add(Dense(1, activation='sigmoid'))\n",
        "\n",
        "lr_schedule = keras.optimizers.schedules.ExponentialDecay(\n",
        "    initial_learning_rate=1e-2,\n",
        "    decay_steps=10000,\n",
        "    decay_rate=0.9)\n",
        "opt = keras.optimizers.Adam(learning_rate=lr_schedule)\n",
        "GRUmodel.compile(loss='binary_crossentropy', optimizer=opt, metrics=['accuracy'])\n",
        "\n",
        "\n",
        "GRUhistory=GRUmodel.fit(x_train, y_train , epochs=20, batch_size=128, validation_data=(x_val,y_val))\n",
        "GRUscores = GRUmodel.evaluate(x_test, y_test) \n",
        "print(\"Accuracy: %.2f%%\" % (GRUscores[1]*100))  "
      ],
      "execution_count": 13,
      "outputs": [
        {
          "output_type": "stream",
          "name": "stdout",
          "text": [
            "Epoch 1/20\n",
            "473/473 [==============================] - 10s 16ms/step - loss: 0.2557 - accuracy: 0.8854 - val_loss: 0.1979 - val_accuracy: 0.9230\n",
            "Epoch 2/20\n",
            "473/473 [==============================] - 7s 15ms/step - loss: 0.1691 - accuracy: 0.9339 - val_loss: 0.1652 - val_accuracy: 0.9358\n",
            "Epoch 3/20\n",
            "473/473 [==============================] - 7s 15ms/step - loss: 0.1478 - accuracy: 0.9438 - val_loss: 0.1586 - val_accuracy: 0.9413\n",
            "Epoch 4/20\n",
            "473/473 [==============================] - 7s 15ms/step - loss: 0.1376 - accuracy: 0.9473 - val_loss: 0.1509 - val_accuracy: 0.9441\n",
            "Epoch 5/20\n",
            "473/473 [==============================] - 7s 15ms/step - loss: 0.1270 - accuracy: 0.9511 - val_loss: 0.1477 - val_accuracy: 0.9455\n",
            "Epoch 6/20\n",
            "473/473 [==============================] - 7s 15ms/step - loss: 0.1176 - accuracy: 0.9563 - val_loss: 0.1439 - val_accuracy: 0.9480\n",
            "Epoch 7/20\n",
            "473/473 [==============================] - 7s 15ms/step - loss: 0.1123 - accuracy: 0.9570 - val_loss: 0.1409 - val_accuracy: 0.9467\n",
            "Epoch 8/20\n",
            "473/473 [==============================] - 7s 15ms/step - loss: 0.1068 - accuracy: 0.9609 - val_loss: 0.1440 - val_accuracy: 0.9487\n",
            "Epoch 9/20\n",
            "473/473 [==============================] - 7s 15ms/step - loss: 0.1037 - accuracy: 0.9611 - val_loss: 0.1388 - val_accuracy: 0.9485\n",
            "Epoch 10/20\n",
            "473/473 [==============================] - 7s 15ms/step - loss: 0.1011 - accuracy: 0.9619 - val_loss: 0.1441 - val_accuracy: 0.9465\n",
            "Epoch 11/20\n",
            "473/473 [==============================] - 7s 15ms/step - loss: 0.0971 - accuracy: 0.9639 - val_loss: 0.1372 - val_accuracy: 0.9489\n",
            "Epoch 12/20\n",
            "473/473 [==============================] - 7s 15ms/step - loss: 0.0949 - accuracy: 0.9645 - val_loss: 0.1430 - val_accuracy: 0.9482\n",
            "Epoch 13/20\n",
            "473/473 [==============================] - 7s 15ms/step - loss: 0.0923 - accuracy: 0.9652 - val_loss: 0.1443 - val_accuracy: 0.9489\n",
            "Epoch 14/20\n",
            "473/473 [==============================] - 7s 15ms/step - loss: 0.0883 - accuracy: 0.9674 - val_loss: 0.1508 - val_accuracy: 0.9458\n",
            "Epoch 15/20\n",
            "473/473 [==============================] - 7s 15ms/step - loss: 0.0897 - accuracy: 0.9663 - val_loss: 0.1435 - val_accuracy: 0.9477\n",
            "Epoch 16/20\n",
            "473/473 [==============================] - 7s 15ms/step - loss: 0.0858 - accuracy: 0.9686 - val_loss: 0.1538 - val_accuracy: 0.9446\n",
            "Epoch 17/20\n",
            "473/473 [==============================] - 7s 15ms/step - loss: 0.0869 - accuracy: 0.9676 - val_loss: 0.1542 - val_accuracy: 0.9466\n",
            "Epoch 18/20\n",
            "473/473 [==============================] - 7s 15ms/step - loss: 0.0829 - accuracy: 0.9692 - val_loss: 0.1537 - val_accuracy: 0.9454\n",
            "Epoch 19/20\n",
            "473/473 [==============================] - 7s 15ms/step - loss: 0.0829 - accuracy: 0.9695 - val_loss: 0.1462 - val_accuracy: 0.9477\n",
            "Epoch 20/20\n",
            "473/473 [==============================] - 7s 15ms/step - loss: 0.0823 - accuracy: 0.9694 - val_loss: 0.1472 - val_accuracy: 0.9507\n",
            "630/630 [==============================] - 2s 3ms/step - loss: 0.1423 - accuracy: 0.9503\n",
            "Accuracy: 95.03%\n"
          ]
        }
      ]
    },
    {
      "cell_type": "markdown",
      "metadata": {
        "id": "m55JxwTi7Pyt"
      },
      "source": [
        "## 1.10 Figures"
      ]
    },
    {
      "cell_type": "code",
      "metadata": {
        "colab": {
          "base_uri": "https://localhost:8080/",
          "height": 374
        },
        "id": "wK09xI1-mt7N",
        "outputId": "e11e2439-da97-43f4-eb41-613424419cc6"
      },
      "source": [
        "import matplotlib.pyplot as plt\n",
        "\n",
        "plt.figure(1)\n",
        "plt.figure(figsize=(9,5))\n",
        "plt.rcParams.update({'font.size': 12})\n",
        "# summarize for accuracy\n",
        "plt.plot(LSTMhistory.history['accuracy'], 'r--')\n",
        "plt.plot(GRUhistory.history['accuracy'], 'y-o')\n",
        "plt.plot(LSTMhistory.history['val_accuracy'], 'r-v')\n",
        "plt.plot(GRUhistory.history['val_accuracy'], 'y-s')\n",
        "#plt.xscale('log')\n",
        "plt.grid('True')\n",
        "plt.ylabel('Accuracy')\n",
        "plt.xlabel('Epoch')\n",
        "#plt.ylim(0.8, 0.99)\n",
        "#plt.xlim(0,25)\n",
        "plt.legend(['Train-BiLSTM', 'Train-GRU', 'Val-BiLSTM', 'Val-GRU'], loc='lower right')\n",
        "#plt.gcf().savefig('accuracy.eps', format='eps', dpi=600)     # save the figure"
      ],
      "execution_count": 18,
      "outputs": [
        {
          "output_type": "execute_result",
          "data": {
            "text/plain": [
              "<matplotlib.legend.Legend at 0x7f8ba98e0d50>"
            ]
          },
          "metadata": {},
          "execution_count": 18
        },
        {
          "output_type": "display_data",
          "data": {
            "text/plain": [
              "<Figure size 432x288 with 0 Axes>"
            ]
          },
          "metadata": {}
        },
        {
          "output_type": "display_data",
          "data": {
            "image/png": "[encoded data removed]",
            "text/plain": [
              "<Figure size 648x360 with 1 Axes>"
            ]
          },
          "metadata": {
            "needs_background": "light"
          }
        }
      ]
    },
    {
      "cell_type": "code",
      "metadata": {
        "colab": {
          "base_uri": "https://localhost:8080/",
          "height": 285
        },
        "id": "rh44YGWcvMG7",
        "outputId": "a1a1b419-34ef-4f4a-e08d-50aa8c3af71e"
      },
      "source": [
        "plt.figure(2)\n",
        "# summarize for loss\n",
        "plt.plot(LSTMhistory.history['loss'], 'r--')\n",
        "plt.plot(GRUhistory.history['loss'], 'y-o')\n",
        "plt.plot(LSTMhistory.history['val_loss'], 'r-v')\n",
        "plt.plot(GRUhistory.history['val_loss'], 'y-s')\n",
        "plt.ylabel('Loss')\n",
        "plt.xlabel('Epoch')\n",
        "plt.legend(['Train-BiLSTM','Train-GRU','Val-BiLSTM', 'Val-GRU'], loc='upper right')\n",
        "#plt.yscale('log')\n",
        "#plt.xscale('log')\n",
        "plt.grid('True')\n",
        "#plt.xlim(0,32)\n",
        "#plt.gcf().savefig('loss.eps', format='eps', dpi=600)     # save the figure"
      ],
      "execution_count": 20,
      "outputs": [
        {
          "output_type": "display_data",
          "data": {
            "image/png": "[encoded data removed]",
            "text/plain": [
              "<Figure size 432x288 with 1 Axes>"
            ]
          },
          "metadata": {
            "needs_background": "light"
          }
        }
      ]
    },
    {
      "cell_type": "markdown",
      "metadata": {
        "id": "bii6bsQ_8ihJ"
      },
      "source": [
        "## 1.11 Statistics"
      ]
    },
    {
      "cell_type": "code",
      "metadata": {
        "id": "PHW4P-qG0_dj"
      },
      "source": [
        "y_predLSTM =(LSTMmodel.predict(x_test) > 0.5).astype(\"int32\")\n",
        "y_predGRU =(GRUmodel.predict(x_test) > 0.5).astype(\"int32\")"
      ],
      "execution_count": 21,
      "outputs": []
    },
    {
      "cell_type": "code",
      "metadata": {
        "colab": {
          "base_uri": "https://localhost:8080/"
        },
        "id": "x4C61gTr9b3e",
        "outputId": "b0abfff8-0833-4877-e6d8-823d71603e09"
      },
      "source": [
        "# Finding precision and recall\n",
        "from sklearn.metrics import precision_score, recall_score\n",
        "print(precision_score(y_test, y_predLSTM))\n",
        "print(recall_score(y_test, y_predLSTM))\n",
        "print(precision_score(y_test, y_predGRU))\n",
        "print(recall_score(y_test, y_predGRU))"
      ],
      "execution_count": 22,
      "outputs": [
        {
          "output_type": "stream",
          "name": "stdout",
          "text": [
            "0.9575596816976127\n",
            "0.9516695957820738\n",
            "0.9417666303162486\n",
            "0.9485940246045694\n"
          ]
        }
      ]
    },
    {
      "cell_type": "markdown",
      "metadata": {
        "id": "BSMLzXgL_17j"
      },
      "source": [
        "## 1.12 Testing "
      ]
    },
    {
      "cell_type": "code",
      "metadata": {
        "colab": {
          "base_uri": "https://localhost:8080/"
        },
        "id": "eVU5iWCF-5lA",
        "outputId": "b7fa7419-156b-4cdc-8b3d-b28bf383331a"
      },
      "source": [
        "testename = prepare_encod_names({\"cibely\"})   # Now the names are encod as a vector of numbers with weight\n",
        "resu=(LSTMmodel.predict(testename) > 0.5).astype(\"int32\")\n",
        "if int(resu)==1:\n",
        "  print('M')\n",
        "else:\n",
        "  print('F')"
      ],
      "execution_count": 23,
      "outputs": [
        {
          "output_type": "stream",
          "name": "stdout",
          "text": [
            "F\n"
          ]
        }
      ]
    }
  ]
}