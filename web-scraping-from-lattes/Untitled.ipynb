{
 "cells": [
  {
   "cell_type": "code",
   "execution_count": 8,
   "id": "cf0a76bf",
   "metadata": {},
   "outputs": [
    {
     "name": "stdout",
     "output_type": "stream",
     "text": [
      "cannot import name 'By' from 'selenium' (C:\\Users\\darks\\anaconda3\\lib\\site-packages\\selenium\\__init__.py)\n"
     ]
    }
   ],
   "source": [
    "try:\n",
    "    import pandas as pd\n",
    "    import time as time\n",
    "    import database as db\n",
    "    from bs4 import BeautifulSoup\n",
    "    from unidecode import unidecode\n",
    "    from selenium import webdriver\n",
    "    from selenium.webdriver.common.keys import Keys \n",
    "    from selenium.webdriver.chrome.options import Options\n",
    "    from selenium import By;\n",
    "except Exception as e:\n",
    "    print(e)"
   ]
  },
  {
   "cell_type": "code",
   "execution_count": 12,
   "id": "1ebf4e5f",
   "metadata": {},
   "outputs": [
    {
     "data": {
      "text/plain": [
       "'31136'"
      ]
     },
     "execution_count": 12,
     "metadata": {},
     "output_type": "execute_result"
    }
   ],
   "source": [
    "ano=\"2018\"\n",
    "formacao=\"doutorado\"\n",
    "inicio=0\n",
    "limitePaginas=None\n",
    "curriculo=1\n",
    "\n",
    "op = Options()\n",
    "op.headless = True\n",
    "navegador = webdriver.Chrome(options=op)\n",
    "navegador.get(\"http://buscatextual.cnpq.br/buscatextual/busca.do\")\n",
    "\n",
    "#Tags de pesquisa\n",
    "if formacao != \"doutorado\":\n",
    "    navegador.find_element_by_xpath('//*[@id=\"buscarDemais\"]').send_keys(Keys.SPACE) #Buscar demais pesquisadores\n",
    "\n",
    "    if formacao == \"mestrado\":\n",
    "        navegador.find_element_by_xpath('//*[@id=\"filtro2\"]').click()\n",
    "        time.sleep(1)\n",
    "        navegador.find_element_by_xpath('//*[@id=\"nivelFormacao\"]').click()\n",
    "        navegador.find_element_by_xpath('//*[@id=\"nivelFormacao\"]').send_keys(Keys.DOWN)\n",
    "        navegador.find_element_by_xpath('//*[@id=\"nivelFormacao\"]').send_keys(Keys.DOWN)\n",
    "        navegador.find_element_by_xpath('//*[@id=\"nivelFormacao\"]').send_keys(Keys.DOWN)\n",
    "        navegador.find_element_by_xpath('//*[@id=\"nivelFormacao\"]').send_keys(Keys.ENTER)\n",
    "        time.sleep(1)\n",
    "        navegador.find_element_by_xpath('//*[@id=\"preencheCategoriaNivelBolsa\"]')\n",
    "\n",
    "navegador.find_element_by_xpath('//*[@id=\"buscarEstrangeiros\"]').click()\n",
    "\n",
    "navegador.find_element_by_xpath('//*[@id=\"buscaAssunto\"]').send_keys(Keys.SPACE) #Buscar por assunto\n",
    "\n",
    "#Caixa de texto\n",
    "buscar = navegador.find_element_by_xpath('//*[@id=\"textoBusca\"]')\n",
    "buscar.send_keys(ano)\n",
    "buscar.send_keys(Keys.ENTER)\n",
    "\n",
    "time.sleep(2)\n",
    "\n",
    "passadas = []\n",
    "\n",
    "janelaAtual = navegador.current_window_handle\n",
    "passadas.append(navegador.window_handles)\n",
    "\n",
    "#Variaveis de controle da paginação\n",
    "pagina = 1\n",
    "pag = 2\n",
    "troca = True\n",
    "\n",
    "navegador.find_element_by_xpath('/html/body/form/div/div[4]/div/div/div/div[3]/div/div[1]/b[1]').get_attribute(\"innerHTML\").splitlines()[0]"
   ]
  },
  {
   "cell_type": "code",
   "execution_count": null,
   "id": "8f91c20d",
   "metadata": {},
   "outputs": [],
   "source": []
  }
 ],
 "metadata": {
  "kernelspec": {
   "display_name": "Python 3",
   "language": "python",
   "name": "python3"
  },
  "language_info": {
   "codemirror_mode": {
    "name": "ipython",
    "version": 3
   },
   "file_extension": ".py",
   "mimetype": "text/x-python",
   "name": "python",
   "nbconvert_exporter": "python",
   "pygments_lexer": "ipython3",
   "version": "3.8.8"
  }
 },
 "nbformat": 4,
 "nbformat_minor": 5
}
