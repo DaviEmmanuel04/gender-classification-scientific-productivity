{
 "cells": [
  {
   "cell_type": "code",
   "execution_count": 1,
   "metadata": {
    "id": "GWsp4GUNEkJ3"
   },
   "outputs": [],
   "source": [
    "import requests\n",
    "from bs4 import BeautifulSoup\n",
    "import pandas as pd\n",
    "from unidecode import unidecode"
   ]
  },
  {
   "cell_type": "code",
   "execution_count": 2,
   "metadata": {
    "colab": {
     "base_uri": "https://localhost:8080/"
    },
    "id": "iqMxeOcVeXMP",
    "outputId": "01f6f7b4-4a63-4f31-f274-3c600e2413d8"
   },
   "outputs": [
    {
     "name": "stdout",
     "output_type": "stream",
     "text": [
      "Failed to mount with drive.\n"
     ]
    }
   ],
   "source": [
    "import SVM.SVM as SVM"
   ]
  },
  {
   "cell_type": "code",
   "execution_count": 3,
   "metadata": {
    "id": "JRDlvyejlBVF"
   },
   "outputs": [],
   "source": [
    "dfData = pd.read_csv(\"Data/dataSEMISH.csv\")"
   ]
  },
  {
   "cell_type": "code",
   "execution_count": 4,
   "metadata": {
    "id": "yYlMLsPZecfU"
   },
   "outputs": [],
   "source": [
    "svc = SVM.SVM()\n",
    "svc.training(typeSVM=\"rbf\")"
   ]
  },
  {
   "cell_type": "code",
   "execution_count": 12,
   "metadata": {
    "colab": {
     "base_uri": "https://localhost:8080/",
     "height": 419
    },
    "id": "s4910-FsegfG",
    "outputId": "6e7d4e13-6d95-45a6-9cd3-5ba0b4e23673"
   },
   "outputs": [
    {
     "data": {
      "text/html": [
       "<div>\n",
       "<style scoped>\n",
       "    .dataframe tbody tr th:only-of-type {\n",
       "        vertical-align: middle;\n",
       "    }\n",
       "\n",
       "    .dataframe tbody tr th {\n",
       "        vertical-align: top;\n",
       "    }\n",
       "\n",
       "    .dataframe thead th {\n",
       "        text-align: right;\n",
       "    }\n",
       "</style>\n",
       "<table border=\"1\" class=\"dataframe\">\n",
       "  <thead>\n",
       "    <tr style=\"text-align: right;\">\n",
       "      <th></th>\n",
       "      <th>Ano</th>\n",
       "      <th>Autor</th>\n",
       "      <th>Primeiro Nome</th>\n",
       "      <th>Titulos</th>\n",
       "      <th>SVM</th>\n",
       "    </tr>\n",
       "  </thead>\n",
       "  <tbody>\n",
       "    <tr>\n",
       "      <th>333</th>\n",
       "      <td>2018</td>\n",
       "      <td>Leonardo Cunha de Miranda</td>\n",
       "      <td>Leonardo</td>\n",
       "      <td>Sustentabilidade de Foto-memórias na Era Digit...</td>\n",
       "      <td>M</td>\n",
       "    </tr>\n",
       "    <tr>\n",
       "      <th>309</th>\n",
       "      <td>2018</td>\n",
       "      <td>Gabriel Oliveira Ferreira</td>\n",
       "      <td>Gabriel</td>\n",
       "      <td>Controladores, tratamento de sinais e programa...</td>\n",
       "      <td>M</td>\n",
       "    </tr>\n",
       "    <tr>\n",
       "      <th>308</th>\n",
       "      <td>2018</td>\n",
       "      <td>Ricardo Reis</td>\n",
       "      <td>Ricardo</td>\n",
       "      <td>Estratégias para a Redução de Consumo de Energ...</td>\n",
       "      <td>M</td>\n",
       "    </tr>\n",
       "    <tr>\n",
       "      <th>307</th>\n",
       "      <td>2018</td>\n",
       "      <td>Paulo F. Pires</td>\n",
       "      <td>Paulo</td>\n",
       "      <td>Classifying Smart IoT Devices for Running Mach...</td>\n",
       "      <td>M</td>\n",
       "    </tr>\n",
       "    <tr>\n",
       "      <th>306</th>\n",
       "      <td>2018</td>\n",
       "      <td>Flávia C. Delicato</td>\n",
       "      <td>Flávia</td>\n",
       "      <td>Classifying Smart IoT Devices for Running Mach...</td>\n",
       "      <td>F</td>\n",
       "    </tr>\n",
       "    <tr>\n",
       "      <th>...</th>\n",
       "      <td>...</td>\n",
       "      <td>...</td>\n",
       "      <td>...</td>\n",
       "      <td>...</td>\n",
       "      <td>...</td>\n",
       "    </tr>\n",
       "    <tr>\n",
       "      <th>89</th>\n",
       "      <td>2021</td>\n",
       "      <td>Larissa Mukuno</td>\n",
       "      <td>Larissa</td>\n",
       "      <td>Aplicando modelo de aprendizagem supervisionad...</td>\n",
       "      <td>F</td>\n",
       "    </tr>\n",
       "    <tr>\n",
       "      <th>88</th>\n",
       "      <td>2021</td>\n",
       "      <td>Renato Hidaka Torres</td>\n",
       "      <td>Renato</td>\n",
       "      <td>Análise de sentimento com rede neural convoluc...</td>\n",
       "      <td>M</td>\n",
       "    </tr>\n",
       "    <tr>\n",
       "      <th>87</th>\n",
       "      <td>2021</td>\n",
       "      <td>Orlando Shigueo Ohashi Junior</td>\n",
       "      <td>Orlando</td>\n",
       "      <td>Análise de sentimento com rede neural convoluc...</td>\n",
       "      <td>M</td>\n",
       "    </tr>\n",
       "    <tr>\n",
       "      <th>93</th>\n",
       "      <td>2021</td>\n",
       "      <td>Edleno Silva de Moura</td>\n",
       "      <td>Edleno</td>\n",
       "      <td>Jusbrasil e os Desafios Tecnológicos para Faci...</td>\n",
       "      <td>M</td>\n",
       "    </tr>\n",
       "    <tr>\n",
       "      <th>0</th>\n",
       "      <td>2021</td>\n",
       "      <td>Jean Moraes</td>\n",
       "      <td>Jean</td>\n",
       "      <td>Implementação de um cluster Kubernetes com a p...</td>\n",
       "      <td>M</td>\n",
       "    </tr>\n",
       "  </tbody>\n",
       "</table>\n",
       "<p>334 rows × 5 columns</p>\n",
       "</div>"
      ],
      "text/plain": [
       "      Ano                           Autor Primeiro Nome  \\\n",
       "333  2018       Leonardo Cunha de Miranda      Leonardo   \n",
       "309  2018       Gabriel Oliveira Ferreira       Gabriel   \n",
       "308  2018                    Ricardo Reis       Ricardo   \n",
       "307  2018                  Paulo F. Pires         Paulo   \n",
       "306  2018              Flávia C. Delicato        Flávia   \n",
       "..    ...                             ...           ...   \n",
       "89   2021                  Larissa Mukuno       Larissa   \n",
       "88   2021            Renato Hidaka Torres        Renato   \n",
       "87   2021   Orlando Shigueo Ohashi Junior       Orlando   \n",
       "93   2021           Edleno Silva de Moura        Edleno   \n",
       "0    2021                     Jean Moraes          Jean   \n",
       "\n",
       "                                               Titulos SVM  \n",
       "333  Sustentabilidade de Foto-memórias na Era Digit...   M  \n",
       "309  Controladores, tratamento de sinais e programa...   M  \n",
       "308  Estratégias para a Redução de Consumo de Energ...   M  \n",
       "307  Classifying Smart IoT Devices for Running Mach...   M  \n",
       "306  Classifying Smart IoT Devices for Running Mach...   F  \n",
       "..                                                 ...  ..  \n",
       "89   Aplicando modelo de aprendizagem supervisionad...   F  \n",
       "88   Análise de sentimento com rede neural convoluc...   M  \n",
       "87   Análise de sentimento com rede neural convoluc...   M  \n",
       "93   Jusbrasil e os Desafios Tecnológicos para Faci...   M  \n",
       "0    Implementação de um cluster Kubernetes com a p...   M  \n",
       "\n",
       "[334 rows x 5 columns]"
      ]
     },
     "execution_count": 12,
     "metadata": {},
     "output_type": "execute_result"
    }
   ],
   "source": [
    "dfData[\"SVM\"] = svc.classify([unidecode(name) for name in dfData[\"Primeiro Nome\"]])\n",
    "dfData.sort_values(\"Ano\", inplace=True)\n",
    "dfData"
   ]
  },
  {
   "cell_type": "code",
   "execution_count": 14,
   "metadata": {
    "colab": {
     "base_uri": "https://localhost:8080/"
    },
    "id": "KBkc0zuf2uhx",
    "outputId": "367529c1-cb31-464d-bd84-98ea3a859b84"
   },
   "outputs": [
    {
     "name": "stdout",
     "output_type": "stream",
     "text": [
      "{2018: [10, 31], 2019: [10, 55], 2020: [25, 68], 2021: [30, 105]}\n"
     ]
    }
   ],
   "source": [
    "data = dict()\n",
    "F = 0\n",
    "M = 0\n",
    "ant = 2018\n",
    "for ano, classi in zip(dfData[\"Ano\"], dfData[\"SVM\"]):\n",
    "    if ant != ano and ant != 0:\n",
    "        data[ant] = [F, M]\n",
    "        F, M = 0, 0\n",
    "        ant = ano\n",
    "    if classi == \"F\":\n",
    "        F += 1\n",
    "    if classi == \"M\":\n",
    "        M += 1\n",
    "data[ant] = [F, M]\n",
    "print(data)"
   ]
  },
  {
   "cell_type": "code",
   "execution_count": 15,
   "metadata": {
    "id": "8OoSg5uI8Y91"
   },
   "outputs": [],
   "source": [
    "dftmp = pd.DataFrame()\n",
    "dftmp[\"Ano\"] = [x for x in data]\n",
    "dftmp[\"F\"] = [data[x][0] for x in data]\n",
    "dftmp[\"M\"] = [data[x][1] for x in data]"
   ]
  },
  {
   "cell_type": "code",
   "execution_count": 16,
   "metadata": {
    "id": "Tj7iiTjpaQrC"
   },
   "outputs": [],
   "source": [
    "dftmp.set_index(\"Ano\", inplace=True)"
   ]
  },
  {
   "cell_type": "code",
   "execution_count": 17,
   "metadata": {
    "colab": {
     "base_uri": "https://localhost:8080/",
     "height": 295
    },
    "id": "PHNl1eJuORSA",
    "outputId": "d5e53411-7170-4bc2-a01f-a3ecb8afa242"
   },
   "outputs": [
    {
     "data": {
      "image/png": "[encoded data removed]",
      "text/plain": [
       "<Figure size 432x288 with 1 Axes>"
      ]
     },
     "metadata": {
      "needs_background": "light"
     },
     "output_type": "display_data"
    }
   ],
   "source": [
    "ax = dftmp.plot(kind=\"bar\", grid=True)\n",
    "ax.set_title('Classificação com SVM')\n",
    "x_offset = -0.09\n",
    "y_offset = 1.0\n",
    "for p in ax.patches:\n",
    "    b = p.get_bbox()\n",
    "    val = \"{:.0f}\".format(b.y1 + b.y0)        \n",
    "    ax.annotate(val, ((b.x0 + b.x1)/2 + x_offset, b.y1 + y_offset))"
   ]
  },
  {
   "cell_type": "code",
   "execution_count": null,
   "metadata": {
    "id": "FgI1-va4_tRj"
   },
   "outputs": [],
   "source": [
    "dftmp.plot.line(grid=True, title=\"Classificação com SVM\")"
   ]
  }
 ],
 "metadata": {
  "colab": {
   "name": "SVM - Applicação.ipynb",
   "provenance": []
  },
  "kernelspec": {
   "display_name": "Python 3",
   "language": "python",
   "name": "python3"
  },
  "language_info": {
   "codemirror_mode": {
    "name": "ipython",
    "version": 3
   },
   "file_extension": ".py",
   "mimetype": "text/x-python",
   "name": "python",
   "nbconvert_exporter": "python",
   "pygments_lexer": "ipython3",
   "version": "3.8.8"
  }
 },
 "nbformat": 4,
 "nbformat_minor": 1
}
