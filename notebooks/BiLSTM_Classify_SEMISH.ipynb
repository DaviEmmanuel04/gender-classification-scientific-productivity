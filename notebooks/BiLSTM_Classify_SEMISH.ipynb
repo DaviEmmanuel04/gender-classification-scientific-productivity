{
 "cells": [
  {
   "cell_type": "markdown",
   "metadata": {},
   "source": [
    "# 1 Predicting Gender of Brazilian Names Using Deep Learning in Data Lattes"
   ]
  },
  {
   "cell_type": "markdown",
   "metadata": {},
   "source": [
    "## 1.1 Necessary libraries"
   ]
  },
  {
   "cell_type": "code",
   "execution_count": 1,
   "metadata": {},
   "outputs": [],
   "source": [
    "get_ipython().magic('reset -sf')"
   ]
  },
  {
   "cell_type": "code",
   "execution_count": 2,
   "metadata": {},
   "outputs": [
    {
     "name": "stderr",
     "output_type": "stream",
     "text": [
      "2021-12-04 21:32:23.277906: W tensorflow/stream_executor/platform/default/dso_loader.cc:64] Could not load dynamic library 'libcudart.so.11.0'; dlerror: libcudart.so.11.0: cannot open shared object file: No such file or directory\n",
      "2021-12-04 21:32:23.277934: I tensorflow/stream_executor/cuda/cudart_stub.cc:29] Ignore above cudart dlerror if you do not have a GPU set up on your machine.\n"
     ]
    }
   ],
   "source": [
    "import numpy as np\n",
    "import pandas as pd\n",
    "from joblib import dump, load\n",
    "from tensorflow import keras\n",
    "from unidecode import unidecode\n",
    "import matplotlib.pyplot as plt\n",
    "from tensorflow.keras.regularizers import l2\n",
    "from sklearn.model_selection import train_test_split\n",
    "from keras.layers import Dense, LSTM, Bidirectional, Activation"
   ]
  },
  {
   "cell_type": "markdown",
   "metadata": {},
   "source": [
    "## 1.2 Read the dataset"
   ]
  },
  {
   "cell_type": "code",
   "execution_count": 3,
   "metadata": {},
   "outputs": [],
   "source": [
    "DataSEMISH = pd.read_csv(r\"../data-from-SEMISH/dataSEMISH.csv\")"
   ]
  },
  {
   "cell_type": "code",
   "execution_count": 4,
   "metadata": {},
   "outputs": [
    {
     "data": {
      "text/html": [
       "<div>\n",
       "<style scoped>\n",
       "    .dataframe tbody tr th:only-of-type {\n",
       "        vertical-align: middle;\n",
       "    }\n",
       "\n",
       "    .dataframe tbody tr th {\n",
       "        vertical-align: top;\n",
       "    }\n",
       "\n",
       "    .dataframe thead th {\n",
       "        text-align: right;\n",
       "    }\n",
       "</style>\n",
       "<table border=\"1\" class=\"dataframe\">\n",
       "  <thead>\n",
       "    <tr style=\"text-align: right;\">\n",
       "      <th></th>\n",
       "      <th>Ano</th>\n",
       "      <th>Autor</th>\n",
       "      <th>Primeiro Nome</th>\n",
       "      <th>Titulos</th>\n",
       "    </tr>\n",
       "  </thead>\n",
       "  <tbody>\n",
       "    <tr>\n",
       "      <th>0</th>\n",
       "      <td>2021</td>\n",
       "      <td>Jean Moraes</td>\n",
       "      <td>Jean</td>\n",
       "      <td>Implementação de um cluster Kubernetes com a p...</td>\n",
       "    </tr>\n",
       "    <tr>\n",
       "      <th>1</th>\n",
       "      <td>2021</td>\n",
       "      <td>Elen Lobato</td>\n",
       "      <td>Elen</td>\n",
       "      <td>Implementação de um cluster Kubernetes com a p...</td>\n",
       "    </tr>\n",
       "    <tr>\n",
       "      <th>2</th>\n",
       "      <td>2021</td>\n",
       "      <td>Denis Rosário</td>\n",
       "      <td>Denis</td>\n",
       "      <td>Implementação de um cluster Kubernetes com a p...</td>\n",
       "    </tr>\n",
       "    <tr>\n",
       "      <th>3</th>\n",
       "      <td>2021</td>\n",
       "      <td>Ubiratan Bezerra</td>\n",
       "      <td>Ubiratan</td>\n",
       "      <td>Implementação de um cluster Kubernetes com a p...</td>\n",
       "    </tr>\n",
       "    <tr>\n",
       "      <th>4</th>\n",
       "      <td>2021</td>\n",
       "      <td>Eduardo Cerqueira</td>\n",
       "      <td>Eduardo</td>\n",
       "      <td>Implementação de um cluster Kubernetes com a p...</td>\n",
       "    </tr>\n",
       "  </tbody>\n",
       "</table>\n",
       "</div>"
      ],
      "text/plain": [
       "    Ano               Autor Primeiro Nome  \\\n",
       "0  2021         Jean Moraes          Jean   \n",
       "1  2021         Elen Lobato          Elen   \n",
       "2  2021       Denis Rosário         Denis   \n",
       "3  2021    Ubiratan Bezerra      Ubiratan   \n",
       "4  2021   Eduardo Cerqueira       Eduardo   \n",
       "\n",
       "                                             Titulos  \n",
       "0  Implementação de um cluster Kubernetes com a p...  \n",
       "1  Implementação de um cluster Kubernetes com a p...  \n",
       "2  Implementação de um cluster Kubernetes com a p...  \n",
       "3  Implementação de um cluster Kubernetes com a p...  \n",
       "4  Implementação de um cluster Kubernetes com a p...  "
      ]
     },
     "execution_count": 4,
     "metadata": {},
     "output_type": "execute_result"
    }
   ],
   "source": [
    "DataSEMISH.head()"
   ]
  },
  {
   "cell_type": "code",
   "execution_count": 5,
   "metadata": {},
   "outputs": [
    {
     "name": "stdout",
     "output_type": "stream",
     "text": [
      "Names : 334\n"
     ]
    }
   ],
   "source": [
    "print(\"Names : \" + str(len(DataSEMISH[\"Primeiro Nome\"])))"
   ]
  },
  {
   "cell_type": "markdown",
   "metadata": {},
   "source": [
    "### 1.2.1 Preparing the data"
   ]
  },
  {
   "cell_type": "code",
   "execution_count": 6,
   "metadata": {},
   "outputs": [],
   "source": [
    "data = DataSEMISH[\"Primeiro Nome\"].apply(unidecode).apply(str.lower).apply(lambda x: x.replace(\".\",\" \"))"
   ]
  },
  {
   "cell_type": "markdown",
   "metadata": {},
   "source": [
    "## 1.3 Encoding Words"
   ]
  },
  {
   "cell_type": "code",
   "execution_count": 7,
   "metadata": {},
   "outputs": [
    {
     "data": {
      "text/plain": [
       "'This is called one-hot-encoder and is based on the following papers: \\nhttps://arxiv.org/abs/1707.07129 : Predicting the gender of Indonesian names\\nhttps://ieeexplore.ieee.org/document/8560790 : Advance Gender Prediction Tool...\\n '"
      ]
     },
     "execution_count": 7,
     "metadata": {},
     "output_type": "execute_result"
    }
   ],
   "source": [
    "#word encoding\n",
    "maxlen = 20                                               # max lenght of a name\n",
    "\n",
    "'''Define a vocabulary which corresponds to all the unique letters encountered'''\n",
    "vocab = set(' '.join([str(i) for i in data]))            # creating a vocab\n",
    "vocab.add('END')\n",
    "len_vocab = len(vocab)\n",
    "\n",
    "char_index = dict((c, i) for i, c in enumerate(vocab))    # creating a dictionary\n",
    "''' The dictionary maps each letter of vocabulary to a number '''\n",
    "\n",
    "# Builds an empty line with a 1 at the index of character\n",
    "def set_flag(i):\n",
    "    aux = np.zeros(len_vocab);\n",
    "    aux[i] = 1\n",
    "    return list(aux)\n",
    "\n",
    "# Truncate names and create the matrix\n",
    "def prepare_encod_names(X):\n",
    "    vec_names = []\n",
    "    trunc_name = [str(i)[0:maxlen] for i in X]  # consider only the first 20 characters\n",
    "    for i in trunc_name:\n",
    "        tmp = [set_flag(char_index[j]) for j in str(i)]\n",
    "        for k in range(0,maxlen - len(str(i))):\n",
    "            tmp.append(set_flag(char_index[\"END\"]))\n",
    "        vec_names.append(tmp)\n",
    "    return vec_names\n",
    "\n",
    "'''This is called one-hot-encoder and is based on the following papers: \n",
    "https://arxiv.org/abs/1707.07129 : Predicting the gender of Indonesian names\n",
    "https://ieeexplore.ieee.org/document/8560790 : Advance Gender Prediction Tool...\n",
    " '''"
   ]
  },
  {
   "cell_type": "code",
   "execution_count": 8,
   "metadata": {},
   "outputs": [],
   "source": [
    "x = prepare_encod_names(data)"
   ]
  },
  {
   "cell_type": "markdown",
   "metadata": {},
   "source": [
    "## 1.4 BiLSTM Model"
   ]
  },
  {
   "cell_type": "code",
   "execution_count": 9,
   "metadata": {},
   "outputs": [
    {
     "name": "stderr",
     "output_type": "stream",
     "text": [
      "2021-12-04 21:32:34.649905: W tensorflow/stream_executor/platform/default/dso_loader.cc:64] Could not load dynamic library 'libcuda.so.1'; dlerror: libcuda.so.1: cannot open shared object file: No such file or directory\n",
      "2021-12-04 21:32:34.649935: W tensorflow/stream_executor/cuda/cuda_driver.cc:269] failed call to cuInit: UNKNOWN ERROR (303)\n",
      "2021-12-04 21:32:34.649964: I tensorflow/stream_executor/cuda/cuda_diagnostics.cc:156] kernel driver does not appear to be running on this host (default): /proc/driver/nvidia/version does not exist\n",
      "2021-12-04 21:32:34.650188: I tensorflow/core/platform/cpu_feature_guard.cc:151] This TensorFlow binary is optimized with oneAPI Deep Neural Network Library (oneDNN) to use the following CPU instructions in performance-critical operations:  AVX2 AVX512F FMA\n",
      "To enable them in other operations, rebuild TensorFlow with the appropriate compiler flags.\n"
     ]
    }
   ],
   "source": [
    "bilstm = keras.Sequential()\n",
    "bilstm.add(Bidirectional(LSTM(128, return_sequences=False, dropout=0.2, recurrent_dropout=0.2), \n",
    "                            backward_layer=LSTM(128, return_sequences=False, go_backwards=True, dropout=0.2, recurrent_dropout=0.2),\n",
    "                            input_shape=(maxlen,len_vocab)))\n",
    "bilstm.add(Dense(1, activity_regularizer=l2(0.002)))\n",
    "bilstm.add(Activation('sigmoid'))"
   ]
  },
  {
   "cell_type": "code",
   "execution_count": 10,
   "metadata": {},
   "outputs": [],
   "source": [
    "bilstm.load_weights(filepath=r\"../machine-learning-models/deep-learning-models/BiLSTM/Model/BiLSTM.hdf5\")"
   ]
  },
  {
   "cell_type": "markdown",
   "metadata": {},
   "source": [
    "## 1.5 Predict Gender"
   ]
  },
  {
   "cell_type": "code",
   "execution_count": 11,
   "metadata": {},
   "outputs": [],
   "source": [
    "resu=(bilstm.predict(x) > 0.5).astype(\"int32\")"
   ]
  },
  {
   "cell_type": "markdown",
   "metadata": {},
   "source": [
    "#### 1.5.1 Analysis of results"
   ]
  },
  {
   "cell_type": "code",
   "execution_count": 12,
   "metadata": {},
   "outputs": [
    {
     "data": {
      "text/html": [
       "<div>\n",
       "<style scoped>\n",
       "    .dataframe tbody tr th:only-of-type {\n",
       "        vertical-align: middle;\n",
       "    }\n",
       "\n",
       "    .dataframe tbody tr th {\n",
       "        vertical-align: top;\n",
       "    }\n",
       "\n",
       "    .dataframe thead th {\n",
       "        text-align: right;\n",
       "    }\n",
       "</style>\n",
       "<table border=\"1\" class=\"dataframe\">\n",
       "  <thead>\n",
       "    <tr style=\"text-align: right;\">\n",
       "      <th></th>\n",
       "      <th>Ano</th>\n",
       "      <th>Autor</th>\n",
       "      <th>Primeiro Nome</th>\n",
       "      <th>Titulos</th>\n",
       "      <th>BiLSTM</th>\n",
       "    </tr>\n",
       "  </thead>\n",
       "  <tbody>\n",
       "    <tr>\n",
       "      <th>333</th>\n",
       "      <td>2018</td>\n",
       "      <td>Leonardo Cunha de Miranda</td>\n",
       "      <td>Leonardo</td>\n",
       "      <td>Sustentabilidade de Foto-memórias na Era Digit...</td>\n",
       "      <td>0</td>\n",
       "    </tr>\n",
       "    <tr>\n",
       "      <th>309</th>\n",
       "      <td>2018</td>\n",
       "      <td>Gabriel Oliveira Ferreira</td>\n",
       "      <td>Gabriel</td>\n",
       "      <td>Controladores, tratamento de sinais e programa...</td>\n",
       "      <td>1</td>\n",
       "    </tr>\n",
       "    <tr>\n",
       "      <th>308</th>\n",
       "      <td>2018</td>\n",
       "      <td>Ricardo Reis</td>\n",
       "      <td>Ricardo</td>\n",
       "      <td>Estratégias para a Redução de Consumo de Energ...</td>\n",
       "      <td>0</td>\n",
       "    </tr>\n",
       "    <tr>\n",
       "      <th>307</th>\n",
       "      <td>2018</td>\n",
       "      <td>Paulo F. Pires</td>\n",
       "      <td>Paulo</td>\n",
       "      <td>Classifying Smart IoT Devices for Running Mach...</td>\n",
       "      <td>0</td>\n",
       "    </tr>\n",
       "    <tr>\n",
       "      <th>306</th>\n",
       "      <td>2018</td>\n",
       "      <td>Flávia C. Delicato</td>\n",
       "      <td>Flávia</td>\n",
       "      <td>Classifying Smart IoT Devices for Running Mach...</td>\n",
       "      <td>1</td>\n",
       "    </tr>\n",
       "    <tr>\n",
       "      <th>...</th>\n",
       "      <td>...</td>\n",
       "      <td>...</td>\n",
       "      <td>...</td>\n",
       "      <td>...</td>\n",
       "      <td>...</td>\n",
       "    </tr>\n",
       "    <tr>\n",
       "      <th>89</th>\n",
       "      <td>2021</td>\n",
       "      <td>Larissa Mukuno</td>\n",
       "      <td>Larissa</td>\n",
       "      <td>Aplicando modelo de aprendizagem supervisionad...</td>\n",
       "      <td>0</td>\n",
       "    </tr>\n",
       "    <tr>\n",
       "      <th>88</th>\n",
       "      <td>2021</td>\n",
       "      <td>Renato Hidaka Torres</td>\n",
       "      <td>Renato</td>\n",
       "      <td>Análise de sentimento com rede neural convoluc...</td>\n",
       "      <td>0</td>\n",
       "    </tr>\n",
       "    <tr>\n",
       "      <th>87</th>\n",
       "      <td>2021</td>\n",
       "      <td>Orlando Shigueo Ohashi Junior</td>\n",
       "      <td>Orlando</td>\n",
       "      <td>Análise de sentimento com rede neural convoluc...</td>\n",
       "      <td>1</td>\n",
       "    </tr>\n",
       "    <tr>\n",
       "      <th>93</th>\n",
       "      <td>2021</td>\n",
       "      <td>Edleno Silva de Moura</td>\n",
       "      <td>Edleno</td>\n",
       "      <td>Jusbrasil e os Desafios Tecnológicos para Faci...</td>\n",
       "      <td>0</td>\n",
       "    </tr>\n",
       "    <tr>\n",
       "      <th>0</th>\n",
       "      <td>2021</td>\n",
       "      <td>Jean Moraes</td>\n",
       "      <td>Jean</td>\n",
       "      <td>Implementação de um cluster Kubernetes com a p...</td>\n",
       "      <td>0</td>\n",
       "    </tr>\n",
       "  </tbody>\n",
       "</table>\n",
       "<p>334 rows × 5 columns</p>\n",
       "</div>"
      ],
      "text/plain": [
       "      Ano                           Autor Primeiro Nome  \\\n",
       "333  2018       Leonardo Cunha de Miranda      Leonardo   \n",
       "309  2018       Gabriel Oliveira Ferreira       Gabriel   \n",
       "308  2018                    Ricardo Reis       Ricardo   \n",
       "307  2018                  Paulo F. Pires         Paulo   \n",
       "306  2018              Flávia C. Delicato        Flávia   \n",
       "..    ...                             ...           ...   \n",
       "89   2021                  Larissa Mukuno       Larissa   \n",
       "88   2021            Renato Hidaka Torres        Renato   \n",
       "87   2021   Orlando Shigueo Ohashi Junior       Orlando   \n",
       "93   2021           Edleno Silva de Moura        Edleno   \n",
       "0    2021                     Jean Moraes          Jean   \n",
       "\n",
       "                                               Titulos  BiLSTM  \n",
       "333  Sustentabilidade de Foto-memórias na Era Digit...       0  \n",
       "309  Controladores, tratamento de sinais e programa...       1  \n",
       "308  Estratégias para a Redução de Consumo de Energ...       0  \n",
       "307  Classifying Smart IoT Devices for Running Mach...       0  \n",
       "306  Classifying Smart IoT Devices for Running Mach...       1  \n",
       "..                                                 ...     ...  \n",
       "89   Aplicando modelo de aprendizagem supervisionad...       0  \n",
       "88   Análise de sentimento com rede neural convoluc...       0  \n",
       "87   Análise de sentimento com rede neural convoluc...       1  \n",
       "93   Jusbrasil e os Desafios Tecnológicos para Faci...       0  \n",
       "0    Implementação de um cluster Kubernetes com a p...       0  \n",
       "\n",
       "[334 rows x 5 columns]"
      ]
     },
     "execution_count": 12,
     "metadata": {},
     "output_type": "execute_result"
    }
   ],
   "source": [
    "DataSEMISH[\"BiLSTM\"] = resu\n",
    "DataSEMISH.sort_values(\"Ano\", inplace=True)\n",
    "DataSEMISH"
   ]
  },
  {
   "cell_type": "code",
   "execution_count": 13,
   "metadata": {},
   "outputs": [
    {
     "name": "stdout",
     "output_type": "stream",
     "text": [
      "{2018: [5, 36], 2019: [10, 55], 2020: [21, 72], 2021: [24, 111]}\n"
     ]
    }
   ],
   "source": [
    "data = dict()\n",
    "F = 0\n",
    "M = 0\n",
    "ant = 2018\n",
    "for ano, classi in zip(DataSEMISH[\"Ano\"], DataSEMISH[\"BiLSTM\"]):\n",
    "    if ant != ano and ant != 0:\n",
    "        data[ant] = [F, M]\n",
    "        F, M = 0, 0\n",
    "        ant = ano\n",
    "    if classi == 1:\n",
    "        F += 1\n",
    "    if classi == 0:\n",
    "        M += 1\n",
    "data[ant] = [F, M]\n",
    "print(data)"
   ]
  },
  {
   "cell_type": "code",
   "execution_count": 14,
   "metadata": {},
   "outputs": [],
   "source": [
    "dftmp = pd.DataFrame()\n",
    "dftmp[\"Ano\"] = [x for x in data]\n",
    "dftmp[\"M\"] = [data[x][1] for x in data]\n",
    "dftmp[\"F\"] = [data[x][0] for x in data]\n",
    "dftmp.set_index(\"Ano\", inplace=True)"
   ]
  },
  {
   "cell_type": "code",
   "execution_count": 15,
   "metadata": {},
   "outputs": [
    {
     "data": {
      "image/png": "[encoded data removed]",
      "text/plain": [
       "<Figure size 432x288 with 1 Axes>"
      ]
     },
     "metadata": {
      "needs_background": "light"
     },
     "output_type": "display_data"
    }
   ],
   "source": [
    "ax = dftmp.plot(kind=\"bar\")\n",
    "plt.title(\"Classification in the data of SEMISH per year\")\n",
    "plt.grid('True')\n",
    "plt.xlabel('Ano')\n",
    "x_offset = -0.05\n",
    "y_offset = 2.5\n",
    "for p in ax.patches:\n",
    "    b = p.get_bbox()\n",
    "    val = \"{:.0f}\".format(b.y1 + b.y0)        \n",
    "    ax.annotate(val, ((b.x0 + b.x1)/2 + x_offset, b.y1 + y_offset))"
   ]
  },
  {
   "cell_type": "code",
   "execution_count": 16,
   "metadata": {},
   "outputs": [
    {
     "data": {
      "text/plain": [
       "<AxesSubplot:title={'center':'Classification in the data of SEMISH per year'}, xlabel='Ano'>"
      ]
     },
     "execution_count": 16,
     "metadata": {},
     "output_type": "execute_result"
    },
    {
     "data": {
      "image/png": "[encoded data removed]",
      "text/plain": [
       "<Figure size 432x288 with 1 Axes>"
      ]
     },
     "metadata": {
      "needs_background": "light"
     },
     "output_type": "display_data"
    }
   ],
   "source": [
    "dftmp.plot.line(grid=True, title=\"Classification in the data of SEMISH per year\")"
   ]
  },
  {
   "cell_type": "code",
   "execution_count": null,
   "metadata": {},
   "outputs": [],
   "source": []
  }
 ],
 "metadata": {
  "interpreter": {
   "hash": "220b603fe3acd03c081b61a7257cab69f1e9b8ffefa534554547a53f2dc45d6d"
  },
  "kernelspec": {
   "display_name": "default:Python",
   "language": "python",
   "name": "conda-env-default-py"
  },
  "language_info": {
   "codemirror_mode": {
    "name": "ipython",
    "version": 3
   },
   "file_extension": ".py",
   "mimetype": "text/x-python",
   "name": "python",
   "nbconvert_exporter": "python",
   "pygments_lexer": "ipython3",
   "version": "3.9.7"
  }
 },
 "nbformat": 4,
 "nbformat_minor": 4
}
