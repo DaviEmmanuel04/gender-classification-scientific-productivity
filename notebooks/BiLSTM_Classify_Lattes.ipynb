{
 "cells": [
  {
   "cell_type": "markdown",
   "metadata": {},
   "source": [
    "# 1 Predicting Gender of Brazilian Names Using Deep Learning in Data Lattes"
   ]
  },
  {
   "cell_type": "markdown",
   "metadata": {},
   "source": [
    "## 1.1 Necessary libraries"
   ]
  },
  {
   "cell_type": "code",
   "execution_count": 68,
   "metadata": {},
   "outputs": [],
   "source": [
    "import numpy as np\n",
    "import pandas as pd                       \n",
    "from joblib import dump, load\n",
    "from tensorflow import keras\n",
    "from unidecode import unidecode\n",
    "import matplotlib.pyplot as plt\n",
    "from tensorflow.keras.regularizers import l2\n",
    "from sklearn.model_selection import train_test_split\n",
    "from keras.layers import Dense, LSTM, Bidirectional, Activation"
   ]
  },
  {
   "cell_type": "markdown",
   "metadata": {},
   "source": [
    "## 1.2 Read the dataset"
   ]
  },
  {
   "cell_type": "code",
   "execution_count": 2,
   "metadata": {},
   "outputs": [],
   "source": [
    "DataLattes = pd.read_csv(r\"..\\web-scraping-from-lattes\\dataLattes.csv\")"
   ]
  },
  {
   "cell_type": "code",
   "execution_count": 3,
   "metadata": {},
   "outputs": [
    {
     "data": {
      "text/html": [
       "<div>\n",
       "<style scoped>\n",
       "    .dataframe tbody tr th:only-of-type {\n",
       "        vertical-align: middle;\n",
       "    }\n",
       "\n",
       "    .dataframe tbody tr th {\n",
       "        vertical-align: top;\n",
       "    }\n",
       "\n",
       "    .dataframe thead th {\n",
       "        text-align: right;\n",
       "    }\n",
       "</style>\n",
       "<table border=\"1\" class=\"dataframe\">\n",
       "  <thead>\n",
       "    <tr style=\"text-align: right;\">\n",
       "      <th></th>\n",
       "      <th>Unnamed: 0</th>\n",
       "      <th>primeiro_nome</th>\n",
       "      <th>nome_completo</th>\n",
       "      <th>formacao</th>\n",
       "      <th>titulo</th>\n",
       "      <th>ano</th>\n",
       "    </tr>\n",
       "  </thead>\n",
       "  <tbody>\n",
       "    <tr>\n",
       "      <th>0</th>\n",
       "      <td>0</td>\n",
       "      <td>Jussiê</td>\n",
       "      <td>Jussiê Soares da Rocha</td>\n",
       "      <td>doutorado</td>\n",
       "      <td>Numerical Techniques For Future Applications ...</td>\n",
       "      <td>2018</td>\n",
       "    </tr>\n",
       "    <tr>\n",
       "      <th>1</th>\n",
       "      <td>1</td>\n",
       "      <td>Álvaro</td>\n",
       "      <td>Álvaro Itaúna Schalcher Pereira</td>\n",
       "      <td>doutorado</td>\n",
       "      <td>Estudo de caso dos colaboradores da Unidade d...</td>\n",
       "      <td>2018</td>\n",
       "    </tr>\n",
       "    <tr>\n",
       "      <th>2</th>\n",
       "      <td>2</td>\n",
       "      <td>Álvaro</td>\n",
       "      <td>Álvaro Itaúna Schalcher Pereira</td>\n",
       "      <td>doutorado</td>\n",
       "      <td>Determinação da porosidade drenável em amostr...</td>\n",
       "      <td>2018</td>\n",
       "    </tr>\n",
       "    <tr>\n",
       "      <th>3</th>\n",
       "      <td>3</td>\n",
       "      <td>Álvaro</td>\n",
       "      <td>Álvaro Itaúna Schalcher Pereira</td>\n",
       "      <td>doutorado</td>\n",
       "      <td>Evaluation of conservational practices of the...</td>\n",
       "      <td>2018</td>\n",
       "    </tr>\n",
       "    <tr>\n",
       "      <th>4</th>\n",
       "      <td>4</td>\n",
       "      <td>Álvaro</td>\n",
       "      <td>Álvaro Itaúna Schalcher Pereira</td>\n",
       "      <td>doutorado</td>\n",
       "      <td>Solos de Textura Arenosa e Argilosa</td>\n",
       "      <td>2018</td>\n",
       "    </tr>\n",
       "  </tbody>\n",
       "</table>\n",
       "</div>"
      ],
      "text/plain": [
       "   Unnamed: 0 primeiro_nome                    nome_completo   formacao  \\\n",
       "0           0        Jussiê           Jussiê Soares da Rocha  doutorado   \n",
       "1           1        Álvaro  Álvaro Itaúna Schalcher Pereira  doutorado   \n",
       "2           2        Álvaro  Álvaro Itaúna Schalcher Pereira  doutorado   \n",
       "3           3        Álvaro  Álvaro Itaúna Schalcher Pereira  doutorado   \n",
       "4           4        Álvaro  Álvaro Itaúna Schalcher Pereira  doutorado   \n",
       "\n",
       "                                              titulo   ano  \n",
       "0   Numerical Techniques For Future Applications ...  2018  \n",
       "1   Estudo de caso dos colaboradores da Unidade d...  2018  \n",
       "2   Determinação da porosidade drenável em amostr...  2018  \n",
       "3   Evaluation of conservational practices of the...  2018  \n",
       "4                Solos de Textura Arenosa e Argilosa  2018  "
      ]
     },
     "execution_count": 3,
     "metadata": {},
     "output_type": "execute_result"
    }
   ],
   "source": [
    "DataLattes.head()"
   ]
  },
  {
   "cell_type": "code",
   "execution_count": 4,
   "metadata": {},
   "outputs": [
    {
     "name": "stdout",
     "output_type": "stream",
     "text": [
      "<class 'pandas.core.frame.DataFrame'>\n",
      "RangeIndex: 455794 entries, 0 to 455793\n",
      "Data columns (total 6 columns):\n",
      " #   Column         Non-Null Count   Dtype \n",
      "---  ------         --------------   ----- \n",
      " 0   Unnamed: 0     455794 non-null  int64 \n",
      " 1   primeiro_nome  455794 non-null  object\n",
      " 2   nome_completo  455794 non-null  object\n",
      " 3   formacao       455794 non-null  object\n",
      " 4   titulo         455794 non-null  object\n",
      " 5   ano            455794 non-null  int64 \n",
      "dtypes: int64(2), object(4)\n",
      "memory usage: 20.9+ MB\n"
     ]
    }
   ],
   "source": [
    "DataLattes.info()"
   ]
  },
  {
   "cell_type": "code",
   "execution_count": 5,
   "metadata": {},
   "outputs": [
    {
     "name": "stdout",
     "output_type": "stream",
     "text": [
      "Doutorado : 391000\n",
      "Mestado : 64794\n"
     ]
    }
   ],
   "source": [
    "print(\"Doutorado : \" + str(sum(DataLattes[\"formacao\"]==\"doutorado\")))\n",
    "print(\"Mestado : \" + str(sum(DataLattes[\"formacao\"]==\"mestrado\")))"
   ]
  },
  {
   "cell_type": "markdown",
   "metadata": {},
   "source": [
    "### 1.2.1 Preparing the data"
   ]
  },
  {
   "cell_type": "code",
   "execution_count": 22,
   "metadata": {},
   "outputs": [],
   "source": [
    "namesDout = DataLattes[DataLattes[\"formacao\"]==\"doutorado\"]['primeiro_nome'].apply(lambda x: unidecode(str(x)).lower().replace(\"-\", \" \"))\n",
    "namesMest = DataLattes[DataLattes[\"formacao\"]==\"mestrado\"]['primeiro_nome'].apply(lambda x: unidecode(str(x)).lower().replace(\"-\", \" \"))"
   ]
  },
  {
   "cell_type": "code",
   "execution_count": 23,
   "metadata": {},
   "outputs": [],
   "source": [
    "tmp = list(namesDout)\n",
    "names = DataLattes[DataLattes[\"formacao\"]==\"doutorado\"]['nome_completo']\n",
    "for x, name in zip(range(len(tmp)),names):\n",
    "    if \"ev'\" == tmp[x]:\n",
    "        aux = name.split()\n",
    "        aux = aux[0].replace(\"'\",\"\") + \" \" + aux[1]\n",
    "        tmp[x] = unidecode(aux).lower()\n",
    "    if \"'\" in tmp[x]:\n",
    "        tmp[x] = tmp[x].replace(\"'\",\"\")\n",
    "namesDout = tmp"
   ]
  },
  {
   "cell_type": "code",
   "execution_count": 24,
   "metadata": {},
   "outputs": [],
   "source": [
    "tmp = list(namesMest)\n",
    "for x in range(len(tmp)):\n",
    "    if \"'\" in tmp[x]:\n",
    "        tmp[x] = tmp[x].replace(\"'\",\" \")\n",
    "\n",
    "namesMest = tmp"
   ]
  },
  {
   "cell_type": "markdown",
   "metadata": {},
   "source": [
    "## 1.3 Encoding Words"
   ]
  },
  {
   "cell_type": "code",
   "execution_count": 26,
   "metadata": {},
   "outputs": [
    {
     "data": {
      "text/plain": [
       "'This is called one-hot-encoder and is based on the following papers: \\nhttps://arxiv.org/abs/1707.07129 : Predicting the gender of Indonesian names\\nhttps://ieeexplore.ieee.org/document/8560790 : Advance Gender Prediction Tool...\\n '"
      ]
     },
     "execution_count": 26,
     "metadata": {},
     "output_type": "execute_result"
    }
   ],
   "source": [
    "#word encoding\n",
    "maxlen = 20                                               # max lenght of a name\n",
    "\n",
    "'''Define a vocabulary which corresponds to all the unique letters encountered'''\n",
    "vocab = set(' '.join([str(i) for i in namesDout]))            # creating a vocab\n",
    "vocab.add('END')\n",
    "len_vocab = len(vocab)\n",
    "\n",
    "char_index = dict((c, i) for i, c in enumerate(vocab))    # creating a dictionary\n",
    "''' The dictionary maps each letter of vocabulary to a number '''\n",
    "\n",
    "# Builds an empty line with a 1 at the index of character\n",
    "def set_flag(i):\n",
    "    aux = np.zeros(len_vocab);\n",
    "    aux[i] = 1\n",
    "    return list(aux)\n",
    "\n",
    "# Truncate names and create the matrix\n",
    "def prepare_encod_names(X):\n",
    "    vec_names = []\n",
    "    trunc_name = [str(i)[0:maxlen] for i in X]  # consider only the first 20 characters\n",
    "    for i in trunc_name:\n",
    "        tmp = [set_flag(char_index[j]) for j in str(i)]\n",
    "        for k in range(0,maxlen - len(str(i))):\n",
    "            tmp.append(set_flag(char_index[\"END\"]))\n",
    "        vec_names.append(tmp)\n",
    "    return vec_names\n",
    "\n",
    "'''This is called one-hot-encoder and is based on the following papers: \n",
    "https://arxiv.org/abs/1707.07129 : Predicting the gender of Indonesian names\n",
    "https://ieeexplore.ieee.org/document/8560790 : Advance Gender Prediction Tool...\n",
    " '''"
   ]
  },
  {
   "cell_type": "code",
   "execution_count": 28,
   "metadata": {},
   "outputs": [],
   "source": [
    "x_mest = prepare_encod_names(namesMest)"
   ]
  },
  {
   "cell_type": "code",
   "execution_count": null,
   "metadata": {},
   "outputs": [],
   "source": [
    "x_dout = prepare_encod_names(namesDout)"
   ]
  },
  {
   "cell_type": "markdown",
   "metadata": {},
   "source": [
    "## 1.4 BiLSTM Model"
   ]
  },
  {
   "cell_type": "code",
   "execution_count": 29,
   "metadata": {},
   "outputs": [],
   "source": [
    "bilstm = keras.Sequential()\n",
    "bilstm.add(Bidirectional(LSTM(128, return_sequences=False, dropout=0.2, recurrent_dropout=0.2), \n",
    "                            backward_layer=LSTM(128, return_sequences=False, go_backwards=True, dropout=0.2, recurrent_dropout=0.2),\n",
    "                            input_shape=(maxlen,len_vocab)))\n",
    "bilstm.add(Dense(1, activity_regularizer=l2(0.002)))\n",
    "bilstm.add(Activation('sigmoid'))"
   ]
  },
  {
   "cell_type": "code",
   "execution_count": 30,
   "metadata": {},
   "outputs": [],
   "source": [
    "bilstm.load_weights(filepath=r\"../machine-learning-models/deep-learning-models/BiLSTM/Model/BiLSTM.hdf5\")"
   ]
  },
  {
   "cell_type": "markdown",
   "metadata": {},
   "source": [
    "## 1.5 Predict Gender"
   ]
  },
  {
   "cell_type": "markdown",
   "metadata": {},
   "source": [
    "### 1.5.1 Data of master's degree "
   ]
  },
  {
   "cell_type": "code",
   "execution_count": 31,
   "metadata": {},
   "outputs": [],
   "source": [
    "resu=(bilstm.predict(x_mest) > 0.5).astype(\"int32\")"
   ]
  },
  {
   "cell_type": "code",
   "execution_count": 37,
   "metadata": {},
   "outputs": [
    {
     "data": {
      "text/plain": [
       "['./results/Mestrado.hdf5']"
      ]
     },
     "execution_count": 37,
     "metadata": {},
     "output_type": "execute_result"
    }
   ],
   "source": [
    "dump(resu, r\"./results/Mestrado.hdf5\")"
   ]
  },
  {
   "cell_type": "markdown",
   "metadata": {},
   "source": [
    "#### 1.5.1.1 Analysis of results - Master's"
   ]
  },
  {
   "cell_type": "code",
   "execution_count": 98,
   "metadata": {},
   "outputs": [
    {
     "name": "stdout",
     "output_type": "stream",
     "text": [
      "M : [60850]\n",
      "F : [3944]\n"
     ]
    }
   ],
   "source": [
    "print(\"M : \" + str(sum(resu==0)))\n",
    "print(\"F : \" + str(sum(resu==1)))"
   ]
  },
  {
   "cell_type": "code",
   "execution_count": 100,
   "metadata": {},
   "outputs": [],
   "source": [
    "dftmp = pd.DataFrame(columns=[\"M\",\"F\"])\n",
    "dftmp[\"M\"] = [int(sum(resu==0))]\n",
    "dftmp[\"F\"] = [int(sum(resu==1))]"
   ]
  },
  {
   "cell_type": "code",
   "execution_count": 101,
   "metadata": {},
   "outputs": [
    {
     "data": {
      "image/png": "[encoded data removed]",
      "text/plain": [
       "<Figure size 432x288 with 1 Axes>"
      ]
     },
     "metadata": {
      "needs_background": "light"
     },
     "output_type": "display_data"
    }
   ],
   "source": [
    "ax = dftmp.plot(kind=\"bar\")\n",
    "plt.title(\"Classification in the data of Lattes - master's degree\")\n",
    "plt.grid('True')\n",
    "plt.xlabel('Quantity')\n",
    "x_offset = -0.05\n",
    "y_offset = 2.5\n",
    "for p in ax.patches:\n",
    "    b = p.get_bbox()\n",
    "    val = \"{:.0f}\".format(b.y1 + b.y0)        \n",
    "    ax.annotate(val, ((b.x0 + b.x1)/2 + x_offset, b.y1 + y_offset))"
   ]
  },
  {
   "cell_type": "markdown",
   "metadata": {},
   "source": [
    "### 1.5.1 Data of doctorate degree"
   ]
  },
  {
   "cell_type": "markdown",
   "metadata": {},
   "source": [
    "#### 1.5.1.1 Split data\n",
    "\n",
    "Due to the amount of data, it is necessary to do the division for the classification to take place. Such limitation is due to the amount of memory used in the process."
   ]
  },
  {
   "cell_type": "code",
   "execution_count": 41,
   "metadata": {},
   "outputs": [],
   "source": [
    "namesDout, namesDoutpt1 = train_test_split(namesDout, test_size=0.25)\n",
    "namesDout, namesDoutpt2 = train_test_split(namesDout, test_size=0.25)\n",
    "namesDoutpt3, namesDoutpt4 = train_test_split(namesDout, test_size=0.25)"
   ]
  },
  {
   "cell_type": "markdown",
   "metadata": {},
   "source": [
    "#### 1.5.1.2 Part 1"
   ]
  },
  {
   "cell_type": "code",
   "execution_count": 42,
   "metadata": {},
   "outputs": [],
   "source": [
    "x_dout = prepare_encod_names(namesDoutpt1)"
   ]
  },
  {
   "cell_type": "code",
   "execution_count": null,
   "metadata": {},
   "outputs": [],
   "source": [
    "resu=(bilstm.predict(x_dout) > 0.5).astype(\"int32\")"
   ]
  },
  {
   "cell_type": "code",
   "execution_count": 138,
   "metadata": {},
   "outputs": [
    {
     "name": "stdout",
     "output_type": "stream",
     "text": [
      "M : [52617]\n",
      "F : [2368]\n"
     ]
    }
   ],
   "source": [
    "print(\"M : \" + str(sum(resu==0)))\n",
    "print(\"F : \" + str(sum(resu==1)))"
   ]
  },
  {
   "cell_type": "code",
   "execution_count": 139,
   "metadata": {},
   "outputs": [],
   "source": [
    "dftmp = pd.DataFrame(columns=[\"M\",\"F\"])\n",
    "dftmp[\"M\"] = [int(sum(resu==0))]\n",
    "dftmp[\"F\"] = [int(sum(resu==1))]"
   ]
  },
  {
   "cell_type": "code",
   "execution_count": 140,
   "metadata": {},
   "outputs": [
    {
     "data": {
      "image/png": "[encoded data removed]",
      "text/plain": [
       "<Figure size 432x288 with 1 Axes>"
      ]
     },
     "metadata": {
      "needs_background": "light"
     },
     "output_type": "display_data"
    }
   ],
   "source": [
    "ax = dftmp.plot(kind=\"bar\")\n",
    "plt.title(\"Classification in the data of Lattes - doctorate degree\")\n",
    "plt.grid('True')\n",
    "plt.xlabel('Quantity')\n",
    "x_offset = -0.05\n",
    "y_offset = 2.5\n",
    "for p in ax.patches:\n",
    "    b = p.get_bbox()\n",
    "    val = \"{:.0f}\".format(b.y1 + b.y0)        \n",
    "    ax.annotate(val, ((b.x0 + b.x1)/2 + x_offset, b.y1 + y_offset))"
   ]
  },
  {
   "cell_type": "code",
   "execution_count": null,
   "metadata": {},
   "outputs": [],
   "source": []
  },
  {
   "cell_type": "markdown",
   "metadata": {},
   "source": [
    "#### 1.5.1.3 Part 2"
   ]
  },
  {
   "cell_type": "code",
   "execution_count": 49,
   "metadata": {},
   "outputs": [],
   "source": [
    "x_dout = prepare_encod_names(namesDoutpt2)"
   ]
  },
  {
   "cell_type": "code",
   "execution_count": 50,
   "metadata": {},
   "outputs": [],
   "source": [
    "resu=(bilstm.predict(x_dout) > 0.5).astype(\"int32\")"
   ]
  },
  {
   "cell_type": "code",
   "execution_count": 51,
   "metadata": {},
   "outputs": [
    {
     "data": {
      "text/plain": [
       "['./results/DoutoradoPt2.hdf5']"
      ]
     },
     "execution_count": 51,
     "metadata": {},
     "output_type": "execute_result"
    }
   ],
   "source": [
    "dump(resu, r\"./results/DoutoradoPt2.hdf5\")"
   ]
  },
  {
   "cell_type": "code",
   "execution_count": 134,
   "metadata": {},
   "outputs": [
    {
     "name": "stdout",
     "output_type": "stream",
     "text": [
      "M : [52617]\n",
      "F : [2368]\n"
     ]
    }
   ],
   "source": [
    "print(\"M : \" + str(sum(resu==0)))\n",
    "print(\"F : \" + str(sum(resu==1)))"
   ]
  },
  {
   "cell_type": "code",
   "execution_count": 135,
   "metadata": {},
   "outputs": [],
   "source": [
    "dftmp = pd.DataFrame(columns=[\"M\",\"F\"])\n",
    "dftmp[\"M\"] = [int(sum(resu==0))]\n",
    "dftmp[\"F\"] = [int(sum(resu==1))]"
   ]
  },
  {
   "cell_type": "code",
   "execution_count": 136,
   "metadata": {},
   "outputs": [
    {
     "data": {
      "image/png": "[encoded data removed]",
      "text/plain": [
       "<Figure size 432x288 with 1 Axes>"
      ]
     },
     "metadata": {
      "needs_background": "light"
     },
     "output_type": "display_data"
    }
   ],
   "source": [
    "ax = dftmp.plot(kind=\"bar\")\n",
    "plt.title(\"Classification in the data of Lattes - doctorate degree\")\n",
    "plt.grid('True')\n",
    "plt.xlabel('Quantity')\n",
    "x_offset = -0.05\n",
    "y_offset = 2.5\n",
    "for p in ax.patches:\n",
    "    b = p.get_bbox()\n",
    "    val = \"{:.0f}\".format(b.y1 + b.y0)        \n",
    "    ax.annotate(val, ((b.x0 + b.x1)/2 + x_offset, b.y1 + y_offset))"
   ]
  },
  {
   "cell_type": "code",
   "execution_count": null,
   "metadata": {},
   "outputs": [],
   "source": []
  },
  {
   "cell_type": "markdown",
   "metadata": {},
   "source": [
    "#### 1.5.1.4 Part 3"
   ]
  },
  {
   "cell_type": "code",
   "execution_count": 55,
   "metadata": {},
   "outputs": [],
   "source": [
    "x_dout = prepare_encod_names(namesDoutpt3)"
   ]
  },
  {
   "cell_type": "code",
   "execution_count": 56,
   "metadata": {},
   "outputs": [],
   "source": [
    "resu=(bilstm.predict(x_dout) > 0.5).astype(\"int32\")"
   ]
  },
  {
   "cell_type": "code",
   "execution_count": 57,
   "metadata": {},
   "outputs": [
    {
     "data": {
      "text/plain": [
       "['./results/DoutoradoPt3.hdf5']"
      ]
     },
     "execution_count": 57,
     "metadata": {},
     "output_type": "execute_result"
    }
   ],
   "source": [
    "dump(resu, r\"./results/DoutoradoPt3.hdf5\")"
   ]
  },
  {
   "cell_type": "code",
   "execution_count": 130,
   "metadata": {},
   "outputs": [
    {
     "name": "stdout",
     "output_type": "stream",
     "text": [
      "M : [88917]\n",
      "F : [3868]\n"
     ]
    }
   ],
   "source": [
    "print(\"M : \" + str(sum(resu==0)))\n",
    "print(\"F : \" + str(sum(resu==1)))"
   ]
  },
  {
   "cell_type": "code",
   "execution_count": 131,
   "metadata": {},
   "outputs": [],
   "source": [
    "dftmp = pd.DataFrame(columns=[\"M\",\"F\"])\n",
    "dftmp[\"M\"] = [int(sum(resu==0))]\n",
    "dftmp[\"F\"] = [int(sum(resu==1))]"
   ]
  },
  {
   "cell_type": "code",
   "execution_count": 132,
   "metadata": {},
   "outputs": [
    {
     "data": {
      "image/png": "[encoded data removed]",
      "text/plain": [
       "<Figure size 432x288 with 1 Axes>"
      ]
     },
     "metadata": {
      "needs_background": "light"
     },
     "output_type": "display_data"
    }
   ],
   "source": [
    "ax = dftmp.plot(kind=\"bar\")\n",
    "plt.title(\"Classification in the data of Lattes - doctorate degree\")\n",
    "plt.grid('True')\n",
    "plt.xlabel('Quantity')\n",
    "x_offset = -0.05\n",
    "y_offset = 2.5\n",
    "for p in ax.patches:\n",
    "    b = p.get_bbox()\n",
    "    val = \"{:.0f}\".format(b.y1 + b.y0)        \n",
    "    ax.annotate(val, ((b.x0 + b.x1)/2 + x_offset, b.y1 + y_offset))"
   ]
  },
  {
   "cell_type": "code",
   "execution_count": null,
   "metadata": {},
   "outputs": [],
   "source": []
  },
  {
   "cell_type": "markdown",
   "metadata": {},
   "source": [
    "#### 1.5.1.5 Part 4"
   ]
  },
  {
   "cell_type": "code",
   "execution_count": 61,
   "metadata": {},
   "outputs": [],
   "source": [
    "x_dout = prepare_encod_names(namesDoutpt4)"
   ]
  },
  {
   "cell_type": "code",
   "execution_count": 62,
   "metadata": {},
   "outputs": [],
   "source": [
    "resu=(bilstm.predict(x_dout) > 0.5).astype(\"int32\")"
   ]
  },
  {
   "cell_type": "code",
   "execution_count": 63,
   "metadata": {},
   "outputs": [
    {
     "data": {
      "text/plain": [
       "['./results/DoutoradoPt4.hdf5']"
      ]
     },
     "execution_count": 63,
     "metadata": {},
     "output_type": "execute_result"
    }
   ],
   "source": [
    "dump(resu, r\"./results/DoutoradoPt4.hdf5\")"
   ]
  },
  {
   "cell_type": "code",
   "execution_count": 126,
   "metadata": {},
   "outputs": [
    {
     "name": "stdout",
     "output_type": "stream",
     "text": [
      "M : [52617]\n",
      "F : [2368]\n"
     ]
    }
   ],
   "source": [
    "print(\"M : \" + str(sum(resu==0)))\n",
    "print(\"F : \" + str(sum(resu==1)))"
   ]
  },
  {
   "cell_type": "code",
   "execution_count": 127,
   "metadata": {},
   "outputs": [],
   "source": [
    "dftmp = pd.DataFrame(columns=[\"M\",\"F\"])\n",
    "dftmp[\"M\"] = [int(sum(resu==0))]\n",
    "dftmp[\"F\"] = [int(sum(resu==1))]"
   ]
  },
  {
   "cell_type": "code",
   "execution_count": 128,
   "metadata": {},
   "outputs": [
    {
     "data": {
      "image/png": "[encoded data removed]",
      "text/plain": [
       "<Figure size 432x288 with 1 Axes>"
      ]
     },
     "metadata": {
      "needs_background": "light"
     },
     "output_type": "display_data"
    }
   ],
   "source": [
    "ax = dftmp.plot(kind=\"bar\")\n",
    "plt.title(\"Classification in the data of Lattes - doctorate degree\")\n",
    "plt.grid('True')\n",
    "plt.xlabel('Quantity')\n",
    "x_offset = -0.05\n",
    "y_offset = 2.5\n",
    "for p in ax.patches:\n",
    "    b = p.get_bbox()\n",
    "    val = \"{:.0f}\".format(b.y1 + b.y0)        \n",
    "    ax.annotate(val, ((b.x0 + b.x1)/2 + x_offset, b.y1 + y_offset))"
   ]
  },
  {
   "cell_type": "code",
   "execution_count": null,
   "metadata": {},
   "outputs": [],
   "source": []
  },
  {
   "cell_type": "markdown",
   "metadata": {},
   "source": [
    "#### 1.5.1.6 Join data"
   ]
  },
  {
   "cell_type": "code",
   "execution_count": 118,
   "metadata": {},
   "outputs": [],
   "source": [
    "data1 = load(r\"./results/DoutoradoPt1.hdf5\")\n",
    "data2 = load(r\"./results/DoutoradoPt2.hdf5\")\n",
    "data3 = load(r\"./results/DoutoradoPt3.hdf5\")\n",
    "data4 = load(r\"./results/DoutoradoPt4.hdf5\")"
   ]
  },
  {
   "cell_type": "code",
   "execution_count": 119,
   "metadata": {},
   "outputs": [],
   "source": [
    "data = np.concatenate((data1, data2, data3, data4))"
   ]
  },
  {
   "cell_type": "code",
   "execution_count": 123,
   "metadata": {},
   "outputs": [
    {
     "name": "stdout",
     "output_type": "stream",
     "text": [
      "M : [210681]\n",
      "F : [9256]\n"
     ]
    }
   ],
   "source": [
    "print(\"M : \" + str(sum(data==0)))\n",
    "print(\"F : \" + str(sum(data==1)))"
   ]
  },
  {
   "cell_type": "code",
   "execution_count": 124,
   "metadata": {},
   "outputs": [],
   "source": [
    "dftmp = pd.DataFrame(columns=[\"M\",\"F\"])\n",
    "dftmp[\"M\"] = [int(sum(resu==0))]\n",
    "dftmp[\"F\"] = [int(sum(resu==1))]"
   ]
  },
  {
   "cell_type": "code",
   "execution_count": 125,
   "metadata": {},
   "outputs": [
    {
     "data": {
      "image/png": "[encoded data removed]",
      "text/plain": [
       "<Figure size 432x288 with 1 Axes>"
      ]
     },
     "metadata": {
      "needs_background": "light"
     },
     "output_type": "display_data"
    }
   ],
   "source": [
    "ax = dftmp.plot(kind=\"bar\")\n",
    "plt.title(\"Classification in the data of Lattes - doctorate degree\")\n",
    "plt.grid('True')\n",
    "plt.xlabel('Quantity')\n",
    "x_offset = -0.05\n",
    "y_offset = 2.5\n",
    "for p in ax.patches:\n",
    "    b = p.get_bbox()\n",
    "    val = \"{:.0f}\".format(b.y1 + b.y0)        \n",
    "    ax.annotate(val, ((b.x0 + b.x1)/2 + x_offset, b.y1 + y_offset))"
   ]
  },
  {
   "cell_type": "code",
   "execution_count": null,
   "metadata": {},
   "outputs": [],
   "source": []
  }
 ],
 "metadata": {
  "interpreter": {
   "hash": "220b603fe3acd03c081b61a7257cab69f1e9b8ffefa534554547a53f2dc45d6d"
  },
  "kernelspec": {
   "display_name": "Python 3.8.8 64-bit ('base': conda)",
   "language": "python",
   "name": "python3"
  },
  "language_info": {
   "codemirror_mode": {
    "name": "ipython",
    "version": 3
   },
   "file_extension": ".py",
   "mimetype": "text/x-python",
   "name": "python",
   "nbconvert_exporter": "python",
   "pygments_lexer": "ipython3",
   "version": "3.8.8"
  },
  "orig_nbformat": 4
 },
 "nbformat": 4,
 "nbformat_minor": 2
}
