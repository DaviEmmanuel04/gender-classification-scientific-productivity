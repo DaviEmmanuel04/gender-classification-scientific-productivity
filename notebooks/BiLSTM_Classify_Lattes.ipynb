{
 "cells": [
  {
   "cell_type": "markdown",
   "metadata": {},
   "source": [
    "# 1 Predicting Gender of Brazilian Names Using Deep Learning in Data Lattes"
   ]
  },
  {
   "cell_type": "markdown",
   "metadata": {},
   "source": [
    "## 1.1 Necessary libraries"
   ]
  },
  {
   "cell_type": "code",
   "execution_count": 1,
   "metadata": {},
   "outputs": [
    {
     "name": "stderr",
     "output_type": "stream",
     "text": [
      "2022-07-18 19:10:16.998036: W tensorflow/stream_executor/platform/default/dso_loader.cc:64] Could not load dynamic library 'libcudart.so.11.0'; dlerror: libcudart.so.11.0: cannot open shared object file: No such file or directory\n",
      "2022-07-18 19:10:16.998170: I tensorflow/stream_executor/cuda/cudart_stub.cc:29] Ignore above cudart dlerror if you do not have a GPU set up on your machine.\n"
     ]
    }
   ],
   "source": [
    "import numpy as np\n",
    "import pandas as pd                       \n",
    "from joblib import dump, load\n",
    "from tensorflow import keras\n",
    "from unidecode import unidecode\n",
    "import matplotlib.pyplot as plt\n",
    "from tensorflow.keras.regularizers import l2\n",
    "from sklearn.model_selection import train_test_split\n",
    "from keras.layers import Dropout, Flatten, TimeDistributed\n",
    "from keras.layers import Dense, LSTM, Bidirectional, Activation\n",
    "from sklearn.model_selection import train_test_split"
   ]
  },
  {
   "cell_type": "markdown",
   "metadata": {},
   "source": [
    "## 1.2 Read the dataset"
   ]
  },
  {
   "cell_type": "code",
   "execution_count": 2,
   "metadata": {},
   "outputs": [],
   "source": [
    "DataLattes = pd.read_csv(r\"../web-scraping-from-lattes/dataLattes.csv\")"
   ]
  },
  {
   "cell_type": "code",
   "execution_count": 3,
   "metadata": {},
   "outputs": [
    {
     "data": {
      "text/html": [
       "<div>\n",
       "<style scoped>\n",
       "    .dataframe tbody tr th:only-of-type {\n",
       "        vertical-align: middle;\n",
       "    }\n",
       "\n",
       "    .dataframe tbody tr th {\n",
       "        vertical-align: top;\n",
       "    }\n",
       "\n",
       "    .dataframe thead th {\n",
       "        text-align: right;\n",
       "    }\n",
       "</style>\n",
       "<table border=\"1\" class=\"dataframe\">\n",
       "  <thead>\n",
       "    <tr style=\"text-align: right;\">\n",
       "      <th></th>\n",
       "      <th>Unnamed: 0</th>\n",
       "      <th>primeiro_nome</th>\n",
       "      <th>nome_completo</th>\n",
       "      <th>formacao</th>\n",
       "      <th>titulo</th>\n",
       "      <th>ano</th>\n",
       "    </tr>\n",
       "  </thead>\n",
       "  <tbody>\n",
       "    <tr>\n",
       "      <th>0</th>\n",
       "      <td>0</td>\n",
       "      <td>Jussiê</td>\n",
       "      <td>Jussiê Soares da Rocha</td>\n",
       "      <td>doutorado</td>\n",
       "      <td>Numerical Techniques For Future Applications ...</td>\n",
       "      <td>2018</td>\n",
       "    </tr>\n",
       "    <tr>\n",
       "      <th>1</th>\n",
       "      <td>1</td>\n",
       "      <td>Álvaro</td>\n",
       "      <td>Álvaro Itaúna Schalcher Pereira</td>\n",
       "      <td>doutorado</td>\n",
       "      <td>Estudo de caso dos colaboradores da Unidade d...</td>\n",
       "      <td>2018</td>\n",
       "    </tr>\n",
       "    <tr>\n",
       "      <th>2</th>\n",
       "      <td>2</td>\n",
       "      <td>Álvaro</td>\n",
       "      <td>Álvaro Itaúna Schalcher Pereira</td>\n",
       "      <td>doutorado</td>\n",
       "      <td>Determinação da porosidade drenável em amostr...</td>\n",
       "      <td>2018</td>\n",
       "    </tr>\n",
       "    <tr>\n",
       "      <th>3</th>\n",
       "      <td>3</td>\n",
       "      <td>Álvaro</td>\n",
       "      <td>Álvaro Itaúna Schalcher Pereira</td>\n",
       "      <td>doutorado</td>\n",
       "      <td>Evaluation of conservational practices of the...</td>\n",
       "      <td>2018</td>\n",
       "    </tr>\n",
       "    <tr>\n",
       "      <th>4</th>\n",
       "      <td>4</td>\n",
       "      <td>Álvaro</td>\n",
       "      <td>Álvaro Itaúna Schalcher Pereira</td>\n",
       "      <td>doutorado</td>\n",
       "      <td>Solos de Textura Arenosa e Argilosa</td>\n",
       "      <td>2018</td>\n",
       "    </tr>\n",
       "  </tbody>\n",
       "</table>\n",
       "</div>"
      ],
      "text/plain": [
       "   Unnamed: 0 primeiro_nome                    nome_completo   formacao  \\\n",
       "0           0        Jussiê           Jussiê Soares da Rocha  doutorado   \n",
       "1           1        Álvaro  Álvaro Itaúna Schalcher Pereira  doutorado   \n",
       "2           2        Álvaro  Álvaro Itaúna Schalcher Pereira  doutorado   \n",
       "3           3        Álvaro  Álvaro Itaúna Schalcher Pereira  doutorado   \n",
       "4           4        Álvaro  Álvaro Itaúna Schalcher Pereira  doutorado   \n",
       "\n",
       "                                              titulo   ano  \n",
       "0   Numerical Techniques For Future Applications ...  2018  \n",
       "1   Estudo de caso dos colaboradores da Unidade d...  2018  \n",
       "2   Determinação da porosidade drenável em amostr...  2018  \n",
       "3   Evaluation of conservational practices of the...  2018  \n",
       "4                Solos de Textura Arenosa e Argilosa  2018  "
      ]
     },
     "execution_count": 3,
     "metadata": {},
     "output_type": "execute_result"
    }
   ],
   "source": [
    "DataLattes.head()"
   ]
  },
  {
   "cell_type": "code",
   "execution_count": 4,
   "metadata": {},
   "outputs": [
    {
     "name": "stdout",
     "output_type": "stream",
     "text": [
      "<class 'pandas.core.frame.DataFrame'>\n",
      "RangeIndex: 455794 entries, 0 to 455793\n",
      "Data columns (total 6 columns):\n",
      " #   Column         Non-Null Count   Dtype \n",
      "---  ------         --------------   ----- \n",
      " 0   Unnamed: 0     455794 non-null  int64 \n",
      " 1   primeiro_nome  455794 non-null  object\n",
      " 2   nome_completo  455794 non-null  object\n",
      " 3   formacao       455794 non-null  object\n",
      " 4   titulo         455794 non-null  object\n",
      " 5   ano            455794 non-null  int64 \n",
      "dtypes: int64(2), object(4)\n",
      "memory usage: 20.9+ MB\n"
     ]
    }
   ],
   "source": [
    "DataLattes.info()"
   ]
  },
  {
   "cell_type": "code",
   "execution_count": 5,
   "metadata": {},
   "outputs": [
    {
     "name": "stdout",
     "output_type": "stream",
     "text": [
      "Doutorado : 391000\n",
      "Mestado : 64794\n"
     ]
    }
   ],
   "source": [
    "print(\"Doutorado : \" + str(sum(DataLattes[\"formacao\"]==\"doutorado\")))\n",
    "print(\"Mestado : \" + str(sum(DataLattes[\"formacao\"]==\"mestrado\")))"
   ]
  },
  {
   "cell_type": "markdown",
   "metadata": {},
   "source": [
    "### 1.2.1 Preparing the data"
   ]
  },
  {
   "cell_type": "code",
   "execution_count": 6,
   "metadata": {},
   "outputs": [],
   "source": [
    "namesDout = DataLattes[DataLattes[\"formacao\"]==\"doutorado\"]['primeiro_nome'].apply(lambda x: unidecode(str(x)).lower().replace(\"-\", \" \"))\n",
    "namesMest = DataLattes[DataLattes[\"formacao\"]==\"mestrado\"]['primeiro_nome'].apply(lambda x: unidecode(str(x)).lower().replace(\"-\", \" \"))"
   ]
  },
  {
   "cell_type": "code",
   "execution_count": 7,
   "metadata": {},
   "outputs": [],
   "source": [
    "tmp = list(namesDout)\n",
    "names = DataLattes[DataLattes[\"formacao\"]==\"doutorado\"]['nome_completo']\n",
    "for x, name in zip(range(len(tmp)),names):\n",
    "    if \"ev'\" == tmp[x]:\n",
    "        aux = name.split()\n",
    "        aux = aux[0].replace(\"'\",\"\") + \" \" + aux[1]\n",
    "        tmp[x] = unidecode(aux).lower()\n",
    "    if \"'\" in tmp[x]:\n",
    "        tmp[x] = tmp[x].replace(\"'\",\"\")\n",
    "namesDout = tmp"
   ]
  },
  {
   "cell_type": "code",
   "execution_count": 8,
   "metadata": {},
   "outputs": [],
   "source": [
    "tmp = list(namesMest)\n",
    "for x in range(len(tmp)):\n",
    "    if \"'\" in tmp[x]:\n",
    "        tmp[x] = tmp[x].replace(\"'\",\" \")\n",
    "\n",
    "namesMest = tmp"
   ]
  },
  {
   "cell_type": "markdown",
   "metadata": {},
   "source": [
    "## 1.3 Encoding Words"
   ]
  },
  {
   "cell_type": "code",
   "execution_count": 9,
   "metadata": {},
   "outputs": [
    {
     "data": {
      "text/plain": [
       "'This is called one-hot-encoder and is based on the following papers: \\nhttps://arxiv.org/abs/1707.07129 : Predicting the gender of Indonesian names\\nhttps://ieeexplore.ieee.org/document/8560790 : Advance Gender Prediction Tool...\\n '"
      ]
     },
     "execution_count": 9,
     "metadata": {},
     "output_type": "execute_result"
    }
   ],
   "source": [
    "#word encoding\n",
    "maxlen = 20                                               # max lenght of a name\n",
    "\n",
    "'''Define a vocabulary which corresponds to all the unique letters encountered'''\n",
    "vocab = set(' '.join([str(i) for i in namesDout]))            # creating a vocab\n",
    "vocab.add('END')\n",
    "len_vocab = len(vocab)\n",
    "\n",
    "char_index = dict((c, i) for i, c in enumerate(vocab))    # creating a dictionary\n",
    "''' The dictionary maps each letter of vocabulary to a number '''\n",
    "\n",
    "# Builds an empty line with a 1 at the index of character\n",
    "def set_flag(i):\n",
    "    aux = np.zeros(len_vocab);\n",
    "    aux[i] = 1\n",
    "    return list(aux)\n",
    "\n",
    "# Truncate names and create the matrix\n",
    "def prepare_encod_names(X):\n",
    "    vec_names = []\n",
    "    trunc_name = [str(i)[0:maxlen] for i in X]  # consider only the first 20 characters\n",
    "    for i in trunc_name:\n",
    "        tmp = [set_flag(char_index[j]) for j in str(i)]\n",
    "        for k in range(0,maxlen - len(str(i))):\n",
    "            tmp.append(set_flag(char_index[\"END\"]))\n",
    "        vec_names.append(tmp)\n",
    "    return vec_names\n",
    "\n",
    "'''This is called one-hot-encoder and is based on the following papers: \n",
    "https://arxiv.org/abs/1707.07129 : Predicting the gender of Indonesian names\n",
    "https://ieeexplore.ieee.org/document/8560790 : Advance Gender Prediction Tool...\n",
    " '''"
   ]
  },
  {
   "cell_type": "markdown",
   "metadata": {},
   "source": [
    "## 1.4 BiLSTM Model"
   ]
  },
  {
   "cell_type": "code",
   "execution_count": 10,
   "metadata": {},
   "outputs": [
    {
     "name": "stderr",
     "output_type": "stream",
     "text": [
      "2022-07-18 19:11:22.551765: W tensorflow/stream_executor/platform/default/dso_loader.cc:64] Could not load dynamic library 'libcuda.so.1'; dlerror: libcuda.so.1: cannot open shared object file: No such file or directory\n",
      "2022-07-18 19:11:22.551832: W tensorflow/stream_executor/cuda/cuda_driver.cc:269] failed call to cuInit: UNKNOWN ERROR (303)\n",
      "2022-07-18 19:11:22.551868: I tensorflow/stream_executor/cuda/cuda_diagnostics.cc:156] kernel driver does not appear to be running on this host (gabriel): /proc/driver/nvidia/version does not exist\n",
      "2022-07-18 19:11:22.552649: I tensorflow/core/platform/cpu_feature_guard.cc:151] This TensorFlow binary is optimized with oneAPI Deep Neural Network Library (oneDNN) to use the following CPU instructions in performance-critical operations:  AVX2 AVX512F FMA\n",
      "To enable them in other operations, rebuild TensorFlow with the appropriate compiler flags.\n"
     ]
    }
   ],
   "source": [
    "LSTMmodel = keras.Sequential()\n",
    "LSTMmodel.add(Bidirectional(LSTM(64, return_sequences=True), backward_layer=LSTM(64, return_sequences=True, go_backwards=True), input_shape=(maxlen,len_vocab)))\n",
    "LSTMmodel.add(Dropout(0.1))\n",
    "LSTMmodel.add(Bidirectional(LSTM(64)))\n",
    "LSTMmodel.add(Dense(1, activity_regularizer=l2(0.002)))\n",
    "LSTMmodel.add(Activation('sigmoid'))"
   ]
  },
  {
   "cell_type": "code",
   "execution_count": 12,
   "metadata": {},
   "outputs": [],
   "source": [
    "LSTMmodel.load_weights(filepath=r\"../machine-learning-models/deep-learning-models/BiLSTM/Model/BiLSTM.hdf5\")"
   ]
  },
  {
   "cell_type": "markdown",
   "metadata": {},
   "source": [
    "## 1.5 Predict Gender"
   ]
  },
  {
   "cell_type": "markdown",
   "metadata": {},
   "source": [
    "### 1.5.1 Data of master's degree "
   ]
  },
  {
   "cell_type": "code",
   "execution_count": 13,
   "metadata": {},
   "outputs": [],
   "source": [
    "x_mest = prepare_encod_names(namesMest)"
   ]
  },
  {
   "cell_type": "code",
   "execution_count": 14,
   "metadata": {},
   "outputs": [],
   "source": [
    "resu=(bilstm.predict(x_mest) > 0.5).astype(\"int32\")"
   ]
  },
  {
   "cell_type": "code",
   "execution_count": 19,
   "metadata": {},
   "outputs": [
    {
     "data": {
      "text/plain": [
       "['./results/Mestrado_BiLSTM.csv']"
      ]
     },
     "execution_count": 19,
     "metadata": {},
     "output_type": "execute_result"
    }
   ],
   "source": [
    "dump(resu, r\"./results/Mestrado_BiLSTM.csv\")"
   ]
  },
  {
   "cell_type": "code",
   "execution_count": 47,
   "metadata": {},
   "outputs": [],
   "source": [
    "resu = load(r\"./results/Mestrado_BiLSTM.hdf5\")"
   ]
  },
  {
   "cell_type": "markdown",
   "metadata": {},
   "source": [
    "#### 1.5.1.1 Analysis of results - Master's"
   ]
  },
  {
   "cell_type": "markdown",
   "metadata": {},
   "source": [
    "All data"
   ]
  },
  {
   "cell_type": "code",
   "execution_count": 48,
   "metadata": {},
   "outputs": [
    {
     "name": "stdout",
     "output_type": "stream",
     "text": [
      "M : [38663]\n",
      "F : [26131]\n"
     ]
    }
   ],
   "source": [
    "print(\"M : \" + str(sum(resu==0)))\n",
    "print(\"F : \" + str(sum(resu==1)))"
   ]
  },
  {
   "cell_type": "code",
   "execution_count": 49,
   "metadata": {},
   "outputs": [],
   "source": [
    "dftmp = pd.DataFrame(columns=[\"M\",\"F\"])\n",
    "dftmp[\"M\"] = [int(sum(resu==0))]\n",
    "dftmp[\"F\"] = [int(sum(resu==1))]"
   ]
  },
  {
   "cell_type": "code",
   "execution_count": 50,
   "metadata": {},
   "outputs": [
    {
     "data": {
      "image/png": "[encoded data removed]",
      "text/plain": [
       "<Figure size 432x288 with 1 Axes>"
      ]
     },
     "metadata": {
      "needs_background": "light"
     },
     "output_type": "display_data"
    }
   ],
   "source": [
    "ax = dftmp.plot(kind=\"bar\")\n",
    "plt.title(\"Classification in the data of Lattes - master's degree\")\n",
    "plt.grid('True')\n",
    "plt.ylabel('Quantity')\n",
    "x_offset = -0.05\n",
    "y_offset = 2.5\n",
    "for p in ax.patches:\n",
    "    b = p.get_bbox()\n",
    "    val = \"{:.0f}\".format(b.y1 + b.y0)        \n",
    "    ax.annotate(val, ((b.x0 + b.x1)/2 + x_offset, b.y1 + y_offset))"
   ]
  },
  {
   "cell_type": "markdown",
   "metadata": {},
   "source": [
    "per year"
   ]
  },
  {
   "cell_type": "code",
   "execution_count": 8,
   "metadata": {},
   "outputs": [],
   "source": [
    "dfmaster = DataLattes[DataLattes[\"formacao\"]==\"mestrado\"].copy()\n",
    "dfmaster[\"BiLSTM\"] = resu"
   ]
  },
  {
   "cell_type": "code",
   "execution_count": 9,
   "metadata": {},
   "outputs": [
    {
     "name": "stdout",
     "output_type": "stream",
     "text": [
      "{2018: [6033, 8962], 2019: [6780, 10086], 2020: [8397, 12136], 2021: [4921, 7479]}\n"
     ]
    }
   ],
   "source": [
    "data = dict()\n",
    "F = 0\n",
    "M = 0\n",
    "ant = 2018\n",
    "for ano, classi in zip(dfmaster[\"ano\"], dfmaster[\"BiLSTM\"]):\n",
    "    if ant != ano and ant != 0:\n",
    "        data[ant] = [F, M]\n",
    "        F, M = 0, 0\n",
    "        ant = ano\n",
    "    if classi == 1:\n",
    "        F += 1\n",
    "    if classi == 0:\n",
    "        M += 1\n",
    "data[ant] = [F, M]\n",
    "print(data)"
   ]
  },
  {
   "cell_type": "code",
   "execution_count": 10,
   "metadata": {},
   "outputs": [],
   "source": [
    "dftmp = pd.DataFrame()\n",
    "dftmp[\"Ano\"] = [x for x in data]\n",
    "dftmp[\"M\"] = [data[x][1] for x in data]\n",
    "dftmp[\"F\"] = [data[x][0] for x in data]\n",
    "dftmp.set_index(\"Ano\", inplace=True)"
   ]
  },
  {
   "cell_type": "code",
   "execution_count": 12,
   "metadata": {},
   "outputs": [
    {
     "data": {
      "image/png": "[encoded data removed]",
      "text/plain": [
       "<Figure size 432x288 with 1 Axes>"
      ]
     },
     "metadata": {
      "needs_background": "light"
     },
     "output_type": "display_data"
    }
   ],
   "source": [
    "ax = dftmp.plot(kind=\"bar\")\n",
    "plt.title(\"Classification in the data of Lattes per year - master's degree\")\n",
    "plt.grid('True')\n",
    "plt.xlabel('Year')\n",
    "plt.ylabel('Quantity')\n",
    "x_offset = -0.05\n",
    "y_offset = 2.5\n",
    "for p in ax.patches:\n",
    "    b = p.get_bbox()\n",
    "    val = \"{:.0f}\".format(b.y1 + b.y0)        \n",
    "    ax.annotate(val, ((b.x0 + b.x1)/2 + x_offset, b.y1 + y_offset))"
   ]
  },
  {
   "cell_type": "code",
   "execution_count": 18,
   "metadata": {
    "scrolled": true
   },
   "outputs": [
    {
     "data": {
      "text/plain": [
       "Text(0, 0.5, 'Quantity')"
      ]
     },
     "execution_count": 18,
     "metadata": {},
     "output_type": "execute_result"
    },
    {
     "data": {
      "image/png": "[encoded data removed]",
      "text/plain": [
       "<Figure size 432x288 with 1 Axes>"
      ]
     },
     "metadata": {
      "needs_background": "light"
     },
     "output_type": "display_data"
    }
   ],
   "source": [
    "ax = dftmp.plot.line(grid=True)\n",
    "plt.title(\"Classification in the data of Lattes per year - master's degree\")\n",
    "plt.grid('True')\n",
    "plt.xlabel('Year')\n",
    "plt.ylabel('Quantity')"
   ]
  },
  {
   "cell_type": "markdown",
   "metadata": {},
   "source": [
    "### 1.5.1 Data of doctorate degree"
   ]
  },
  {
   "cell_type": "markdown",
   "metadata": {},
   "source": [
    "#### 1.5.1.1 Split data\n",
    "\n",
    "Due to the amount of data, it is necessary to do the division for the classification to take place. Such limitation is due to the amount of memory used in the process."
   ]
  },
  {
   "cell_type": "code",
   "execution_count": 24,
   "metadata": {},
   "outputs": [],
   "source": [
    "namesDout, namesDoutpt1 = train_test_split(namesDout, test_size=0.25)\n",
    "namesDout, namesDoutpt2 = train_test_split(namesDout, test_size=0.25)\n",
    "namesDoutpt3, namesDoutpt4 = train_test_split(namesDout, test_size=0.25)"
   ]
  },
  {
   "cell_type": "markdown",
   "metadata": {},
   "source": [
    "#### 1.5.1.2 Part 1"
   ]
  },
  {
   "cell_type": "code",
   "execution_count": 25,
   "metadata": {},
   "outputs": [],
   "source": [
    "x_dout = prepare_encod_names(namesDoutpt1)"
   ]
  },
  {
   "cell_type": "code",
   "execution_count": 26,
   "metadata": {},
   "outputs": [],
   "source": [
    "resu1=(bilstm.predict(x_dout) > 0.5).astype(\"int32\")"
   ]
  },
  {
   "cell_type": "code",
   "execution_count": 27,
   "metadata": {},
   "outputs": [
    {
     "data": {
      "text/plain": [
       "['./results/DoutoradoPt1.hdf5']"
      ]
     },
     "execution_count": 27,
     "metadata": {},
     "output_type": "execute_result"
    }
   ],
   "source": [
    "dump(resu1, r\"./results/DoutoradoPt1.hdf5\")"
   ]
  },
  {
   "cell_type": "code",
   "execution_count": 28,
   "metadata": {},
   "outputs": [
    {
     "name": "stdout",
     "output_type": "stream",
     "text": [
      "M : [58979]\n",
      "F : [38771]\n"
     ]
    }
   ],
   "source": [
    "print(\"M : \" + str(sum(resu1==0)))\n",
    "print(\"F : \" + str(sum(resu1==1)))"
   ]
  },
  {
   "cell_type": "code",
   "execution_count": null,
   "metadata": {},
   "outputs": [],
   "source": []
  },
  {
   "cell_type": "markdown",
   "metadata": {},
   "source": [
    "#### 1.5.1.3 Part 2"
   ]
  },
  {
   "cell_type": "code",
   "execution_count": 29,
   "metadata": {},
   "outputs": [],
   "source": [
    "x_dout.clear()\n",
    "x_dout = prepare_encod_names(namesDoutpt2)"
   ]
  },
  {
   "cell_type": "code",
   "execution_count": 30,
   "metadata": {},
   "outputs": [],
   "source": [
    "resu2=(bilstm.predict(x_dout) > 0.5).astype(\"int32\")"
   ]
  },
  {
   "cell_type": "code",
   "execution_count": 31,
   "metadata": {},
   "outputs": [
    {
     "data": {
      "text/plain": [
       "['./results/DoutoradoPt2.hdf5']"
      ]
     },
     "execution_count": 31,
     "metadata": {},
     "output_type": "execute_result"
    }
   ],
   "source": [
    "dump(resu2, r\"./results/DoutoradoPt2.hdf5\")"
   ]
  },
  {
   "cell_type": "code",
   "execution_count": 32,
   "metadata": {},
   "outputs": [
    {
     "name": "stdout",
     "output_type": "stream",
     "text": [
      "M : [44292]\n",
      "F : [29021]\n"
     ]
    }
   ],
   "source": [
    "print(\"M : \" + str(sum(resu2==0)))\n",
    "print(\"F : \" + str(sum(resu2==1)))"
   ]
  },
  {
   "cell_type": "code",
   "execution_count": null,
   "metadata": {},
   "outputs": [],
   "source": []
  },
  {
   "cell_type": "markdown",
   "metadata": {},
   "source": [
    "#### 1.5.1.4 Part 3"
   ]
  },
  {
   "cell_type": "code",
   "execution_count": 33,
   "metadata": {},
   "outputs": [],
   "source": [
    "x_dout.clear()\n",
    "x_dout = prepare_encod_names(namesDoutpt3)"
   ]
  },
  {
   "cell_type": "code",
   "execution_count": null,
   "metadata": {},
   "outputs": [],
   "source": [
    "resu3=(bilstm.predict(x_dout) > 0.5).astype(\"int32\")"
   ]
  },
  {
   "cell_type": "code",
   "execution_count": null,
   "metadata": {},
   "outputs": [],
   "source": [
    "dump(resu3, r\"./results/DoutoradoPt3.hdf5\")"
   ]
  },
  {
   "cell_type": "code",
   "execution_count": null,
   "metadata": {},
   "outputs": [],
   "source": [
    "print(\"M : \" + str(sum(resu3==0)))\n",
    "print(\"F : \" + str(sum(resu3==1)))"
   ]
  },
  {
   "cell_type": "code",
   "execution_count": null,
   "metadata": {},
   "outputs": [],
   "source": []
  },
  {
   "cell_type": "markdown",
   "metadata": {},
   "source": [
    "#### 1.5.1.5 Part 4"
   ]
  },
  {
   "cell_type": "code",
   "execution_count": null,
   "metadata": {},
   "outputs": [],
   "source": [
    "x_dout.clear()\n",
    "x_dout = prepare_encod_names(namesDoutpt4)"
   ]
  },
  {
   "cell_type": "code",
   "execution_count": null,
   "metadata": {},
   "outputs": [],
   "source": [
    "resu4=(bilstm.predict(x_dout) > 0.5).astype(\"int32\")"
   ]
  },
  {
   "cell_type": "code",
   "execution_count": null,
   "metadata": {},
   "outputs": [
    {
     "data": {
      "text/plain": [
       "['./results/DoutoradoPt4.hdf5']"
      ]
     },
     "execution_count": 39,
     "metadata": {},
     "output_type": "execute_result"
    }
   ],
   "source": [
    "dump(resu4, r\"./results/DoutoradoPt4.hdf5\")"
   ]
  },
  {
   "cell_type": "code",
   "execution_count": null,
   "metadata": {},
   "outputs": [
    {
     "name": "stdout",
     "output_type": "stream",
     "text": [
      "M : [33090]\n",
      "F : [21895]\n"
     ]
    }
   ],
   "source": [
    "print(\"M : \" + str(sum(resu4==0)))\n",
    "print(\"F : \" + str(sum(resu4==1)))"
   ]
  },
  {
   "cell_type": "code",
   "execution_count": null,
   "metadata": {},
   "outputs": [],
   "source": []
  },
  {
   "cell_type": "markdown",
   "metadata": {},
   "source": [
    "Concatenate results"
   ]
  },
  {
   "cell_type": "code",
   "execution_count": 53,
   "metadata": {},
   "outputs": [],
   "source": [
    "resu = np.concatenate((resu1,resu2,resu3,resu4))"
   ]
  },
  {
   "cell_type": "code",
   "execution_count": 62,
   "metadata": {},
   "outputs": [
    {
     "data": {
      "text/plain": [
       "['./results/Doutorado.hdf5']"
      ]
     },
     "execution_count": 62,
     "metadata": {},
     "output_type": "execute_result"
    }
   ],
   "source": [
    "dump(resu, r\"./results/Doutorado_BiLSTM.hdf5\")"
   ]
  },
  {
   "cell_type": "code",
   "execution_count": 43,
   "metadata": {},
   "outputs": [],
   "source": [
    "dftmp = pd.DataFrame(columns=[\"M\",\"F\"])\n",
    "dftmp[\"M\"] = [int(sum(resu==0))]\n",
    "dftmp[\"F\"] = [int(sum(resu==1))]"
   ]
  },
  {
   "cell_type": "code",
   "execution_count": 44,
   "metadata": {},
   "outputs": [
    {
     "data": {
      "image/png": "[encoded data removed]",
      "text/plain": [
       "<Figure size 432x288 with 1 Axes>"
      ]
     },
     "metadata": {
      "needs_background": "light"
     },
     "output_type": "display_data"
    }
   ],
   "source": [
    "ax = dftmp.plot(kind=\"bar\")\n",
    "plt.title(\"Classification in the data of Lattes - doctorate degree\")\n",
    "plt.grid('True')\n",
    "plt.ylabel('Quantity')\n",
    "x_offset = -0.05\n",
    "y_offset = 2.5\n",
    "for p in ax.patches:\n",
    "    b = p.get_bbox()\n",
    "    val = \"{:.0f}\".format(b.y1 + b.y0)        \n",
    "    ax.annotate(val, ((b.x0 + b.x1)/2 + x_offset, b.y1 + y_offset))"
   ]
  },
  {
   "cell_type": "code",
   "execution_count": 54,
   "metadata": {},
   "outputs": [],
   "source": [
    "dfdoctorate = DataLattes[DataLattes[\"formacao\"]==\"doutorado\"].copy()\n",
    "dfdoctorate[\"BiLSTM\"] = resu"
   ]
  },
  {
   "cell_type": "code",
   "execution_count": 55,
   "metadata": {},
   "outputs": [
    {
     "name": "stdout",
     "output_type": "stream",
     "text": [
      "{2018: [39292, 59743], 2019: [39834, 60546], 2020: [46452, 71151], 2021: [29506, 44476]}\n"
     ]
    }
   ],
   "source": [
    "data = dict()\n",
    "F = 0\n",
    "M = 0\n",
    "ant = 2018\n",
    "for ano, classi in zip(dfdoctorate[\"ano\"], dfdoctorate[\"BiLSTM\"]):\n",
    "    if ant != ano and ant != 0:\n",
    "        data[ant] = [F, M]\n",
    "        F, M = 0, 0\n",
    "        ant = ano\n",
    "    if classi == 1:\n",
    "        F += 1\n",
    "    if classi == 0:\n",
    "        M += 1\n",
    "data[ant] = [F, M]\n",
    "print(data)"
   ]
  },
  {
   "cell_type": "code",
   "execution_count": 56,
   "metadata": {},
   "outputs": [],
   "source": [
    "dftmp = pd.DataFrame()\n",
    "dftmp[\"Ano\"] = [x for x in data]\n",
    "dftmp[\"M\"] = [data[x][1] for x in data]\n",
    "dftmp[\"F\"] = [data[x][0] for x in data]\n",
    "dftmp.set_index(\"Ano\", inplace=True)"
   ]
  },
  {
   "cell_type": "code",
   "execution_count": 57,
   "metadata": {},
   "outputs": [
    {
     "data": {
      "image/png": "[encoded data removed]",
      "text/plain": [
       "<Figure size 432x288 with 1 Axes>"
      ]
     },
     "metadata": {
      "needs_background": "light"
     },
     "output_type": "display_data"
    }
   ],
   "source": [
    "ax = dftmp.plot(kind=\"bar\")\n",
    "plt.title(\"Classification in the data of Lattes per year - doctorate degree\")\n",
    "plt.grid('True')\n",
    "plt.xlabel('Year')\n",
    "plt.ylabel('Quantity')\n",
    "x_offset = -0.05\n",
    "y_offset = 2.5\n",
    "for p in ax.patches:\n",
    "    b = p.get_bbox()\n",
    "    val = \"{:.0f}\".format(b.y1 + b.y0)\n",
    "    ax.annotate(val, ((b.x0 + b.x1)/2 + x_offset, b.y1 + y_offset))"
   ]
  },
  {
   "cell_type": "code",
   "execution_count": 58,
   "metadata": {
    "scrolled": true
   },
   "outputs": [
    {
     "data": {
      "text/plain": [
       "Text(0, 0.5, 'Quantity')"
      ]
     },
     "execution_count": 58,
     "metadata": {},
     "output_type": "execute_result"
    },
    {
     "data": {
      "image/png": "[encoded data removed]",
      "text/plain": [
       "<Figure size 432x288 with 1 Axes>"
      ]
     },
     "metadata": {
      "needs_background": "light"
     },
     "output_type": "display_data"
    }
   ],
   "source": [
    "dftmp.plot.line(grid=True)\n",
    "plt.title(\"Classification in the data of Lattes per year - doctorate degree\")\n",
    "plt.grid('True')\n",
    "plt.xlabel('Year')\n",
    "plt.ylabel('Quantity')"
   ]
  },
  {
   "cell_type": "code",
   "execution_count": 60,
   "metadata": {},
   "outputs": [
    {
     "data": {
      "text/html": [
       "<div>\n",
       "<style scoped>\n",
       "    .dataframe tbody tr th:only-of-type {\n",
       "        vertical-align: middle;\n",
       "    }\n",
       "\n",
       "    .dataframe tbody tr th {\n",
       "        vertical-align: top;\n",
       "    }\n",
       "\n",
       "    .dataframe thead th {\n",
       "        text-align: right;\n",
       "    }\n",
       "</style>\n",
       "<table border=\"1\" class=\"dataframe\">\n",
       "  <thead>\n",
       "    <tr style=\"text-align: right;\">\n",
       "      <th></th>\n",
       "      <th>primeiro_nome</th>\n",
       "      <th>nome_completo</th>\n",
       "      <th>formacao</th>\n",
       "      <th>titulo</th>\n",
       "      <th>ano</th>\n",
       "      <th>BiLSTM</th>\n",
       "      <th>CNN</th>\n",
       "    </tr>\n",
       "  </thead>\n",
       "  <tbody>\n",
       "    <tr>\n",
       "      <th>0</th>\n",
       "      <td>Jussiê</td>\n",
       "      <td>Jussiê Soares da Rocha</td>\n",
       "      <td>doutorado</td>\n",
       "      <td>Numerical Techniques For Future Applications ...</td>\n",
       "      <td>2018</td>\n",
       "      <td>1</td>\n",
       "      <td>1</td>\n",
       "    </tr>\n",
       "    <tr>\n",
       "      <th>1</th>\n",
       "      <td>Álvaro</td>\n",
       "      <td>Álvaro Itaúna Schalcher Pereira</td>\n",
       "      <td>doutorado</td>\n",
       "      <td>Estudo de caso dos colaboradores da Unidade d...</td>\n",
       "      <td>2018</td>\n",
       "      <td>0</td>\n",
       "      <td>1</td>\n",
       "    </tr>\n",
       "    <tr>\n",
       "      <th>2</th>\n",
       "      <td>Álvaro</td>\n",
       "      <td>Álvaro Itaúna Schalcher Pereira</td>\n",
       "      <td>doutorado</td>\n",
       "      <td>Determinação da porosidade drenável em amostr...</td>\n",
       "      <td>2018</td>\n",
       "      <td>0</td>\n",
       "      <td>1</td>\n",
       "    </tr>\n",
       "    <tr>\n",
       "      <th>3</th>\n",
       "      <td>Álvaro</td>\n",
       "      <td>Álvaro Itaúna Schalcher Pereira</td>\n",
       "      <td>doutorado</td>\n",
       "      <td>Evaluation of conservational practices of the...</td>\n",
       "      <td>2018</td>\n",
       "      <td>1</td>\n",
       "      <td>1</td>\n",
       "    </tr>\n",
       "    <tr>\n",
       "      <th>4</th>\n",
       "      <td>Álvaro</td>\n",
       "      <td>Álvaro Itaúna Schalcher Pereira</td>\n",
       "      <td>doutorado</td>\n",
       "      <td>Solos de Textura Arenosa e Argilosa</td>\n",
       "      <td>2018</td>\n",
       "      <td>1</td>\n",
       "      <td>1</td>\n",
       "    </tr>\n",
       "    <tr>\n",
       "      <th>...</th>\n",
       "      <td>...</td>\n",
       "      <td>...</td>\n",
       "      <td>...</td>\n",
       "      <td>...</td>\n",
       "      <td>...</td>\n",
       "      <td>...</td>\n",
       "      <td>...</td>\n",
       "    </tr>\n",
       "    <tr>\n",
       "      <th>390995</th>\n",
       "      <td>Margarete</td>\n",
       "      <td>Margarete Jesusa Varela Centeno Hülsendeger</td>\n",
       "      <td>doutorado</td>\n",
       "      <td>A PRESENÇA DO PENSAMENTO CIENTÍFICO NA OBRA SOLA</td>\n",
       "      <td>2021</td>\n",
       "      <td>0</td>\n",
       "      <td>0</td>\n",
       "    </tr>\n",
       "    <tr>\n",
       "      <th>390996</th>\n",
       "      <td>Margarete</td>\n",
       "      <td>Margarete Jesusa Varela Centeno Hülsendeger</td>\n",
       "      <td>doutorado</td>\n",
       "      <td>A MULHER NOS ENSAIOS DE ERNESTO SABATO</td>\n",
       "      <td>2021</td>\n",
       "      <td>0</td>\n",
       "      <td>0</td>\n",
       "    </tr>\n",
       "    <tr>\n",
       "      <th>390997</th>\n",
       "      <td>Jussara</td>\n",
       "      <td>Jussara Maria Moreno Jacintho</td>\n",
       "      <td>doutorado</td>\n",
       "      <td>Utilização da análise multicritério para divi...</td>\n",
       "      <td>2021</td>\n",
       "      <td>0</td>\n",
       "      <td>0</td>\n",
       "    </tr>\n",
       "    <tr>\n",
       "      <th>390998</th>\n",
       "      <td>Adilbênia</td>\n",
       "      <td>Adilbênia Freire Machado</td>\n",
       "      <td>doutorado</td>\n",
       "      <td>poéticas de re-existências para descolonizaçã...</td>\n",
       "      <td>2021</td>\n",
       "      <td>0</td>\n",
       "      <td>0</td>\n",
       "    </tr>\n",
       "    <tr>\n",
       "      <th>390999</th>\n",
       "      <td>Verbena</td>\n",
       "      <td>Verbena Córdula Almeida</td>\n",
       "      <td>doutorado</td>\n",
       "      <td>Temática - Revista eletrônica de publicação m...</td>\n",
       "      <td>2021</td>\n",
       "      <td>1</td>\n",
       "      <td>0</td>\n",
       "    </tr>\n",
       "  </tbody>\n",
       "</table>\n",
       "<p>391000 rows × 7 columns</p>\n",
       "</div>"
      ],
      "text/plain": [
       "       primeiro_nome                                nome_completo   formacao  \\\n",
       "0             Jussiê                       Jussiê Soares da Rocha  doutorado   \n",
       "1             Álvaro              Álvaro Itaúna Schalcher Pereira  doutorado   \n",
       "2             Álvaro              Álvaro Itaúna Schalcher Pereira  doutorado   \n",
       "3             Álvaro              Álvaro Itaúna Schalcher Pereira  doutorado   \n",
       "4             Álvaro              Álvaro Itaúna Schalcher Pereira  doutorado   \n",
       "...              ...                                          ...        ...   \n",
       "390995     Margarete  Margarete Jesusa Varela Centeno Hülsendeger  doutorado   \n",
       "390996     Margarete  Margarete Jesusa Varela Centeno Hülsendeger  doutorado   \n",
       "390997       Jussara                Jussara Maria Moreno Jacintho  doutorado   \n",
       "390998     Adilbênia                     Adilbênia Freire Machado  doutorado   \n",
       "390999       Verbena                      Verbena Córdula Almeida  doutorado   \n",
       "\n",
       "                                                   titulo   ano  BiLSTM  CNN  \n",
       "0        Numerical Techniques For Future Applications ...  2018       1    1  \n",
       "1        Estudo de caso dos colaboradores da Unidade d...  2018       0    1  \n",
       "2        Determinação da porosidade drenável em amostr...  2018       0    1  \n",
       "3        Evaluation of conservational practices of the...  2018       1    1  \n",
       "4                     Solos de Textura Arenosa e Argilosa  2018       1    1  \n",
       "...                                                   ...   ...     ...  ...  \n",
       "390995   A PRESENÇA DO PENSAMENTO CIENTÍFICO NA OBRA SOLA  2021       0    0  \n",
       "390996             A MULHER NOS ENSAIOS DE ERNESTO SABATO  2021       0    0  \n",
       "390997   Utilização da análise multicritério para divi...  2021       0    0  \n",
       "390998   poéticas de re-existências para descolonizaçã...  2021       0    0  \n",
       "390999   Temática - Revista eletrônica de publicação m...  2021       1    0  \n",
       "\n",
       "[391000 rows x 7 columns]"
      ]
     },
     "execution_count": 60,
     "metadata": {},
     "output_type": "execute_result"
    }
   ],
   "source": [
    "dfdoctorate.reset_index(inplace=True)\n",
    "dfdoctorate.drop(\"index\", axis='columns', inplace=True)\n",
    "dfdoctorate.drop(\"Unnamed: 0\", axis='columns', inplace=True)\n",
    "dfdoctorate"
   ]
  },
  {
   "cell_type": "code",
   "execution_count": null,
   "metadata": {},
   "outputs": [],
   "source": []
  }
 ],
 "metadata": {
  "kernelspec": {
   "display_name": "Python 3.9.12 ('GCAP')",
   "language": "python",
   "name": "python3"
  },
  "language_info": {
   "codemirror_mode": {
    "name": "ipython",
    "version": 3
   },
   "file_extension": ".py",
   "mimetype": "text/x-python",
   "name": "python",
   "nbconvert_exporter": "python",
   "pygments_lexer": "ipython3",
   "version": "3.9.12"
  },
  "vscode": {
   "interpreter": {
    "hash": "c2cf88d8c5d38cae8c63f896228d09de89c3cc1f61113181d8b74e0cc0698de2"
   }
  }
 },
 "nbformat": 4,
 "nbformat_minor": 4
}
