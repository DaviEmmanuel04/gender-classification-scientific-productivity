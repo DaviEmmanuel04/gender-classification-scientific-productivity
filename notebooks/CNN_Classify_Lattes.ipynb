{
 "cells": [
  {
   "cell_type": "markdown",
   "metadata": {},
   "source": [
    "# 1 - Utilizando modelo de Machine Learning para prever o gênero"
   ]
  },
  {
   "cell_type": "markdown",
   "metadata": {},
   "source": [
    "## 1.1 - Importando as bibliotecas necessárias"
   ]
  },
  {
   "cell_type": "code",
   "execution_count": null,
   "metadata": {},
   "outputs": [],
   "source": [
    "from IPython import get_ipython\n",
    "get_ipython().magic('reset -sf')"
   ]
  },
  {
   "cell_type": "code",
   "execution_count": 22,
   "metadata": {
    "colab": {
     "base_uri": "https://localhost:8080/"
    },
    "id": "jFmBRXsocxHT",
    "outputId": "17838319-5565-4b3a-a085-f422b0ee9a11"
   },
   "outputs": [],
   "source": [
    "import pandas as pd\n",
    "import numpy as np \n",
    "#import seaborn as sns\n",
    "import matplotlib.pyplot as plt\n",
    "from sklearn import preprocessing\n",
    "from sklearn.model_selection import train_test_split\n",
    "from keras import layers\n",
    "from keras import models\n",
    "from keras.models import Sequential\n",
    "from keras.layers import Dense, Flatten\n",
    "from keras.layers.convolutional import Conv1D, MaxPooling1D\n",
    "from tensorflow import keras\n",
    "from unidecode import unidecode\n",
    "from joblib import dump, load"
   ]
  },
  {
   "cell_type": "markdown",
   "metadata": {},
   "source": [
    "## 1.2 - Lendo o Dataset"
   ]
  },
  {
   "cell_type": "code",
   "execution_count": 23,
   "metadata": {
    "id": "4JUgRYuWdRa7"
   },
   "outputs": [],
   "source": [
    "# Carregando o dataset\n",
    "df = pd.read_csv('nomes.csv')"
   ]
  },
  {
   "cell_type": "markdown",
   "metadata": {},
   "source": [
    "## 1.2.1 Codificando o gênero"
   ]
  },
  {
   "cell_type": "code",
   "execution_count": 25,
   "metadata": {
    "id": "_ln9iscsdUgD"
   },
   "outputs": [],
   "source": [
    "# Chamando o LabelEncoder do Sklearn\n",
    "le = preprocessing.LabelEncoder()\n",
    "\n",
    "y = le.fit_transform(df.classification) # Faz um One Hot Encode do sexo(masculino/feminino)\n",
    "names = df['first_name'].apply(lambda x: x.lower()) # Deixa todos os nomes em letras minúsculas "
   ]
  },
  {
   "cell_type": "code",
   "execution_count": 27,
   "metadata": {
    "colab": {
     "base_uri": "https://localhost:8080/",
     "height": 206
    },
    "id": "FvX9gt9rccmI",
    "outputId": "45972002-4543-49c8-b13d-8c70ba1bbc98"
   },
   "outputs": [
    {
     "data": {
      "text/html": [
       "<div>\n",
       "<style scoped>\n",
       "    .dataframe tbody tr th:only-of-type {\n",
       "        vertical-align: middle;\n",
       "    }\n",
       "\n",
       "    .dataframe tbody tr th {\n",
       "        vertical-align: top;\n",
       "    }\n",
       "\n",
       "    .dataframe thead th {\n",
       "        text-align: right;\n",
       "    }\n",
       "</style>\n",
       "<table border=\"1\" class=\"dataframe\">\n",
       "  <thead>\n",
       "    <tr style=\"text-align: right;\">\n",
       "      <th></th>\n",
       "      <th>alternative_names</th>\n",
       "      <th>classification</th>\n",
       "      <th>first_name</th>\n",
       "      <th>frequency_female</th>\n",
       "      <th>frequency_male</th>\n",
       "      <th>frequency_total</th>\n",
       "      <th>frequency_group</th>\n",
       "      <th>group_name</th>\n",
       "      <th>ratio</th>\n",
       "    </tr>\n",
       "  </thead>\n",
       "  <tbody>\n",
       "    <tr>\n",
       "      <th>0</th>\n",
       "      <td>AILINE|ALEINE|ALIINE|ALINE|ALINER|ALINHE|ALINN...</td>\n",
       "      <td>F</td>\n",
       "      <td>AALINE</td>\n",
       "      <td>66.0</td>\n",
       "      <td>NaN</td>\n",
       "      <td>66</td>\n",
       "      <td>530550</td>\n",
       "      <td>ALINE</td>\n",
       "      <td>1.0</td>\n",
       "    </tr>\n",
       "    <tr>\n",
       "      <th>1</th>\n",
       "      <td>ARAAO|ARAO</td>\n",
       "      <td>M</td>\n",
       "      <td>AARAO</td>\n",
       "      <td>NaN</td>\n",
       "      <td>281.0</td>\n",
       "      <td>281</td>\n",
       "      <td>3526</td>\n",
       "      <td>ARAO</td>\n",
       "      <td>1.0</td>\n",
       "    </tr>\n",
       "    <tr>\n",
       "      <th>2</th>\n",
       "      <td>AHARON|AROM|ARON|ARYON|HARON</td>\n",
       "      <td>M</td>\n",
       "      <td>AARON</td>\n",
       "      <td>NaN</td>\n",
       "      <td>676.0</td>\n",
       "      <td>676</td>\n",
       "      <td>3442</td>\n",
       "      <td>ARON</td>\n",
       "      <td>1.0</td>\n",
       "    </tr>\n",
       "    <tr>\n",
       "      <th>3</th>\n",
       "      <td>ADA|ADAH|ADAR|ADHA|HADA</td>\n",
       "      <td>F</td>\n",
       "      <td>ABA</td>\n",
       "      <td>82.0</td>\n",
       "      <td>NaN</td>\n",
       "      <td>82</td>\n",
       "      <td>5583</td>\n",
       "      <td>ADA</td>\n",
       "      <td>1.0</td>\n",
       "    </tr>\n",
       "    <tr>\n",
       "      <th>4</th>\n",
       "      <td>NaN</td>\n",
       "      <td>M</td>\n",
       "      <td>ABADE</td>\n",
       "      <td>NaN</td>\n",
       "      <td>57.0</td>\n",
       "      <td>57</td>\n",
       "      <td>57</td>\n",
       "      <td>ABADE</td>\n",
       "      <td>1.0</td>\n",
       "    </tr>\n",
       "  </tbody>\n",
       "</table>\n",
       "</div>"
      ],
      "text/plain": [
       "                                   alternative_names classification  \\\n",
       "0  AILINE|ALEINE|ALIINE|ALINE|ALINER|ALINHE|ALINN...              F   \n",
       "1                                         ARAAO|ARAO              M   \n",
       "2                       AHARON|AROM|ARON|ARYON|HARON              M   \n",
       "3                            ADA|ADAH|ADAR|ADHA|HADA              F   \n",
       "4                                                NaN              M   \n",
       "\n",
       "  first_name  frequency_female  frequency_male  frequency_total  \\\n",
       "0     AALINE              66.0             NaN               66   \n",
       "1      AARAO               NaN           281.0              281   \n",
       "2      AARON               NaN           676.0              676   \n",
       "3        ABA              82.0             NaN               82   \n",
       "4      ABADE               NaN            57.0               57   \n",
       "\n",
       "   frequency_group group_name  ratio  \n",
       "0           530550      ALINE    1.0  \n",
       "1             3526       ARAO    1.0  \n",
       "2             3442       ARON    1.0  \n",
       "3             5583        ADA    1.0  \n",
       "4               57      ABADE    1.0  "
      ]
     },
     "execution_count": 27,
     "metadata": {},
     "output_type": "execute_result"
    }
   ],
   "source": [
    "df.head()"
   ]
  },
  {
   "cell_type": "markdown",
   "metadata": {},
   "source": [
    "## 1.3 - Codificando os nomes"
   ]
  },
  {
   "cell_type": "code",
   "execution_count": 29,
   "metadata": {
    "id": "Tb81hQ7Ddjcs"
   },
   "outputs": [],
   "source": [
    "# Cria um vocabulário com todos os caracteres do dataset\n",
    "vocab = set(' '.join([str(i) for i in names]))            \n",
    "vocab.add('END')\n",
    "len_vocab = len(vocab)\n",
    "char_index = dict((c, i) for i, c in enumerate(vocab))"
   ]
  },
  {
   "cell_type": "code",
   "execution_count": 30,
   "metadata": {
    "id": "mR3_LdMhdkq0"
   },
   "outputs": [],
   "source": [
    "maxlen = 14 # Esse é o tamanho do maior nome do dataset\n",
    "\n",
    "# Essa função seta o valor 1 no vetor, de acordo com a posição da letra e o seu\n",
    "# valor no vocabulário criado anteriormente\n",
    "def set_flag(i):\n",
    "    aux = np.zeros(len_vocab);\n",
    "    aux[i] = 1\n",
    "    return list(aux)\n",
    "\n",
    "# Função que percorre o dataset e chama a funçõa 'set_flag' para setar o valor 1\n",
    "# na posição correta. Essa funão retor um vetor com todos os nomes codificados.\n",
    "def prepare_encod_names(X):\n",
    "    vec_names = []\n",
    "    trunc_name = [str(i)[0:maxlen] for i in X]  \n",
    "    for i in trunc_name:\n",
    "        tmp = [set_flag(char_index[j]) for j in str(i)]\n",
    "        for k in range(0,maxlen - len(str(i))):\n",
    "            tmp.append(set_flag(char_index[\"END\"]))\n",
    "        vec_names.append(tmp)\n",
    "    return vec_names"
   ]
  },
  {
   "cell_type": "code",
   "execution_count": 32,
   "metadata": {},
   "outputs": [],
   "source": [
    "# Codificando os nomes, não recomendo que tente imprimir\n",
    "x = prepare_encod_names(names.values)"
   ]
  },
  {
   "cell_type": "markdown",
   "metadata": {},
   "source": [
    "## 1.3.1 - Separando os nomes"
   ]
  },
  {
   "cell_type": "code",
   "execution_count": null,
   "metadata": {
    "id": "JB88uG7gdqJ9"
   },
   "outputs": [],
   "source": [
    "# Separando os dados em treino, teste e validação \n",
    "X_train, X_test, y_train, y_test = train_test_split(x, y, test_size=0.3)\n",
    "X_train, x_val, y_train, y_val = train_test_split(X_train, y_train, test_size=0.3)\n",
    "X_train = np.asarray(X_train)\n",
    "X_test = np.asarray(X_test)\n",
    "y_train = np.asarray(y_train)\n",
    "y_test = np.asarray(y_test)\n",
    "x_val = np.asarray(x_val)\n",
    "y_val = np.asarray(y_val)"
   ]
  },
  {
   "cell_type": "markdown",
   "metadata": {},
   "source": [
    "## 1.4 Modelo CNN"
   ]
  },
  {
   "cell_type": "code",
   "execution_count": 11,
   "metadata": {
    "colab": {
     "base_uri": "https://localhost:8080/"
    },
    "id": "hatMbwabgAyp",
    "outputId": "501e0194-cca7-4676-de46-61a8c7598969"
   },
   "outputs": [
    {
     "name": "stderr",
     "output_type": "stream",
     "text": [
      "2021-12-09 14:13:30.437052: W tensorflow/stream_executor/platform/default/dso_loader.cc:64] Could not load dynamic library 'libcuda.so.1'; dlerror: libcuda.so.1: cannot open shared object file: No such file or directory\n",
      "2021-12-09 14:13:30.437087: W tensorflow/stream_executor/cuda/cuda_driver.cc:269] failed call to cuInit: UNKNOWN ERROR (303)\n",
      "2021-12-09 14:13:30.437252: I tensorflow/stream_executor/cuda/cuda_diagnostics.cc:156] kernel driver does not appear to be running on this host (default): /proc/driver/nvidia/version does not exist\n",
      "2021-12-09 14:13:30.437517: I tensorflow/core/platform/cpu_feature_guard.cc:151] This TensorFlow binary is optimized with oneAPI Deep Neural Network Library (oneDNN) to use the following CPU instructions in performance-critical operations:  AVX2 AVX512F FMA\n",
      "To enable them in other operations, rebuild TensorFlow with the appropriate compiler flags.\n"
     ]
    },
    {
     "name": "stdout",
     "output_type": "stream",
     "text": [
      "Epoch 1/100\n",
      "772/772 [==============================] - 12s 15ms/step - loss: 0.3921 - accuracy: 0.8152 - val_loss: 0.2660 - val_accuracy: 0.8857\n",
      "Epoch 2/100\n",
      "772/772 [==============================] - 11s 14ms/step - loss: 0.2487 - accuracy: 0.8959 - val_loss: 0.2183 - val_accuracy: 0.9090\n",
      "Epoch 3/100\n",
      "772/772 [==============================] - 11s 14ms/step - loss: 0.2189 - accuracy: 0.9117 - val_loss: 0.1989 - val_accuracy: 0.9197\n",
      "Epoch 4/100\n",
      "772/772 [==============================] - 11s 14ms/step - loss: 0.2005 - accuracy: 0.9212 - val_loss: 0.2089 - val_accuracy: 0.9120\n",
      "Epoch 5/100\n",
      "772/772 [==============================] - 11s 14ms/step - loss: 0.1895 - accuracy: 0.9264 - val_loss: 0.1791 - val_accuracy: 0.9282\n",
      "Epoch 6/100\n",
      "772/772 [==============================] - 11s 14ms/step - loss: 0.1805 - accuracy: 0.9302 - val_loss: 0.1771 - val_accuracy: 0.9287\n",
      "Epoch 7/100\n",
      "772/772 [==============================] - 11s 14ms/step - loss: 0.1724 - accuracy: 0.9335 - val_loss: 0.1719 - val_accuracy: 0.9316\n",
      "Epoch 8/100\n",
      "772/772 [==============================] - 11s 14ms/step - loss: 0.1664 - accuracy: 0.9356 - val_loss: 0.1655 - val_accuracy: 0.9343\n",
      "Epoch 9/100\n",
      "772/772 [==============================] - 11s 14ms/step - loss: 0.1599 - accuracy: 0.9382 - val_loss: 0.1628 - val_accuracy: 0.9354\n",
      "Epoch 10/100\n",
      "772/772 [==============================] - 11s 14ms/step - loss: 0.1549 - accuracy: 0.9414 - val_loss: 0.1560 - val_accuracy: 0.9372\n",
      "Epoch 11/100\n",
      "772/772 [==============================] - 11s 14ms/step - loss: 0.1500 - accuracy: 0.9430 - val_loss: 0.1531 - val_accuracy: 0.9393\n",
      "Epoch 12/100\n",
      "772/772 [==============================] - 11s 14ms/step - loss: 0.1461 - accuracy: 0.9449 - val_loss: 0.1500 - val_accuracy: 0.9402\n",
      "Epoch 13/100\n",
      "772/772 [==============================] - 11s 14ms/step - loss: 0.1430 - accuracy: 0.9461 - val_loss: 0.1484 - val_accuracy: 0.9410\n",
      "Epoch 14/100\n",
      "772/772 [==============================] - 11s 14ms/step - loss: 0.1395 - accuracy: 0.9474 - val_loss: 0.1477 - val_accuracy: 0.9411\n",
      "Epoch 15/100\n",
      "772/772 [==============================] - 11s 14ms/step - loss: 0.1362 - accuracy: 0.9482 - val_loss: 0.1488 - val_accuracy: 0.9381\n",
      "Epoch 16/100\n",
      "772/772 [==============================] - 11s 14ms/step - loss: 0.1321 - accuracy: 0.9507 - val_loss: 0.1423 - val_accuracy: 0.9426\n",
      "Epoch 17/100\n",
      "772/772 [==============================] - 11s 14ms/step - loss: 0.1303 - accuracy: 0.9509 - val_loss: 0.1455 - val_accuracy: 0.9399\n",
      "Epoch 18/100\n",
      "772/772 [==============================] - 11s 14ms/step - loss: 0.1263 - accuracy: 0.9528 - val_loss: 0.1382 - val_accuracy: 0.9451\n",
      "Epoch 19/100\n",
      "772/772 [==============================] - 11s 14ms/step - loss: 0.1238 - accuracy: 0.9532 - val_loss: 0.1525 - val_accuracy: 0.9392\n",
      "Epoch 20/100\n",
      "772/772 [==============================] - 11s 14ms/step - loss: 0.1213 - accuracy: 0.9551 - val_loss: 0.1340 - val_accuracy: 0.9468\n",
      "Epoch 21/100\n",
      "772/772 [==============================] - 11s 14ms/step - loss: 0.1185 - accuracy: 0.9557 - val_loss: 0.1424 - val_accuracy: 0.9410\n",
      "Epoch 22/100\n",
      "772/772 [==============================] - 11s 14ms/step - loss: 0.1159 - accuracy: 0.9572 - val_loss: 0.1317 - val_accuracy: 0.9477\n",
      "Epoch 23/100\n",
      "772/772 [==============================] - 11s 14ms/step - loss: 0.1132 - accuracy: 0.9573 - val_loss: 0.1313 - val_accuracy: 0.9477\n",
      "Epoch 24/100\n",
      "772/772 [==============================] - 11s 14ms/step - loss: 0.1115 - accuracy: 0.9584 - val_loss: 0.1315 - val_accuracy: 0.9477\n",
      "Epoch 25/100\n",
      "772/772 [==============================] - 11s 14ms/step - loss: 0.1101 - accuracy: 0.9583 - val_loss: 0.1301 - val_accuracy: 0.9484\n",
      "Epoch 26/100\n",
      "772/772 [==============================] - 11s 14ms/step - loss: 0.1071 - accuracy: 0.9601 - val_loss: 0.1297 - val_accuracy: 0.9491\n",
      "Epoch 27/100\n",
      "772/772 [==============================] - 11s 14ms/step - loss: 0.1062 - accuracy: 0.9615 - val_loss: 0.1274 - val_accuracy: 0.9493\n",
      "Epoch 28/100\n",
      "772/772 [==============================] - 11s 14ms/step - loss: 0.1023 - accuracy: 0.9625 - val_loss: 0.1285 - val_accuracy: 0.9489\n",
      "Epoch 29/100\n",
      "772/772 [==============================] - 11s 14ms/step - loss: 0.1007 - accuracy: 0.9628 - val_loss: 0.1268 - val_accuracy: 0.9494\n",
      "Epoch 30/100\n",
      "772/772 [==============================] - 11s 14ms/step - loss: 0.0998 - accuracy: 0.9637 - val_loss: 0.1270 - val_accuracy: 0.9504\n",
      "Epoch 31/100\n",
      "772/772 [==============================] - 11s 14ms/step - loss: 0.0986 - accuracy: 0.9633 - val_loss: 0.1284 - val_accuracy: 0.9489\n",
      "Epoch 32/100\n",
      "772/772 [==============================] - 11s 14ms/step - loss: 0.0966 - accuracy: 0.9645 - val_loss: 0.1242 - val_accuracy: 0.9511\n",
      "Epoch 33/100\n",
      "772/772 [==============================] - 11s 14ms/step - loss: 0.0942 - accuracy: 0.9659 - val_loss: 0.1283 - val_accuracy: 0.9495\n",
      "Epoch 34/100\n",
      "772/772 [==============================] - 11s 14ms/step - loss: 0.0937 - accuracy: 0.9652 - val_loss: 0.1302 - val_accuracy: 0.9487\n",
      "Epoch 35/100\n",
      "772/772 [==============================] - 11s 14ms/step - loss: 0.0917 - accuracy: 0.9659 - val_loss: 0.1242 - val_accuracy: 0.9518\n",
      "Epoch 36/100\n",
      "772/772 [==============================] - 11s 14ms/step - loss: 0.0905 - accuracy: 0.9672 - val_loss: 0.1236 - val_accuracy: 0.9521\n",
      "Epoch 37/100\n",
      "772/772 [==============================] - 11s 15ms/step - loss: 0.0893 - accuracy: 0.9673 - val_loss: 0.1246 - val_accuracy: 0.9506\n",
      "Epoch 38/100\n",
      "772/772 [==============================] - 11s 14ms/step - loss: 0.0875 - accuracy: 0.9683 - val_loss: 0.1236 - val_accuracy: 0.9525\n",
      "Epoch 39/100\n",
      "772/772 [==============================] - 11s 14ms/step - loss: 0.0867 - accuracy: 0.9688 - val_loss: 0.1252 - val_accuracy: 0.9513\n",
      "Epoch 40/100\n",
      "772/772 [==============================] - 11s 14ms/step - loss: 0.0842 - accuracy: 0.9691 - val_loss: 0.1225 - val_accuracy: 0.9525\n",
      "Epoch 41/100\n",
      "772/772 [==============================] - 11s 14ms/step - loss: 0.0838 - accuracy: 0.9698 - val_loss: 0.1242 - val_accuracy: 0.9516\n",
      "Epoch 42/100\n",
      "772/772 [==============================] - 11s 14ms/step - loss: 0.0818 - accuracy: 0.9696 - val_loss: 0.1220 - val_accuracy: 0.9523\n",
      "Epoch 43/100\n",
      "772/772 [==============================] - 11s 14ms/step - loss: 0.0804 - accuracy: 0.9714 - val_loss: 0.1347 - val_accuracy: 0.9468\n",
      "Epoch 44/100\n",
      "772/772 [==============================] - 11s 14ms/step - loss: 0.0811 - accuracy: 0.9708 - val_loss: 0.1233 - val_accuracy: 0.9524\n",
      "Epoch 45/100\n",
      "772/772 [==============================] - 11s 14ms/step - loss: 0.0792 - accuracy: 0.9717 - val_loss: 0.1218 - val_accuracy: 0.9530\n",
      "Epoch 46/100\n",
      "772/772 [==============================] - 11s 14ms/step - loss: 0.0776 - accuracy: 0.9716 - val_loss: 0.1227 - val_accuracy: 0.9527\n",
      "Epoch 47/100\n",
      "772/772 [==============================] - 11s 14ms/step - loss: 0.0778 - accuracy: 0.9708 - val_loss: 0.1221 - val_accuracy: 0.9523\n",
      "Epoch 48/100\n",
      "772/772 [==============================] - 11s 14ms/step - loss: 0.0754 - accuracy: 0.9728 - val_loss: 0.1213 - val_accuracy: 0.9532\n",
      "Epoch 49/100\n",
      "772/772 [==============================] - 11s 14ms/step - loss: 0.0743 - accuracy: 0.9735 - val_loss: 0.1229 - val_accuracy: 0.9531\n",
      "Epoch 50/100\n",
      "772/772 [==============================] - 11s 14ms/step - loss: 0.0741 - accuracy: 0.9740 - val_loss: 0.1249 - val_accuracy: 0.9520\n",
      "Epoch 51/100\n",
      "772/772 [==============================] - 11s 14ms/step - loss: 0.0724 - accuracy: 0.9740 - val_loss: 0.1267 - val_accuracy: 0.9508\n",
      "Epoch 52/100\n",
      "772/772 [==============================] - 11s 14ms/step - loss: 0.0716 - accuracy: 0.9740 - val_loss: 0.1339 - val_accuracy: 0.9491\n",
      "Epoch 53/100\n",
      "772/772 [==============================] - 11s 14ms/step - loss: 0.0710 - accuracy: 0.9743 - val_loss: 0.1244 - val_accuracy: 0.9521\n",
      "Epoch 54/100\n",
      "772/772 [==============================] - 11s 14ms/step - loss: 0.0699 - accuracy: 0.9748 - val_loss: 0.1244 - val_accuracy: 0.9528\n",
      "Epoch 55/100\n",
      "772/772 [==============================] - 11s 14ms/step - loss: 0.0686 - accuracy: 0.9752 - val_loss: 0.1246 - val_accuracy: 0.9528\n",
      "Epoch 56/100\n",
      "772/772 [==============================] - 11s 14ms/step - loss: 0.0690 - accuracy: 0.9747 - val_loss: 0.1227 - val_accuracy: 0.9537\n",
      "Epoch 57/100\n",
      "772/772 [==============================] - 11s 14ms/step - loss: 0.0666 - accuracy: 0.9755 - val_loss: 0.1225 - val_accuracy: 0.9545\n",
      "Epoch 58/100\n",
      "772/772 [==============================] - 11s 14ms/step - loss: 0.0650 - accuracy: 0.9771 - val_loss: 0.1269 - val_accuracy: 0.9533\n",
      "Epoch 59/100\n",
      "772/772 [==============================] - 11s 14ms/step - loss: 0.0647 - accuracy: 0.9769 - val_loss: 0.1255 - val_accuracy: 0.9525\n",
      "Epoch 60/100\n",
      "772/772 [==============================] - 11s 14ms/step - loss: 0.0644 - accuracy: 0.9775 - val_loss: 0.1239 - val_accuracy: 0.9536\n",
      "Epoch 61/100\n",
      "772/772 [==============================] - 11s 14ms/step - loss: 0.0643 - accuracy: 0.9770 - val_loss: 0.1228 - val_accuracy: 0.9541\n",
      "Epoch 62/100\n",
      "772/772 [==============================] - 11s 14ms/step - loss: 0.0631 - accuracy: 0.9775 - val_loss: 0.1236 - val_accuracy: 0.9548\n",
      "Epoch 63/100\n",
      "772/772 [==============================] - 11s 14ms/step - loss: 0.0623 - accuracy: 0.9783 - val_loss: 0.1276 - val_accuracy: 0.9519\n",
      "Epoch 64/100\n",
      "772/772 [==============================] - 11s 14ms/step - loss: 0.0622 - accuracy: 0.9780 - val_loss: 0.1282 - val_accuracy: 0.9530\n",
      "Epoch 65/100\n",
      "772/772 [==============================] - 11s 14ms/step - loss: 0.0613 - accuracy: 0.9794 - val_loss: 0.1244 - val_accuracy: 0.9554\n",
      "Epoch 66/100\n",
      "772/772 [==============================] - 11s 14ms/step - loss: 0.0609 - accuracy: 0.9784 - val_loss: 0.1262 - val_accuracy: 0.9526\n",
      "Epoch 67/100\n",
      "772/772 [==============================] - 11s 14ms/step - loss: 0.0588 - accuracy: 0.9791 - val_loss: 0.1287 - val_accuracy: 0.9518\n",
      "Epoch 68/100\n",
      "772/772 [==============================] - 11s 14ms/step - loss: 0.0584 - accuracy: 0.9796 - val_loss: 0.1254 - val_accuracy: 0.9534\n",
      "Epoch 69/100\n",
      "772/772 [==============================] - 11s 14ms/step - loss: 0.0577 - accuracy: 0.9801 - val_loss: 0.1239 - val_accuracy: 0.9551\n",
      "Epoch 70/100\n",
      "772/772 [==============================] - 11s 14ms/step - loss: 0.0570 - accuracy: 0.9797 - val_loss: 0.1249 - val_accuracy: 0.9547\n",
      "Epoch 71/100\n",
      "772/772 [==============================] - 11s 14ms/step - loss: 0.0572 - accuracy: 0.9795 - val_loss: 0.1259 - val_accuracy: 0.9531\n",
      "Epoch 72/100\n",
      "772/772 [==============================] - 11s 14ms/step - loss: 0.0552 - accuracy: 0.9806 - val_loss: 0.1268 - val_accuracy: 0.9525\n",
      "Epoch 73/100\n",
      "772/772 [==============================] - 11s 14ms/step - loss: 0.0549 - accuracy: 0.9807 - val_loss: 0.1266 - val_accuracy: 0.9526\n",
      "Epoch 74/100\n",
      "772/772 [==============================] - 11s 14ms/step - loss: 0.0560 - accuracy: 0.9798 - val_loss: 0.1264 - val_accuracy: 0.9536\n",
      "Epoch 75/100\n",
      "772/772 [==============================] - 11s 14ms/step - loss: 0.0541 - accuracy: 0.9810 - val_loss: 0.1291 - val_accuracy: 0.9519\n",
      "Epoch 76/100\n",
      "772/772 [==============================] - 11s 14ms/step - loss: 0.0540 - accuracy: 0.9809 - val_loss: 0.1278 - val_accuracy: 0.9520\n",
      "Epoch 77/100\n",
      "772/772 [==============================] - 11s 14ms/step - loss: 0.0538 - accuracy: 0.9814 - val_loss: 0.1279 - val_accuracy: 0.9527\n",
      "Epoch 78/100\n",
      "772/772 [==============================] - 11s 14ms/step - loss: 0.0532 - accuracy: 0.9816 - val_loss: 0.1293 - val_accuracy: 0.9526\n",
      "Epoch 79/100\n",
      "772/772 [==============================] - 11s 14ms/step - loss: 0.0525 - accuracy: 0.9815 - val_loss: 0.1285 - val_accuracy: 0.9530\n",
      "Epoch 80/100\n",
      "772/772 [==============================] - 11s 14ms/step - loss: 0.0507 - accuracy: 0.9824 - val_loss: 0.1270 - val_accuracy: 0.9540\n",
      "Epoch 81/100\n",
      "772/772 [==============================] - 11s 14ms/step - loss: 0.0522 - accuracy: 0.9818 - val_loss: 0.1282 - val_accuracy: 0.9539\n",
      "Epoch 82/100\n",
      "772/772 [==============================] - 11s 14ms/step - loss: 0.0505 - accuracy: 0.9820 - val_loss: 0.1275 - val_accuracy: 0.9534\n",
      "Epoch 83/100\n",
      "772/772 [==============================] - 11s 14ms/step - loss: 0.0492 - accuracy: 0.9839 - val_loss: 0.1277 - val_accuracy: 0.9535\n",
      "Epoch 84/100\n",
      "772/772 [==============================] - 11s 14ms/step - loss: 0.0490 - accuracy: 0.9831 - val_loss: 0.1284 - val_accuracy: 0.9536\n",
      "Epoch 85/100\n",
      "772/772 [==============================] - 10s 14ms/step - loss: 0.0505 - accuracy: 0.9821 - val_loss: 0.1310 - val_accuracy: 0.9522\n",
      "Epoch 86/100\n",
      "772/772 [==============================] - 11s 14ms/step - loss: 0.0478 - accuracy: 0.9836 - val_loss: 0.1293 - val_accuracy: 0.9544\n",
      "Epoch 87/100\n",
      "772/772 [==============================] - 11s 14ms/step - loss: 0.0489 - accuracy: 0.9828 - val_loss: 0.1288 - val_accuracy: 0.9544\n",
      "Epoch 88/100\n",
      "772/772 [==============================] - 11s 14ms/step - loss: 0.0484 - accuracy: 0.9831 - val_loss: 0.1288 - val_accuracy: 0.9538\n",
      "Epoch 89/100\n",
      "772/772 [==============================] - 11s 14ms/step - loss: 0.0469 - accuracy: 0.9839 - val_loss: 0.1286 - val_accuracy: 0.9541\n",
      "Epoch 90/100\n",
      "772/772 [==============================] - 11s 14ms/step - loss: 0.0465 - accuracy: 0.9839 - val_loss: 0.1291 - val_accuracy: 0.9542\n",
      "Epoch 91/100\n",
      "772/772 [==============================] - 11s 14ms/step - loss: 0.0459 - accuracy: 0.9835 - val_loss: 0.1299 - val_accuracy: 0.9531\n",
      "Epoch 92/100\n",
      "772/772 [==============================] - 11s 14ms/step - loss: 0.0461 - accuracy: 0.9838 - val_loss: 0.1290 - val_accuracy: 0.9544\n",
      "Epoch 93/100\n",
      "772/772 [==============================] - 11s 14ms/step - loss: 0.0462 - accuracy: 0.9837 - val_loss: 0.1301 - val_accuracy: 0.9534\n",
      "Epoch 94/100\n",
      "772/772 [==============================] - 11s 14ms/step - loss: 0.0453 - accuracy: 0.9842 - val_loss: 0.1335 - val_accuracy: 0.9528\n",
      "Epoch 95/100\n",
      "772/772 [==============================] - 11s 14ms/step - loss: 0.0449 - accuracy: 0.9846 - val_loss: 0.1328 - val_accuracy: 0.9550\n",
      "Epoch 96/100\n",
      "772/772 [==============================] - 11s 14ms/step - loss: 0.0447 - accuracy: 0.9846 - val_loss: 0.1310 - val_accuracy: 0.9538\n",
      "Epoch 97/100\n",
      "772/772 [==============================] - 11s 14ms/step - loss: 0.0440 - accuracy: 0.9844 - val_loss: 0.1302 - val_accuracy: 0.9545\n",
      "Epoch 98/100\n",
      "772/772 [==============================] - 11s 14ms/step - loss: 0.0441 - accuracy: 0.9849 - val_loss: 0.1305 - val_accuracy: 0.9540\n",
      "Epoch 99/100\n",
      "772/772 [==============================] - 11s 14ms/step - loss: 0.0437 - accuracy: 0.9850 - val_loss: 0.1325 - val_accuracy: 0.9528\n",
      "Epoch 100/100\n",
      "772/772 [==============================] - 11s 14ms/step - loss: 0.0433 - accuracy: 0.9847 - val_loss: 0.1314 - val_accuracy: 0.9546\n"
     ]
    }
   ],
   "source": [
    "# Criando o modelo de rede neural\n",
    "# Esse modelo possui as seguintes camadas: Convolução de entrada, concolução oculta,\n",
    "# achatamento, densa oculta, achatamento e uma densa de saída\n",
    "\n",
    "cnn = models.Sequential([\n",
    "                         layers.Conv1D(256, 3, activation='relu', kernel_initializer='he_uniform', input_shape=(14,28)),\n",
    "                         layers.Conv1D(256, 3, activation='relu'),\n",
    "                         layers.Flatten(),\n",
    "                         layers.Dropout(0.2),\n",
    "                         layers.Dense(100, activation='relu', kernel_initializer='he_uniform'),\n",
    "                         layers.Dropout(0.2),\n",
    "                         layers.Dense(1, activation='sigmoid', kernel_initializer='he_uniform')\n",
    "                         \n",
    "])\n",
    "\n",
    "# É possível adicionar um camada de pooling, mas nos meus testes não apresentou melhoria na precisão\n",
    "# O aumento do tamanho do kernel também não apresentou melhoria, em alguns casos até piorou.\n",
    "# Por sua vez, a quantidade de filtros é um parâmetro que pode ser alterado visando obter melhorias.\n",
    "\n",
    "# Não recomendo a alteração das funções de ativação, pois isso resultou em uma drástica queda da precição do modelo\n",
    "# É possível remover as camadas de dropout sem que suceda um queda significatíva na acurácia do modelo\n",
    "\n",
    "lr_schedule = keras.optimizers.schedules.ExponentialDecay(\n",
    "    initial_learning_rate=1e-2,\n",
    "    decay_steps=10000,\n",
    "    decay_rate=0.9)\n",
    "opt = keras.optimizers.Adagrad(learning_rate=lr_schedule)\n",
    "cnn.compile(loss='binary_crossentropy', optimizer=opt, metrics=['accuracy'])\n",
    "\n",
    "cnn_history = cnn.fit(X_train, y_train, validation_data=(x_val, y_val),  epochs=100, batch_size=64) # Se quiser salvar o modelo, recomendo que antes de executar essa célula diferncie os nomes do modelo e da história"
   ]
  },
  {
   "cell_type": "code",
   "execution_count": 12,
   "metadata": {
    "id": "BM-x-2ghnnxW"
   },
   "outputs": [],
   "source": [
    "cnn.save('model_cnn.h5')"
   ]
  },
  {
   "cell_type": "code",
   "execution_count": 13,
   "metadata": {
    "colab": {
     "base_uri": "https://localhost:8080/",
     "height": 376
    },
    "id": "5IchJcynn0Gf",
    "outputId": "ab8f654e-badc-499e-f7c1-f6599dc09a43"
   },
   "outputs": [
    {
     "data": {
      "text/plain": [
       "<matplotlib.legend.Legend at 0x7f3eb477c580>"
      ]
     },
     "execution_count": 13,
     "metadata": {},
     "output_type": "execute_result"
    },
    {
     "data": {
      "text/plain": [
       "<Figure size 432x288 with 0 Axes>"
      ]
     },
     "metadata": {},
     "output_type": "display_data"
    },
    {
     "data": {
      "image/png": "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\n",
      "text/plain": [
       "<Figure size 648x360 with 1 Axes>"
      ]
     },
     "metadata": {
      "needs_background": "light"
     },
     "output_type": "display_data"
    }
   ],
   "source": [
    "plt.figure(1)\n",
    "plt.figure(figsize=(9,5))\n",
    "plt.rcParams.update({'font.size': 12})\n",
    "plt.plot(cnn_history.history['accuracy'], 'b:')\n",
    "plt.plot(cnn_history.history['val_accuracy'], 'tab:orange')\n",
    "plt.grid('True')\n",
    "plt.ylabel('Accuracy')\n",
    "plt.xlabel('Epoch')\n",
    "plt.legend(['Train-CNN', 'Val-CNN'], loc='lower right')\n"
   ]
  },
  {
   "cell_type": "code",
   "execution_count": 15,
   "metadata": {
    "colab": {
     "base_uri": "https://localhost:8080/",
     "height": 358
    },
    "id": "q7ul3AJbow1w",
    "outputId": "7f529543-f3a0-4ac1-ea1a-0d65ff90f356"
   },
   "outputs": [
    {
     "data": {
      "text/plain": [
       "<Figure size 432x288 with 0 Axes>"
      ]
     },
     "metadata": {},
     "output_type": "display_data"
    },
    {
     "data": {
      "image/png": "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\n",
      "text/plain": [
       "<Figure size 648x360 with 1 Axes>"
      ]
     },
     "metadata": {
      "needs_background": "light"
     },
     "output_type": "display_data"
    }
   ],
   "source": [
    "plt.figure(2)\n",
    "plt.figure(figsize=(9,5))\n",
    "plt.plot(cnn_history.history['loss'], 'b:')\n",
    "plt.plot(cnn_history.history['val_loss'], 'tab:orange')\n",
    "plt.ylabel('Loss')\n",
    "plt.xlabel('Epoch')\n",
    "plt.legend(['Train-CNN', 'Val-CNN'], loc='upper right')\n",
    "plt.grid('True')"
   ]
  },
  {
   "cell_type": "markdown",
   "metadata": {},
   "source": [
    "# 2 - Prevendo o gênero"
   ]
  },
  {
   "cell_type": "markdown",
   "metadata": {},
   "source": [
    "## 2.1 - Preparando os dados(mestrado)"
   ]
  },
  {
   "cell_type": "code",
   "execution_count": null,
   "metadata": {},
   "outputs": [],
   "source": [
    "def unidecode_names(names):\n",
    "  list_names = []\n",
    "  for name in names:\n",
    "    name = name.replace(\".\", \"\")\n",
    "    name = name.replace(\"'\", \"\")\n",
    "    name = name.replace(\"-\", \" \")\n",
    "    name = name.replace(\"`\", \"\")\n",
    "    list_names.append(unidecode(name.lower()))\n",
    "  return list_names"
   ]
  },
  {
   "cell_type": "code",
   "execution_count": 3,
   "metadata": {},
   "outputs": [],
   "source": [
    "df_lattes = pd.read_csv(r"../web-scraping-from-lattes/dataLattes.csv")"
   ]
  },
  {
   "cell_type": "code",
   "execution_count": 19,
   "metadata": {},
   "outputs": [],
   "source": [
    "names_mest = df_lattes[df_lattes[\"formacao\"]==\"mestrado\"]['primeiro_nome']"
   ]
  },
  {
   "cell_type": "code",
   "execution_count": 23,
   "metadata": {},
   "outputs": [],
   "source": [
    "names_mest = unidecode_names(names_mest)"
   ]
  },
  {
   "cell_type": "code",
   "execution_count": null,
   "metadata": {},
   "outputs": [],
   "source": [
    "x_mest = prepare_encod_names(names_mest)"
   ]
  },
  {
   "cell_type": "markdown",
   "metadata": {},
   "source": [
    "## 2.2 - Fazendo a predição"
   ]
  },
  {
   "cell_type": "code",
   "execution_count": null,
   "metadata": {},
   "outputs": [],
   "source": [
    "resu_mest=(cnn.predict(x_mest) > 0.5).astype(\"int32\")\n",
    "#resu_mest = load(\"Mestrado.hdf5\")"
   ]
  },
  {
   "cell_type": "markdown",
   "metadata": {},
   "source": [
    "## 2.2.1 - Análise do resultados"
   ]
  },
  {
   "cell_type": "code",
   "execution_count": 5,
   "metadata": {},
   "outputs": [
    {
     "name": "stdout",
     "output_type": "stream",
     "text": [
      "M : [34145]\n",
      "F : [30649]\n"
     ]
    }
   ],
   "source": [
    "print(\"M : \" + str(sum(resu_mest==1)))\n",
    "print(\"F : \" + str(sum(resu_mest==0)))"
   ]
  },
  {
   "cell_type": "code",
   "execution_count": 6,
   "metadata": {},
   "outputs": [],
   "source": [
    "df_mest = pd.DataFrame(columns=[\"M\",\"F\"])\n",
    "df_mest[\"M\"] = [int(sum(resu_mest==1))]\n",
    "df_mest[\"F\"] = [int(sum(resu_mest==0))]"
   ]
  },
  {
   "cell_type": "code",
   "execution_count": 7,
   "metadata": {},
   "outputs": [
    {
     "data": {
      "image/png": "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\n",
      "text/plain": [
       "<Figure size 432x288 with 1 Axes>"
      ]
     },
     "metadata": {
      "needs_background": "light"
     },
     "output_type": "display_data"
    }
   ],
   "source": [
    "ax = df_mest.plot(kind=\"bar\")\n",
    "plt.title(\"Classification in the data of Lattes - master's degree\")\n",
    "plt.grid('True')\n",
    "plt.xlabel('Quantity')\n",
    "x_offset = -0.05\n",
    "y_offset = 2.5\n",
    "for p in ax.patches:\n",
    "    b = p.get_bbox()\n",
    "    val = \"{:.0f}\".format(b.y1 + b.y0)        \n",
    "    ax.annotate(val, ((b.x0 + b.x1)/2 + x_offset, b.y1 + y_offset))"
   ]
  },
  {
   "cell_type": "code",
   "execution_count": 8,
   "metadata": {},
   "outputs": [],
   "source": [
    "mest = df_lattes[df_lattes[\"formacao\"]==\"mestrado\"].copy()\n",
    "mest[\"CNN\"] = resu_mest\n"
   ]
  },
  {
   "cell_type": "code",
   "execution_count": 9,
   "metadata": {},
   "outputs": [
    {
     "name": "stdout",
     "output_type": "stream",
     "text": [
      "{2018: [7173, 7822], 2019: [8063, 8803], 2020: [9711, 10822], 2021: [5702, 6698]}\n"
     ]
    }
   ],
   "source": [
    "data = dict()\n",
    "F = 0\n",
    "M = 0\n",
    "ant = 2018\n",
    "for ano, classi in zip(mest[\"ano\"], mest[\"CNN\"]):\n",
    "    if ant != ano and ant != 0:\n",
    "        data[ant] = [F, M]\n",
    "        F, M = 0, 0\n",
    "        ant = ano\n",
    "    if classi == 0:\n",
    "        F += 1\n",
    "    if classi == 1:\n",
    "        M += 1\n",
    "data[ant] = [F, M]\n",
    "print(data)"
   ]
  },
  {
   "cell_type": "code",
   "execution_count": 10,
   "metadata": {},
   "outputs": [],
   "source": [
    "df_mest = pd.DataFrame()\n",
    "df_mest[\"Ano\"] = [x for x in data]\n",
    "df_mest[\"M\"] = [data[x][1] for x in data]\n",
    "df_mest[\"F\"] = [data[x][0] for x in data]\n",
    "df_mest.set_index(\"Ano\", inplace=True)"
   ]
  },
  {
   "cell_type": "code",
   "execution_count": 11,
   "metadata": {},
   "outputs": [
    {
     "data": {
      "image/png": "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\n",
      "text/plain": [
       "<Figure size 432x288 with 1 Axes>"
      ]
     },
     "metadata": {
      "needs_background": "light"
     },
     "output_type": "display_data"
    }
   ],
   "source": [
    "ax = df_mest.plot(kind=\"bar\")\n",
    "plt.title(\"Classification in the data of Lattes per year - master's degree\")\n",
    "plt.grid('True')\n",
    "plt.xlabel('Quantity')\n",
    "x_offset = -0.05\n",
    "y_offset = 2.5\n",
    "for p in ax.patches:\n",
    "    b = p.get_bbox()\n",
    "    val = \"{:.0f}\".format(b.y1 + b.y0)        \n",
    "    ax.annotate(val, ((b.x0 + b.x1)/2 + x_offset, b.y1 + y_offset))"
   ]
  },
  {
   "cell_type": "code",
   "execution_count": 12,
   "metadata": {},
   "outputs": [
    {
     "data": {
      "text/plain": [
       "<AxesSubplot:title={'center':\"Classification in the data of Lattes per year - master's degree\"}, xlabel='Ano'>"
      ]
     },
     "execution_count": 12,
     "metadata": {},
     "output_type": "execute_result"
    },
    {
     "data": {
      "image/png": "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\n",
      "text/plain": [
       "<Figure size 432x288 with 1 Axes>"
      ]
     },
     "metadata": {
      "needs_background": "light"
     },
     "output_type": "display_data"
    }
   ],
   "source": [
    "df_mest.plot.line(grid=True, title=\"Classification in the data of Lattes per year - master's degree\")"
   ]
  },
  {
   "cell_type": "code",
   "execution_count": null,
   "metadata": {},
   "outputs": [],
   "source": [
    "dump(resu_mest, 'Mestrado.hdf5')"
   ]
  },
  {
   "cell_type": "markdown",
   "metadata": {},
   "source": [
    "## 2.3 - Preparando os dados(doutorado)"
   ]
  },
  {
   "cell_type": "code",
   "execution_count": 45,
   "metadata": {},
   "outputs": [],
   "source": [
    "names_dout = df_lattes[df_lattes[\"formacao\"]==\"doutorado\"]['primeiro_nome']"
   ]
  },
  {
   "cell_type": "code",
   "execution_count": 46,
   "metadata": {},
   "outputs": [],
   "source": [
    "names_dout = unidecode_names(names_dout)"
   ]
  },
  {
   "cell_type": "code",
   "execution_count": null,
   "metadata": {},
   "outputs": [],
   "source": [
    "x_dout = prepare_encod_names(names_dout)"
   ]
  },
  {
   "cell_type": "markdown",
   "metadata": {},
   "source": [
    "## 2.4 - Fazendo a predição"
   ]
  },
  {
   "cell_type": "code",
   "execution_count": null,
   "metadata": {},
   "outputs": [],
   "source": [
    "resu=(cnn.predict(x_dout) > 0.5).astype(\"int32\")\n",
    "#resu = load(\"Doutorado.hdf5\")"
   ]
  },
  {
   "cell_type": "markdown",
   "metadata": {},
   "source": [
    "## 2.4.1 - Análise do resultados"
   ]
  },
  {
   "cell_type": "code",
   "execution_count": 14,
   "metadata": {},
   "outputs": [],
   "source": [
    "df_dout = pd.DataFrame(columns=[\"M\",\"F\"])\n",
    "df_dout[\"M\"] = [int(sum(resu==1))]\n",
    "df_dout[\"F\"] = [int(sum(resu==0))]"
   ]
  },
  {
   "cell_type": "code",
   "execution_count": 15,
   "metadata": {},
   "outputs": [
    {
     "data": {
      "image/png": "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\n",
      "text/plain": [
       "<Figure size 432x288 with 1 Axes>"
      ]
     },
     "metadata": {
      "needs_background": "light"
     },
     "output_type": "display_data"
    }
   ],
   "source": [
    "ax = df_dout.plot(kind=\"bar\")\n",
    "plt.title(\"Classification in the data of Lattes - doctorate degree\")\n",
    "plt.grid('True')\n",
    "plt.xlabel('Quantity')\n",
    "x_offset = -0.05\n",
    "y_offset = 2.5\n",
    "for p in ax.patches:\n",
    "    b = p.get_bbox()\n",
    "    val = \"{:.0f}\".format(b.y1 + b.y0)        \n",
    "    ax.annotate(val, ((b.x0 + b.x1)/2 + x_offset, b.y1 + y_offset))"
   ]
  },
  {
   "cell_type": "code",
   "execution_count": 16,
   "metadata": {},
   "outputs": [],
   "source": [
    "dout = df_lattes[df_lattes[\"formacao\"]==\"doutorado\"].copy()\n",
    "dout['CNN'] = resu"
   ]
  },
  {
   "cell_type": "code",
   "execution_count": 17,
   "metadata": {},
   "outputs": [
    {
     "name": "stdout",
     "output_type": "stream",
     "text": [
      "{2018: [43914, 55121], 2019: [44437, 55943], 2020: [52889, 64714], 2021: [32355, 41627]}\n"
     ]
    }
   ],
   "source": [
    "data = dict()\n",
    "F = 0\n",
    "M = 0\n",
    "ant = 2018\n",
    "for ano, classi in zip(dout[\"ano\"], dout[\"CNN\"]):\n",
    "    if ant != ano and ant != 0:\n",
    "        data[ant] = [F, M]\n",
    "        F, M = 0, 0\n",
    "        ant = ano\n",
    "    if classi == 0:\n",
    "        F += 1\n",
    "    if classi == 1:\n",
    "        M += 1\n",
    "data[ant] = [F, M]\n",
    "print(data)"
   ]
  },
  {
   "cell_type": "code",
   "execution_count": 18,
   "metadata": {},
   "outputs": [],
   "source": [
    "df_dout = pd.DataFrame()\n",
    "df_dout[\"Ano\"] = [x for x in data]\n",
    "df_dout[\"M\"] = [data[x][1] for x in data]\n",
    "df_dout[\"F\"] = [data[x][0] for x in data]\n",
    "df_dout.set_index(\"Ano\", inplace=True)"
   ]
  },
  {
   "cell_type": "code",
   "execution_count": 19,
   "metadata": {},
   "outputs": [
    {
     "data": {
      "image/png": "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\n",
      "text/plain": [
       "<Figure size 432x288 with 1 Axes>"
      ]
     },
     "metadata": {
      "needs_background": "light"
     },
     "output_type": "display_data"
    }
   ],
   "source": [
    "ax = df_dout.plot(kind=\"bar\")\n",
    "plt.title(\"Classification in the data of Lattes per year - doctorate degree\")\n",
    "plt.grid('True')\n",
    "plt.xlabel('Quantity')\n",
    "x_offset = -0.05\n",
    "y_offset = 2.5\n",
    "for p in ax.patches:\n",
    "    b = p.get_bbox()\n",
    "    val = \"{:.0f}\".format(b.y1 + b.y0)\n",
    "    ax.annotate(val, ((b.x0 + b.x1)/2 + x_offset, b.y1 + y_offset))"
   ]
  },
  {
   "cell_type": "code",
   "execution_count": 20,
   "metadata": {},
   "outputs": [
    {
     "data": {
      "text/plain": [
       "<AxesSubplot:title={'center':'Classification in the data of Lattes per year - doctorate degree'}, xlabel='Ano'>"
      ]
     },
     "execution_count": 20,
     "metadata": {},
     "output_type": "execute_result"
    },
    {
     "data": {
      "image/png": "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\n",
      "text/plain": [
       "<Figure size 432x288 with 1 Axes>"
      ]
     },
     "metadata": {
      "needs_background": "light"
     },
     "output_type": "display_data"
    }
   ],
   "source": [
    "df_dout.plot.line(grid=True, title=\"Classification in the data of Lattes per year - doctorate degree\")"
   ]
  },
  {
   "cell_type": "code",
   "execution_count": 65,
   "metadata": {},
   "outputs": [
    {
     "data": {
      "text/plain": [
       "['Doutorado.hdf5']"
      ]
     },
     "execution_count": 65,
     "metadata": {},
     "output_type": "execute_result"
    }
   ],
   "source": [
    "dump(resu, 'Doutorado.hdf5')"
   ]
  },
  {
   "cell_type": "code",
   "execution_count": null,
   "metadata": {},
   "outputs": [],
   "source": []
  }
 ],
 "metadata": {
  "colab": {
   "collapsed_sections": [],
   "name": "CNN.ipynb",
   "provenance": []
  },
  "kernelspec": {
   "display_name": "default:Python",
   "language": "python",
   "name": "conda-env-default-py"
  },
  "language_info": {
   "codemirror_mode": {
    "name": "ipython",
    "version": 3
   },
   "file_extension": ".py",
   "mimetype": "text/x-python",
   "name": "python",
   "nbconvert_exporter": "python",
   "pygments_lexer": "ipython3",
   "version": "3.9.7"
  }
 },
 "nbformat": 4,
 "nbformat_minor": 4
}
