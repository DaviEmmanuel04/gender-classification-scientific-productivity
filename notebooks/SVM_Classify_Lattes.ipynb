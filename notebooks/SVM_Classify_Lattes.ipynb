{
 "cells": [
  {
   "cell_type": "markdown",
   "metadata": {},
   "source": [
    "# 1 Predicting Gender of Brazilian Names Using Machine Learning in Data Lattes"
   ]
  },
  {
   "cell_type": "markdown",
   "metadata": {},
   "source": [
    "## 1.1 Necessary libraries"
   ]
  },
  {
   "cell_type": "code",
   "execution_count": 42,
   "metadata": {},
   "outputs": [],
   "source": [
    "import pandas as pd\n",
    "from joblib import dump, load\n",
    "from unidecode import unidecode\n",
    "import matplotlib.pyplot as plt"
   ]
  },
  {
   "cell_type": "code",
   "execution_count": 2,
   "metadata": {},
   "outputs": [],
   "source": [
    "import sys\n",
    "sys.path.append(r\"../machine-learning-models/\")"
   ]
  },
  {
   "cell_type": "code",
   "execution_count": 3,
   "metadata": {},
   "outputs": [],
   "source": [
    "import SVM.SVM as SVM"
   ]
  },
  {
   "cell_type": "markdown",
   "metadata": {},
   "source": [
    "## 1.2 Machine Learning Model"
   ]
  },
  {
   "cell_type": "code",
   "execution_count": 9,
   "metadata": {},
   "outputs": [],
   "source": [
    "svc = SVM.SVM(path=r\"../machine-learning-models/SVM/Models/\")"
   ]
  },
  {
   "cell_type": "markdown",
   "metadata": {},
   "source": [
    "## 1.3 Read the dataset"
   ]
  },
  {
   "cell_type": "code",
   "execution_count": 4,
   "metadata": {},
   "outputs": [],
   "source": [
    "DataLattes = pd.read_csv(r\"..\\web-scraping-from-lattes\\dataLattes.csv\")"
   ]
  },
  {
   "cell_type": "code",
   "execution_count": 5,
   "metadata": {},
   "outputs": [
    {
     "data": {
      "text/html": [
       "<div>\n",
       "<style scoped>\n",
       "    .dataframe tbody tr th:only-of-type {\n",
       "        vertical-align: middle;\n",
       "    }\n",
       "\n",
       "    .dataframe tbody tr th {\n",
       "        vertical-align: top;\n",
       "    }\n",
       "\n",
       "    .dataframe thead th {\n",
       "        text-align: right;\n",
       "    }\n",
       "</style>\n",
       "<table border=\"1\" class=\"dataframe\">\n",
       "  <thead>\n",
       "    <tr style=\"text-align: right;\">\n",
       "      <th></th>\n",
       "      <th>Unnamed: 0</th>\n",
       "      <th>primeiro_nome</th>\n",
       "      <th>nome_completo</th>\n",
       "      <th>formacao</th>\n",
       "      <th>titulo</th>\n",
       "      <th>ano</th>\n",
       "    </tr>\n",
       "  </thead>\n",
       "  <tbody>\n",
       "    <tr>\n",
       "      <th>0</th>\n",
       "      <td>0</td>\n",
       "      <td>Jussiê</td>\n",
       "      <td>Jussiê Soares da Rocha</td>\n",
       "      <td>doutorado</td>\n",
       "      <td>Numerical Techniques For Future Applications ...</td>\n",
       "      <td>2018</td>\n",
       "    </tr>\n",
       "    <tr>\n",
       "      <th>1</th>\n",
       "      <td>1</td>\n",
       "      <td>Álvaro</td>\n",
       "      <td>Álvaro Itaúna Schalcher Pereira</td>\n",
       "      <td>doutorado</td>\n",
       "      <td>Estudo de caso dos colaboradores da Unidade d...</td>\n",
       "      <td>2018</td>\n",
       "    </tr>\n",
       "    <tr>\n",
       "      <th>2</th>\n",
       "      <td>2</td>\n",
       "      <td>Álvaro</td>\n",
       "      <td>Álvaro Itaúna Schalcher Pereira</td>\n",
       "      <td>doutorado</td>\n",
       "      <td>Determinação da porosidade drenável em amostr...</td>\n",
       "      <td>2018</td>\n",
       "    </tr>\n",
       "    <tr>\n",
       "      <th>3</th>\n",
       "      <td>3</td>\n",
       "      <td>Álvaro</td>\n",
       "      <td>Álvaro Itaúna Schalcher Pereira</td>\n",
       "      <td>doutorado</td>\n",
       "      <td>Evaluation of conservational practices of the...</td>\n",
       "      <td>2018</td>\n",
       "    </tr>\n",
       "    <tr>\n",
       "      <th>4</th>\n",
       "      <td>4</td>\n",
       "      <td>Álvaro</td>\n",
       "      <td>Álvaro Itaúna Schalcher Pereira</td>\n",
       "      <td>doutorado</td>\n",
       "      <td>Solos de Textura Arenosa e Argilosa</td>\n",
       "      <td>2018</td>\n",
       "    </tr>\n",
       "  </tbody>\n",
       "</table>\n",
       "</div>"
      ],
      "text/plain": [
       "   Unnamed: 0 primeiro_nome                    nome_completo   formacao  \\\n",
       "0           0        Jussiê           Jussiê Soares da Rocha  doutorado   \n",
       "1           1        Álvaro  Álvaro Itaúna Schalcher Pereira  doutorado   \n",
       "2           2        Álvaro  Álvaro Itaúna Schalcher Pereira  doutorado   \n",
       "3           3        Álvaro  Álvaro Itaúna Schalcher Pereira  doutorado   \n",
       "4           4        Álvaro  Álvaro Itaúna Schalcher Pereira  doutorado   \n",
       "\n",
       "                                              titulo   ano  \n",
       "0   Numerical Techniques For Future Applications ...  2018  \n",
       "1   Estudo de caso dos colaboradores da Unidade d...  2018  \n",
       "2   Determinação da porosidade drenável em amostr...  2018  \n",
       "3   Evaluation of conservational practices of the...  2018  \n",
       "4                Solos de Textura Arenosa e Argilosa  2018  "
      ]
     },
     "execution_count": 5,
     "metadata": {},
     "output_type": "execute_result"
    }
   ],
   "source": [
    "DataLattes.head()"
   ]
  },
  {
   "cell_type": "code",
   "execution_count": 6,
   "metadata": {},
   "outputs": [
    {
     "name": "stdout",
     "output_type": "stream",
     "text": [
      "<class 'pandas.core.frame.DataFrame'>\n",
      "RangeIndex: 455794 entries, 0 to 455793\n",
      "Data columns (total 6 columns):\n",
      " #   Column         Non-Null Count   Dtype \n",
      "---  ------         --------------   ----- \n",
      " 0   Unnamed: 0     455794 non-null  int64 \n",
      " 1   primeiro_nome  455794 non-null  object\n",
      " 2   nome_completo  455794 non-null  object\n",
      " 3   formacao       455794 non-null  object\n",
      " 4   titulo         455794 non-null  object\n",
      " 5   ano            455794 non-null  int64 \n",
      "dtypes: int64(2), object(4)\n",
      "memory usage: 20.9+ MB\n"
     ]
    }
   ],
   "source": [
    "DataLattes.info()"
   ]
  },
  {
   "cell_type": "code",
   "execution_count": 7,
   "metadata": {},
   "outputs": [
    {
     "name": "stdout",
     "output_type": "stream",
     "text": [
      "Doutorado : 391000\n",
      "Mestado : 64794\n"
     ]
    }
   ],
   "source": [
    "print(\"Doutorado : \" + str(sum(DataLattes[\"formacao\"]==\"doutorado\")))\n",
    "print(\"Mestado : \" + str(sum(DataLattes[\"formacao\"]==\"mestrado\")))"
   ]
  },
  {
   "cell_type": "markdown",
   "metadata": {},
   "source": [
    "### 1.2.1 Preparing the data"
   ]
  },
  {
   "cell_type": "code",
   "execution_count": 25,
   "metadata": {},
   "outputs": [],
   "source": [
    "namesDout = DataLattes[DataLattes[\"formacao\"]==\"doutorado\"]['primeiro_nome'].apply(lambda x: unidecode(str(x)).lower().replace(\"-\", \" \"))\n",
    "namesMest = DataLattes[DataLattes[\"formacao\"]==\"mestrado\"]['primeiro_nome'].apply(lambda x: unidecode(str(x)).lower().replace(\"-\", \" \"))"
   ]
  },
  {
   "cell_type": "markdown",
   "metadata": {},
   "source": [
    "## 1.3 Predict Gender"
   ]
  },
  {
   "cell_type": "markdown",
   "metadata": {},
   "source": [
    "### 1.3.1 Data of master's degree"
   ]
  },
  {
   "cell_type": "code",
   "execution_count": 26,
   "metadata": {},
   "outputs": [],
   "source": [
    "resultMest = svc.classify(namesMest)"
   ]
  },
  {
   "cell_type": "code",
   "execution_count": 43,
   "metadata": {},
   "outputs": [
    {
     "data": {
      "text/plain": [
       "['./results/SVM_Mestrado.hdf5']"
      ]
     },
     "execution_count": 43,
     "metadata": {},
     "output_type": "execute_result"
    }
   ],
   "source": [
    "dump(resultMest, r\"./results/SVM_Mestrado.hdf5\")"
   ]
  },
  {
   "cell_type": "markdown",
   "metadata": {},
   "source": [
    "#### 1.3.1.1 Analysis of results - Master's"
   ]
  },
  {
   "cell_type": "code",
   "execution_count": 32,
   "metadata": {},
   "outputs": [
    {
     "name": "stdout",
     "output_type": "stream",
     "text": [
      "M : 34536\n",
      "F : 30258\n"
     ]
    }
   ],
   "source": [
    "print(\"M : \" + str(resultMest.count(\"M\")))\n",
    "print(\"F : \" + str(resultMest.count(\"F\")))"
   ]
  },
  {
   "cell_type": "code",
   "execution_count": 38,
   "metadata": {},
   "outputs": [],
   "source": [
    "dftmp = pd.DataFrame(columns=[\"M\",\"F\"])\n",
    "dftmp[\"F\"] = [resultMest.count(\"F\")]\n",
    "dftmp[\"M\"] = [resultMest.count(\"M\")]"
   ]
  },
  {
   "cell_type": "code",
   "execution_count": 39,
   "metadata": {},
   "outputs": [
    {
     "data": {
      "image/png": "[encoded data removed]",
      "text/plain": [
       "<Figure size 432x288 with 1 Axes>"
      ]
     },
     "metadata": {
      "needs_background": "light"
     },
     "output_type": "display_data"
    }
   ],
   "source": [
    "ax = dftmp.plot(kind=\"bar\")\n",
    "plt.title(\"Classification in the data of Lattes - master's degree\")\n",
    "plt.grid('True')\n",
    "plt.xlabel('Quantity')\n",
    "x_offset = -0.05\n",
    "y_offset = 2.5\n",
    "for p in ax.patches:\n",
    "    b = p.get_bbox()\n",
    "    val = \"{:.0f}\".format(b.y1 + b.y0)        \n",
    "    ax.annotate(val, ((b.x0 + b.x1)/2 + x_offset, b.y1 + y_offset))"
   ]
  },
  {
   "cell_type": "code",
   "execution_count": null,
   "metadata": {},
   "outputs": [],
   "source": []
  },
  {
   "cell_type": "markdown",
   "metadata": {},
   "source": [
    "### 1.3.2 Data of doctorate degree"
   ]
  },
  {
   "cell_type": "code",
   "execution_count": 31,
   "metadata": {},
   "outputs": [],
   "source": [
    "resultDout = svc.classify(namesDout)"
   ]
  },
  {
   "cell_type": "code",
   "execution_count": 44,
   "metadata": {},
   "outputs": [
    {
     "data": {
      "text/plain": [
       "['./results/SVM_Doutorado.hdf5']"
      ]
     },
     "execution_count": 44,
     "metadata": {},
     "output_type": "execute_result"
    }
   ],
   "source": [
    "dump(resultDout, r\"./results/SVM_Doutorado.hdf5\")"
   ]
  },
  {
   "cell_type": "markdown",
   "metadata": {},
   "source": [
    "#### 1.3.1.1 Analysis of results - Doctorate"
   ]
  },
  {
   "cell_type": "code",
   "execution_count": 35,
   "metadata": {},
   "outputs": [
    {
     "name": "stdout",
     "output_type": "stream",
     "text": [
      "M : 217871\n",
      "F : 173129\n"
     ]
    }
   ],
   "source": [
    "print(\"M : \" + str(resultDout.count(\"M\")))\n",
    "print(\"F : \" + str(resultDout.count(\"F\")))"
   ]
  },
  {
   "cell_type": "code",
   "execution_count": 40,
   "metadata": {},
   "outputs": [],
   "source": [
    "dftmp = pd.DataFrame(columns=[\"M\",\"F\"])\n",
    "dftmp[\"F\"] = [resultDout.count(\"F\")]\n",
    "dftmp[\"M\"] = [resultDout.count(\"M\")]"
   ]
  },
  {
   "cell_type": "code",
   "execution_count": 45,
   "metadata": {},
   "outputs": [
    {
     "data": {
      "image/png": "[encoded data removed]",
      "text/plain": [
       "<Figure size 432x288 with 1 Axes>"
      ]
     },
     "metadata": {
      "needs_background": "light"
     },
     "output_type": "display_data"
    }
   ],
   "source": [
    "ax = dftmp.plot(kind=\"bar\")\n",
    "plt.title(\"Classification in the data of Lattes - doctorate degree\")\n",
    "plt.grid('True')\n",
    "plt.xlabel('Quantity')\n",
    "x_offset = -0.05\n",
    "y_offset = 2.5\n",
    "for p in ax.patches:\n",
    "    b = p.get_bbox()\n",
    "    val = \"{:.0f}\".format(b.y1 + b.y0)        \n",
    "    ax.annotate(val, ((b.x0 + b.x1)/2 + x_offset, b.y1 + y_offset))"
   ]
  },
  {
   "cell_type": "code",
   "execution_count": null,
   "metadata": {},
   "outputs": [],
   "source": []
  }
 ],
 "metadata": {
  "interpreter": {
   "hash": "220b603fe3acd03c081b61a7257cab69f1e9b8ffefa534554547a53f2dc45d6d"
  },
  "kernelspec": {
   "display_name": "Python 3.8.8 64-bit ('base': conda)",
   "language": "python",
   "name": "python3"
  },
  "language_info": {
   "codemirror_mode": {
    "name": "ipython",
    "version": 3
   },
   "file_extension": ".py",
   "mimetype": "text/x-python",
   "name": "python",
   "nbconvert_exporter": "python",
   "pygments_lexer": "ipython3",
   "version": "3.8.8"
  },
  "orig_nbformat": 4
 },
 "nbformat": 4,
 "nbformat_minor": 2
}
