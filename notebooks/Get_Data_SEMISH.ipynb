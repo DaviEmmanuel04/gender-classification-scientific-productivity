{
 "cells": [
  {
   "cell_type": "markdown",
   "metadata": {},
   "source": [
    "# Bot for data collection in SEMISH"
   ]
  },
  {
   "cell_type": "markdown",
   "metadata": {},
   "source": [
    "## Necessary libraries"
   ]
  },
  {
   "cell_type": "code",
   "execution_count": 1,
   "metadata": {
    "id": "GWsp4GUNEkJ3"
   },
   "outputs": [],
   "source": [
    "import requests\n",
    "from bs4 import BeautifulSoup\n",
    "import pandas as pd\n",
    "from unidecode import unidecode"
   ]
  },
  {
   "cell_type": "markdown",
   "metadata": {},
   "source": [
    "## Bot"
   ]
  },
  {
   "cell_type": "code",
   "execution_count": 3,
   "metadata": {
    "id": "XE03Pn87L5v3"
   },
   "outputs": [],
   "source": [
    "def getData(url):\n",
    "    resposta = requests.get(url)\n",
    "    content = resposta.content\n",
    "    \n",
    "    site = BeautifulSoup(content, 'html.parser')\n",
    "    \n",
    "    authors = site.findAll('div', attrs={'class': 'authors'})\n",
    "    title = site.findAll('div', attrs={'class': 'title'})\n",
    "\n",
    "    return treatmentData(authors, title)\n",
    "\n",
    "def treatmentData(authors, title):\n",
    "    autores = list(x.text[4:len(x)-4:].split(\",\") for x in authors)\n",
    "    titulos = list(x.text[5:len(x)-7:] for x in title)\n",
    "    \n",
    "    tmp1 = [] #Lista de titulos\n",
    "    tmp2 = [] #Lista de autores\n",
    "    tmp3 = [] #Lista de primeiros nomes\n",
    "    \n",
    "    for autor, titulo in zip(autores, titulos):\n",
    "        tmp3 += [x.split(\" \")[0] if x.split(\" \")[0] != '' else x.split(\" \")[1] for x in autor]\n",
    "        tmp2 += autor\n",
    "        tmp1 += ((titulo+\",,\")*len(autor)).split(\",,\")[:-1:]\n",
    "    \n",
    "    df = pd.DataFrame({\"Autor\":tmp2, \"Primeiro Nome\":tmp3,  \"Titulos\":tmp1})\n",
    "\n",
    "    return df"
   ]
  },
  {
   "cell_type": "markdown",
   "metadata": {},
   "source": [
    "## Analysis of results"
   ]
  },
  {
   "cell_type": "code",
   "execution_count": 5,
   "metadata": {
    "colab": {
     "base_uri": "https://localhost:8080/",
     "height": 204
    },
    "id": "GcuZyICRMgyZ",
    "outputId": "bfbab352-f5e9-49f9-abfc-42e9a9455e83"
   },
   "outputs": [
    {
     "data": {
      "text/html": [
       "<div>\n",
       "<style scoped>\n",
       "    .dataframe tbody tr th:only-of-type {\n",
       "        vertical-align: middle;\n",
       "    }\n",
       "\n",
       "    .dataframe tbody tr th {\n",
       "        vertical-align: top;\n",
       "    }\n",
       "\n",
       "    .dataframe thead th {\n",
       "        text-align: right;\n",
       "    }\n",
       "</style>\n",
       "<table border=\"1\" class=\"dataframe\">\n",
       "  <thead>\n",
       "    <tr style=\"text-align: right;\">\n",
       "      <th></th>\n",
       "      <th>Autor</th>\n",
       "      <th>Primeiro Nome</th>\n",
       "      <th>Titulos</th>\n",
       "    </tr>\n",
       "  </thead>\n",
       "  <tbody>\n",
       "    <tr>\n",
       "      <th>0</th>\n",
       "      <td>Jean Moraes</td>\n",
       "      <td>Jean</td>\n",
       "      <td>Implementação de um cluster Kubernetes com a p...</td>\n",
       "    </tr>\n",
       "    <tr>\n",
       "      <th>1</th>\n",
       "      <td>Elen Lobato</td>\n",
       "      <td>Elen</td>\n",
       "      <td>Implementação de um cluster Kubernetes com a p...</td>\n",
       "    </tr>\n",
       "    <tr>\n",
       "      <th>2</th>\n",
       "      <td>Denis Rosário</td>\n",
       "      <td>Denis</td>\n",
       "      <td>Implementação de um cluster Kubernetes com a p...</td>\n",
       "    </tr>\n",
       "    <tr>\n",
       "      <th>3</th>\n",
       "      <td>Ubiratan Bezerra</td>\n",
       "      <td>Ubiratan</td>\n",
       "      <td>Implementação de um cluster Kubernetes com a p...</td>\n",
       "    </tr>\n",
       "    <tr>\n",
       "      <th>4</th>\n",
       "      <td>Eduardo Cerqueira</td>\n",
       "      <td>Eduardo</td>\n",
       "      <td>Implementação de um cluster Kubernetes com a p...</td>\n",
       "    </tr>\n",
       "  </tbody>\n",
       "</table>\n",
       "</div>"
      ],
      "text/plain": [
       "                Autor Primeiro Nome  \\\n",
       "0         Jean Moraes          Jean   \n",
       "1         Elen Lobato          Elen   \n",
       "2       Denis Rosário         Denis   \n",
       "3    Ubiratan Bezerra      Ubiratan   \n",
       "4   Eduardo Cerqueira       Eduardo   \n",
       "\n",
       "                                             Titulos  \n",
       "0  Implementação de um cluster Kubernetes com a p...  \n",
       "1  Implementação de um cluster Kubernetes com a p...  \n",
       "2  Implementação de um cluster Kubernetes com a p...  \n",
       "3  Implementação de um cluster Kubernetes com a p...  \n",
       "4  Implementação de um cluster Kubernetes com a p...  "
      ]
     },
     "execution_count": 5,
     "metadata": {},
     "output_type": "execute_result"
    }
   ],
   "source": [
    "data2021 = getData('https://sol.sbc.org.br/index.php/semish/issue/view/760')\n",
    "data2021.to_csv(r'../data-from-SEMISH/data2021.csv', encoding='utf-8', index=False)\n",
    "data2021.head()"
   ]
  },
  {
   "cell_type": "code",
   "execution_count": 6,
   "metadata": {
    "colab": {
     "base_uri": "https://localhost:8080/",
     "height": 204
    },
    "id": "rQvHe0YZNaKS",
    "outputId": "b6df709e-ab58-458a-c434-10a3e3fcd32c"
   },
   "outputs": [
    {
     "data": {
      "text/html": [
       "<div>\n",
       "<style scoped>\n",
       "    .dataframe tbody tr th:only-of-type {\n",
       "        vertical-align: middle;\n",
       "    }\n",
       "\n",
       "    .dataframe tbody tr th {\n",
       "        vertical-align: top;\n",
       "    }\n",
       "\n",
       "    .dataframe thead th {\n",
       "        text-align: right;\n",
       "    }\n",
       "</style>\n",
       "<table border=\"1\" class=\"dataframe\">\n",
       "  <thead>\n",
       "    <tr style=\"text-align: right;\">\n",
       "      <th></th>\n",
       "      <th>Autor</th>\n",
       "      <th>Primeiro Nome</th>\n",
       "      <th>Titulos</th>\n",
       "    </tr>\n",
       "  </thead>\n",
       "  <tbody>\n",
       "    <tr>\n",
       "      <th>0</th>\n",
       "      <td>André Pinheiro</td>\n",
       "      <td>André</td>\n",
       "      <td>O que Acontece após um Hackathon? Um Estudo Em...</td>\n",
       "    </tr>\n",
       "    <tr>\n",
       "      <th>1</th>\n",
       "      <td>Cleidson   de Souza</td>\n",
       "      <td>Cleidson</td>\n",
       "      <td>O que Acontece após um Hackathon? Um Estudo Em...</td>\n",
       "    </tr>\n",
       "    <tr>\n",
       "      <th>2</th>\n",
       "      <td>Nelson   Tenório Jr.</td>\n",
       "      <td>Nelson</td>\n",
       "      <td>O que Acontece após um Hackathon? Um Estudo Em...</td>\n",
       "    </tr>\n",
       "    <tr>\n",
       "      <th>3</th>\n",
       "      <td>Fernando   Figueira Filho</td>\n",
       "      <td>Fernando</td>\n",
       "      <td>O que Acontece após um Hackathon? Um Estudo Em...</td>\n",
       "    </tr>\n",
       "    <tr>\n",
       "      <th>4</th>\n",
       "      <td>Leandro   de Almeida Melo</td>\n",
       "      <td>Leandro</td>\n",
       "      <td>O que Acontece após um Hackathon? Um Estudo Em...</td>\n",
       "    </tr>\n",
       "  </tbody>\n",
       "</table>\n",
       "</div>"
      ],
      "text/plain": [
       "                        Autor Primeiro Nome  \\\n",
       "0              André Pinheiro         André   \n",
       "1         Cleidson   de Souza      Cleidson   \n",
       "2        Nelson   Tenório Jr.        Nelson   \n",
       "3   Fernando   Figueira Filho      Fernando   \n",
       "4   Leandro   de Almeida Melo       Leandro   \n",
       "\n",
       "                                             Titulos  \n",
       "0  O que Acontece após um Hackathon? Um Estudo Em...  \n",
       "1  O que Acontece após um Hackathon? Um Estudo Em...  \n",
       "2  O que Acontece após um Hackathon? Um Estudo Em...  \n",
       "3  O que Acontece após um Hackathon? Um Estudo Em...  \n",
       "4  O que Acontece após um Hackathon? Um Estudo Em...  "
      ]
     },
     "execution_count": 6,
     "metadata": {},
     "output_type": "execute_result"
    }
   ],
   "source": [
    "data2020 = getData('https://sol.sbc.org.br/index.php/semish/issue/view/596')\n",
    "data2020.to_csv(r'Data/data2020.csv', encoding='utf-8', index=False)\n",
    "data2020.head()"
   ]
  },
  {
   "cell_type": "code",
   "execution_count": 7,
   "metadata": {
    "colab": {
     "base_uri": "https://localhost:8080/",
     "height": 204
    },
    "id": "mGrZuxNQNdJM",
    "outputId": "c74ac550-a474-4a46-fb0f-60f14d1a246e"
   },
   "outputs": [
    {
     "data": {
      "text/html": [
       "<div>\n",
       "<style scoped>\n",
       "    .dataframe tbody tr th:only-of-type {\n",
       "        vertical-align: middle;\n",
       "    }\n",
       "\n",
       "    .dataframe tbody tr th {\n",
       "        vertical-align: top;\n",
       "    }\n",
       "\n",
       "    .dataframe thead th {\n",
       "        text-align: right;\n",
       "    }\n",
       "</style>\n",
       "<table border=\"1\" class=\"dataframe\">\n",
       "  <thead>\n",
       "    <tr style=\"text-align: right;\">\n",
       "      <th></th>\n",
       "      <th>Autor</th>\n",
       "      <th>Primeiro Nome</th>\n",
       "      <th>Titulos</th>\n",
       "    </tr>\n",
       "  </thead>\n",
       "  <tbody>\n",
       "    <tr>\n",
       "      <th>0</th>\n",
       "      <td>Rodolfo Azevedo</td>\n",
       "      <td>Rodolfo</td>\n",
       "      <td>Abertura do XLVI Seminário Integrado de Softwa...</td>\n",
       "    </tr>\n",
       "    <tr>\n",
       "      <th>1</th>\n",
       "      <td>Adailton Lima</td>\n",
       "      <td>Adailton</td>\n",
       "      <td>Abertura do XLVI Seminário Integrado de Softwa...</td>\n",
       "    </tr>\n",
       "    <tr>\n",
       "      <th>2</th>\n",
       "      <td>Fabiane Cristina Altino</td>\n",
       "      <td>Fabiane</td>\n",
       "      <td>Indiccalex: áreas do saber a serviço do estudo...</td>\n",
       "    </tr>\n",
       "    <tr>\n",
       "      <th>3</th>\n",
       "      <td>Celciane Alves  Vasconcelos</td>\n",
       "      <td>Celciane</td>\n",
       "      <td>Indiccalex: áreas do saber a serviço do estudo...</td>\n",
       "    </tr>\n",
       "    <tr>\n",
       "      <th>4</th>\n",
       "      <td>Cinthyan Renata Sachs C. de Barbosa</td>\n",
       "      <td>Cinthyan</td>\n",
       "      <td>Indiccalex: áreas do saber a serviço do estudo...</td>\n",
       "    </tr>\n",
       "  </tbody>\n",
       "</table>\n",
       "</div>"
      ],
      "text/plain": [
       "                                  Autor Primeiro Nome  \\\n",
       "0                       Rodolfo Azevedo       Rodolfo   \n",
       "1                         Adailton Lima      Adailton   \n",
       "2               Fabiane Cristina Altino       Fabiane   \n",
       "3           Celciane Alves  Vasconcelos      Celciane   \n",
       "4   Cinthyan Renata Sachs C. de Barbosa      Cinthyan   \n",
       "\n",
       "                                             Titulos  \n",
       "0  Abertura do XLVI Seminário Integrado de Softwa...  \n",
       "1  Abertura do XLVI Seminário Integrado de Softwa...  \n",
       "2  Indiccalex: áreas do saber a serviço do estudo...  \n",
       "3  Indiccalex: áreas do saber a serviço do estudo...  \n",
       "4  Indiccalex: áreas do saber a serviço do estudo...  "
      ]
     },
     "execution_count": 7,
     "metadata": {},
     "output_type": "execute_result"
    }
   ],
   "source": [
    "data2019 = getData('https://sol.sbc.org.br/index.php/semish/issue/view/396')\n",
    "data2019.to_csv(r'../data-from-SEMISH//data2019.csv', encoding='utf-8', index=False)\n",
    "data2019.head()"
   ]
  },
  {
   "cell_type": "code",
   "execution_count": 8,
   "metadata": {
    "colab": {
     "base_uri": "https://localhost:8080/",
     "height": 204
    },
    "id": "8o_rWlQ6NhUD",
    "outputId": "5366c577-103d-4f3c-eb06-f8d9df0653d6"
   },
   "outputs": [
    {
     "data": {
      "text/html": [
       "<div>\n",
       "<style scoped>\n",
       "    .dataframe tbody tr th:only-of-type {\n",
       "        vertical-align: middle;\n",
       "    }\n",
       "\n",
       "    .dataframe tbody tr th {\n",
       "        vertical-align: top;\n",
       "    }\n",
       "\n",
       "    .dataframe thead th {\n",
       "        text-align: right;\n",
       "    }\n",
       "</style>\n",
       "<table border=\"1\" class=\"dataframe\">\n",
       "  <thead>\n",
       "    <tr style=\"text-align: right;\">\n",
       "      <th></th>\n",
       "      <th>Autor</th>\n",
       "      <th>Primeiro Nome</th>\n",
       "      <th>Titulos</th>\n",
       "    </tr>\n",
       "  </thead>\n",
       "  <tbody>\n",
       "    <tr>\n",
       "      <th>0</th>\n",
       "      <td>José Marcos Silva Nogueira</td>\n",
       "      <td>José</td>\n",
       "      <td>Abertura do XXVI Workshop sobre Educação em Co...</td>\n",
       "    </tr>\n",
       "    <tr>\n",
       "      <th>1</th>\n",
       "      <td>Carla Marina C. Paxiúba</td>\n",
       "      <td>Carla</td>\n",
       "      <td>Cara de Aprender - Uma Ferramenta para Trabalh...</td>\n",
       "    </tr>\n",
       "    <tr>\n",
       "      <th>2</th>\n",
       "      <td>Celson Pantoja Lima</td>\n",
       "      <td>Celson</td>\n",
       "      <td>Cara de Aprender - Uma Ferramenta para Trabalh...</td>\n",
       "    </tr>\n",
       "    <tr>\n",
       "      <th>3</th>\n",
       "      <td>Marcelo de Souza Júnior</td>\n",
       "      <td>Marcelo</td>\n",
       "      <td>Rumo à Melhoria de Produtividade e Sustentabil...</td>\n",
       "    </tr>\n",
       "    <tr>\n",
       "      <th>4</th>\n",
       "      <td>Rafael S. Bressan</td>\n",
       "      <td>Rafael</td>\n",
       "      <td>Rumo à Melhoria de Produtividade e Sustentabil...</td>\n",
       "    </tr>\n",
       "  </tbody>\n",
       "</table>\n",
       "</div>"
      ],
      "text/plain": [
       "                        Autor Primeiro Nome  \\\n",
       "0  José Marcos Silva Nogueira          José   \n",
       "1     Carla Marina C. Paxiúba         Carla   \n",
       "2         Celson Pantoja Lima        Celson   \n",
       "3     Marcelo de Souza Júnior       Marcelo   \n",
       "4           Rafael S. Bressan        Rafael   \n",
       "\n",
       "                                             Titulos  \n",
       "0  Abertura do XXVI Workshop sobre Educação em Co...  \n",
       "1  Cara de Aprender - Uma Ferramenta para Trabalh...  \n",
       "2  Cara de Aprender - Uma Ferramenta para Trabalh...  \n",
       "3  Rumo à Melhoria de Produtividade e Sustentabil...  \n",
       "4  Rumo à Melhoria de Produtividade e Sustentabil...  "
      ]
     },
     "execution_count": 8,
     "metadata": {},
     "output_type": "execute_result"
    }
   ],
   "source": [
    "data2018 = getData('https://sol.sbc.org.br/index.php/semish/issue/view/212')\n",
    "data2018.to_csv(r'../data-from-SEMISH//data2018.csv', encoding='utf-8', index=False)\n",
    "data2018.head()"
   ]
  },
  {
   "cell_type": "code",
   "execution_count": null,
   "metadata": {
    "id": "NemXFWpACh2D"
   },
   "outputs": [],
   "source": [
    "data = [data2021, data2020, data2019, data2018]\n",
    "keys = [2021, 2020, 2019, 2018]\n",
    "dfData = pd.concat(data, keys=keys).reset_index(level=0)\n",
    "dfData.rename(columns={'level_0': 'Ano'}, inplace=True)\n",
    "dfData.reset_index(drop=True, inplace=True)"
   ]
  },
  {
   "cell_type": "code",
   "execution_count": null,
   "metadata": {
    "colab": {
     "base_uri": "https://localhost:8080/",
     "height": 419
    },
    "id": "QBXWLwKhEVJw",
    "outputId": "c6864706-4262-4f16-a321-7ea46990a916"
   },
   "outputs": [
    {
     "data": {
      "text/html": [
       "<div>\n",
       "<style scoped>\n",
       "    .dataframe tbody tr th:only-of-type {\n",
       "        vertical-align: middle;\n",
       "    }\n",
       "\n",
       "    .dataframe tbody tr th {\n",
       "        vertical-align: top;\n",
       "    }\n",
       "\n",
       "    .dataframe thead th {\n",
       "        text-align: right;\n",
       "    }\n",
       "</style>\n",
       "<table border=\"1\" class=\"dataframe\">\n",
       "  <thead>\n",
       "    <tr style=\"text-align: right;\">\n",
       "      <th></th>\n",
       "      <th>Ano</th>\n",
       "      <th>Autor</th>\n",
       "      <th>Primeiro Nome</th>\n",
       "      <th>Titulos</th>\n",
       "    </tr>\n",
       "  </thead>\n",
       "  <tbody>\n",
       "    <tr>\n",
       "      <th>0</th>\n",
       "      <td>2021</td>\n",
       "      <td>Jean Moraes</td>\n",
       "      <td>Jean</td>\n",
       "      <td>Implementação de um cluster Kubernetes com a p...</td>\n",
       "    </tr>\n",
       "    <tr>\n",
       "      <th>1</th>\n",
       "      <td>2021</td>\n",
       "      <td>Elen Lobato</td>\n",
       "      <td>Elen</td>\n",
       "      <td>Implementação de um cluster Kubernetes com a p...</td>\n",
       "    </tr>\n",
       "    <tr>\n",
       "      <th>2</th>\n",
       "      <td>2021</td>\n",
       "      <td>Denis Rosário</td>\n",
       "      <td>Denis</td>\n",
       "      <td>Implementação de um cluster Kubernetes com a p...</td>\n",
       "    </tr>\n",
       "    <tr>\n",
       "      <th>3</th>\n",
       "      <td>2021</td>\n",
       "      <td>Ubiratan Bezerra</td>\n",
       "      <td>Ubiratan</td>\n",
       "      <td>Implementação de um cluster Kubernetes com a p...</td>\n",
       "    </tr>\n",
       "    <tr>\n",
       "      <th>4</th>\n",
       "      <td>2021</td>\n",
       "      <td>Eduardo Cerqueira</td>\n",
       "      <td>Eduardo</td>\n",
       "      <td>Implementação de um cluster Kubernetes com a p...</td>\n",
       "    </tr>\n",
       "    <tr>\n",
       "      <th>...</th>\n",
       "      <td>...</td>\n",
       "      <td>...</td>\n",
       "      <td>...</td>\n",
       "      <td>...</td>\n",
       "    </tr>\n",
       "    <tr>\n",
       "      <th>329</th>\n",
       "      <td>2018</td>\n",
       "      <td>Karen Torres Teixeira</td>\n",
       "      <td>Karen</td>\n",
       "      <td>Extração de dados de fontes textuais: uma abor...</td>\n",
       "    </tr>\n",
       "    <tr>\n",
       "      <th>330</th>\n",
       "      <td>2018</td>\n",
       "      <td>Maria Luiza Machado Campos</td>\n",
       "      <td>Maria</td>\n",
       "      <td>Extração de dados de fontes textuais: uma abor...</td>\n",
       "    </tr>\n",
       "    <tr>\n",
       "      <th>331</th>\n",
       "      <td>2018</td>\n",
       "      <td>João C. P. da Silva</td>\n",
       "      <td>João</td>\n",
       "      <td>Extração de dados de fontes textuais: uma abor...</td>\n",
       "    </tr>\n",
       "    <tr>\n",
       "      <th>332</th>\n",
       "      <td>2018</td>\n",
       "      <td>Paulo L. S. Brizolara</td>\n",
       "      <td>Paulo</td>\n",
       "      <td>Sustentabilidade de Foto-memórias na Era Digit...</td>\n",
       "    </tr>\n",
       "    <tr>\n",
       "      <th>333</th>\n",
       "      <td>2018</td>\n",
       "      <td>Leonardo Cunha de Miranda</td>\n",
       "      <td>Leonardo</td>\n",
       "      <td>Sustentabilidade de Foto-memórias na Era Digit...</td>\n",
       "    </tr>\n",
       "  </tbody>\n",
       "</table>\n",
       "<p>334 rows × 4 columns</p>\n",
       "</div>"
      ],
      "text/plain": [
       "      Ano  ...                                            Titulos\n",
       "0    2021  ...  Implementação de um cluster Kubernetes com a p...\n",
       "1    2021  ...  Implementação de um cluster Kubernetes com a p...\n",
       "2    2021  ...  Implementação de um cluster Kubernetes com a p...\n",
       "3    2021  ...  Implementação de um cluster Kubernetes com a p...\n",
       "4    2021  ...  Implementação de um cluster Kubernetes com a p...\n",
       "..    ...  ...                                                ...\n",
       "329  2018  ...  Extração de dados de fontes textuais: uma abor...\n",
       "330  2018  ...  Extração de dados de fontes textuais: uma abor...\n",
       "331  2018  ...  Extração de dados de fontes textuais: uma abor...\n",
       "332  2018  ...  Sustentabilidade de Foto-memórias na Era Digit...\n",
       "333  2018  ...  Sustentabilidade de Foto-memórias na Era Digit...\n",
       "\n",
       "[334 rows x 4 columns]"
      ]
     },
     "execution_count": 12,
     "metadata": {},
     "output_type": "execute_result"
    }
   ],
   "source": [
    "dfData.to_csv(r'../data-from-SEMISH//dataSEMISH.csv', encoding='utf-8', index=False)\n",
    "dfData"
   ]
  }
 ],
 "metadata": {
  "colab": {
   "collapsed_sections": [],
   "name": "Dados.ipynb",
   "provenance": []
  },
  "kernelspec": {
   "display_name": "Python 3",
   "language": "python",
   "name": "python3"
  },
  "language_info": {
   "codemirror_mode": {
    "name": "ipython",
    "version": 3
   },
   "file_extension": ".py",
   "mimetype": "text/x-python",
   "name": "python",
   "nbconvert_exporter": "python",
   "pygments_lexer": "ipython3",
   "version": "3.8.8"
  }
 },
 "nbformat": 4,
 "nbformat_minor": 2
}
